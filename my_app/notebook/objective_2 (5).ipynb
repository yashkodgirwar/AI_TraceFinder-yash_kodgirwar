{
  "nbformat": 4,
  "nbformat_minor": 0,
  "metadata": {
    "colab": {
      "provenance": []
    },
    "kernelspec": {
      "name": "python3",
      "display_name": "Python 3"
    },
    "language_info": {
      "name": "python"
    }
  },
  "cells": [
    {
      "cell_type": "code",
      "source": [
        "from google.colab import drive\n",
        "drive.mount('/content/drive')"
      ],
      "metadata": {
        "colab": {
          "base_uri": "https://localhost:8080/"
        },
        "id": "hJB5mrhyi3Gm",
        "outputId": "19e753eb-dab6-4728-8189-906f6fb4210c"
      },
      "execution_count": null,
      "outputs": [
        {
          "output_type": "stream",
          "name": "stdout",
          "text": [
            "Mounted at /content/drive\n"
          ]
        }
      ]
    },
    {
      "cell_type": "code",
      "source": [
        "\n",
        "import os\n",
        "import pandas as pd\n",
        "\n",
        "DATASET_PATH = \"/content/drive/MyDrive/dataset/Tampered images\"\n",
        "\n",
        "records = []\n",
        "\n",
        "for label, folder in [(0, \"Original\"), (1, \"Tampered\")]:\n",
        "    folder_path = os.path.join(DATASET_PATH, folder)\n",
        "    for root, _, files in os.walk(folder_path):\n",
        "        for f in files:\n",
        "            if f.lower().endswith((\".jpg\", \".jpeg\", \".png\", \".tif\")):\n",
        "                records.append({\n",
        "                    \"filepath\": os.path.join(root, f),\n",
        "                    \"label\": label\n",
        "                })\n",
        "\n",
        "df_tamper = pd.DataFrame(records)\n",
        "print(df_tamper.head())\n",
        "print(\"\\nTotal images:\", len(df_tamper))\n",
        "print(\"Original count:\", (df_tamper['label']==0).sum())\n",
        "print(\"Tampered count:\", (df_tamper['label']==1).sum())\n"
      ],
      "metadata": {
        "colab": {
          "base_uri": "https://localhost:8080/"
        },
        "id": "lG6_KwNQa-V3",
        "outputId": "71a37d45-09be-4583-aa82-903a65e58918"
      },
      "execution_count": null,
      "outputs": [
        {
          "output_type": "stream",
          "name": "stdout",
          "text": [
            "                                            filepath  label\n",
            "0  /content/drive/MyDrive/dataset/Tampered images...      0\n",
            "1  /content/drive/MyDrive/dataset/Tampered images...      0\n",
            "2  /content/drive/MyDrive/dataset/Tampered images...      0\n",
            "3  /content/drive/MyDrive/dataset/Tampered images...      0\n",
            "4  /content/drive/MyDrive/dataset/Tampered images...      0\n",
            "\n",
            "Total images: 169\n",
            "Original count: 34\n",
            "Tampered count: 135\n"
          ]
        }
      ]
    },
    {
      "cell_type": "code",
      "source": [
        "import seaborn as sns\n",
        "import matplotlib.pyplot as plt\n",
        "\n",
        "plt.figure(figsize=(6,4))\n",
        "sns.countplot(x=\"label\", data=df_tamper, palette=\"Set2\")\n",
        "plt.xticks([0,1], [\"Original\", \"Tampered\"])\n",
        "plt.title(\"Original vs Tampered Image Distribution\")\n",
        "plt.show()\n"
      ],
      "metadata": {
        "colab": {
          "base_uri": "https://localhost:8080/",
          "height": 497
        },
        "id": "AixJZjosbKm4",
        "outputId": "a2c30c86-d69e-449c-d5e6-f2fc544e48b6"
      },
      "execution_count": null,
      "outputs": [
        {
          "output_type": "stream",
          "name": "stderr",
          "text": [
            "/tmp/ipython-input-540087892.py:5: FutureWarning: \n",
            "\n",
            "Passing `palette` without assigning `hue` is deprecated and will be removed in v0.14.0. Assign the `x` variable to `hue` and set `legend=False` for the same effect.\n",
            "\n",
            "  sns.countplot(x=\"label\", data=df_tamper, palette=\"Set2\")\n"
          ]
        },
        {
          "output_type": "display_data",
          "data": {
            "text/plain": [
              "<Figure size 600x400 with 1 Axes>"
            ],
            "image/png": "[encoded data removed]"
          },
          "metadata": {}
        }
      ]
    },
    {
      "cell_type": "code",
      "source": [
        "# ================================\n",
        "# Objective 2: Tampered Detection\n",
        "# ================================\n",
        "\n",
        "import os, cv2\n",
        "import numpy as np\n",
        "import pandas as pd\n",
        "from sklearn.model_selection import train_test_split\n",
        "import tensorflow as tf\n",
        "from tensorflow import keras\n",
        "from tensorflow.keras import layers\n",
        "\n",
        "# -------------------------------\n",
        "# 1. Dataset Paths\n",
        "# -------------------------------\n",
        "DATASET_PATH = \"/content/drive/MyDrive/dataset/Tampered images\"\n",
        "\n",
        "records = []\n",
        "for label, folder in [(0, \"Original\"), (1, \"Tampered\")]:\n",
        "    folder_path = os.path.join(DATASET_PATH, folder)\n",
        "    if not os.path.exists(folder_path):\n",
        "        print(f\"⚠️ Folder not found: {folder_path}\")\n",
        "        continue\n",
        "    for root, _, files in os.walk(folder_path):\n",
        "        for f in files:\n",
        "            if f.lower().endswith((\".jpg\", \".jpeg\", \".png\", \".tif\")):\n",
        "                records.append({\n",
        "                    \"filepath\": os.path.join(root, f),\n",
        "                    \"label\": label\n",
        "                })\n",
        "\n",
        "df_tamper = pd.DataFrame(records)\n",
        "print(\"✅ Dataset loaded:\", len(df_tamper), \"images\")\n",
        "print(\"Original:\", (df_tamper['label']==0).sum(), \" Tampered:\", (df_tamper['label']==1).sum())\n",
        "\n",
        "# -------------------------------\n",
        "# 2. Train-Test Split\n",
        "# -------------------------------\n",
        "train_df, test_df = train_test_split(\n",
        "    df_tamper, test_size=0.2, random_state=42, stratify=df_tamper['label']\n",
        ")\n",
        "\n",
        "# -------------------------------\n",
        "# 3. Preprocessing\n",
        "# -------------------------------\n",
        "IMG_SIZE = 128\n",
        "\n",
        "def preprocess_image(filepath):\n",
        "    img = cv2.imread(filepath, cv2.IMREAD_GRAYSCALE)  # grayscale\n",
        "    img = cv2.resize(img, (IMG_SIZE, IMG_SIZE))\n",
        "    img = img.astype(\"float32\") / 255.0\n",
        "    return np.expand_dims(img, axis=-1)   # (128,128,1)\n",
        "\n",
        "X_train = np.array([preprocess_image(f) for f in train_df['filepath']])\n",
        "y_train = np.array(train_df['label'].tolist())\n",
        "\n",
        "X_test  = np.array([preprocess_image(f) for f in test_df['filepath']])\n",
        "y_test  = np.array(test_df['label'].tolist())\n",
        "\n",
        "print(\"Train:\", X_train.shape, y_train.shape, \" Test:\", X_test.shape, y_test.shape)\n",
        "\n",
        "# -------------------------------\n",
        "# 4. CNN Model\n",
        "# -------------------------------\n",
        "model = keras.Sequential([\n",
        "    layers.Conv2D(32, (3,3), activation=\"relu\", input_shape=(IMG_SIZE, IMG_SIZE, 1)),\n",
        "    layers.MaxPooling2D((2,2)),\n",
        "    layers.Conv2D(64, (3,3), activation=\"relu\"),\n",
        "    layers.MaxPooling2D((2,2)),\n",
        "    layers.Conv2D(128, (3,3), activation=\"relu\"),\n",
        "    layers.GlobalAveragePooling2D(),\n",
        "    layers.Dense(64, activation=\"relu\"),\n",
        "    layers.Dropout(0.3),\n",
        "    layers.Dense(1, activation=\"sigmoid\")  # binary output\n",
        "])\n",
        "\n",
        "model.compile(optimizer=\"adam\", loss=\"binary_crossentropy\", metrics=[\"accuracy\"])\n",
        "model.summary()\n",
        "\n",
        "# -------------------------------\n",
        "# 5. Training\n",
        "# -------------------------------\n",
        "history = model.fit(\n",
        "    X_train, y_train,\n",
        "    validation_data=(X_test, y_test),\n",
        "    epochs=20,\n",
        "    batch_size=32,\n",
        "    callbacks=[keras.callbacks.EarlyStopping(patience=3, restore_best_weights=True)]\n",
        ")\n",
        "\n",
        "# -------------------------------\n",
        "# 6. Evaluation + Save\n",
        "# -------------------------------\n",
        "loss, acc = model.evaluate(X_test, y_test)\n",
        "print(f\"✅ Test Accuracy: {acc*100:.2f}%\")\n",
        "\n",
        "SAVE_PATH = \"/content/drive/MyDrive/Objective2/tampered_cnn.keras\"\n",
        "model.save(SAVE_PATH)\n",
        "print(\"💾 Model saved to:\", SAVE_PATH)\n"
      ],
      "metadata": {
        "colab": {
          "base_uri": "https://localhost:8080/",
          "height": 1000
        },
        "id": "oNeyWVhwmXK8",
        "outputId": "9d7331cf-2cac-4cb7-cd1f-f5e965395062"
      },
      "execution_count": null,
      "outputs": [
        {
          "output_type": "stream",
          "name": "stdout",
          "text": [
            "✅ Dataset loaded: 169 images\n",
            "Original: 34  Tampered: 135\n",
            "Train: (135, 128, 128, 1) (135,)  Test: (34, 128, 128, 1) (34,)\n"
          ]
        },
        {
          "output_type": "stream",
          "name": "stderr",
          "text": [
            "/usr/local/lib/python3.12/dist-packages/keras/src/layers/convolutional/base_conv.py:113: UserWarning: Do not pass an `input_shape`/`input_dim` argument to a layer. When using Sequential models, prefer using an `Input(shape)` object as the first layer in the model instead.\n",
            "  super().__init__(activity_regularizer=activity_regularizer, **kwargs)\n"
          ]
        },
        {
          "output_type": "display_data",
          "data": {
            "text/plain": [
              "\u001b[1mModel: \"sequential_1\"\u001b[0m\n"
            ],
            "text/html": [
              "<pre style=\"white-space:pre;overflow-x:auto;line-height:normal;font-family:Menlo,'DejaVu Sans Mono',consolas,'Courier New',monospace\"><span style=\"font-weight: bold\">Model: \"sequential_1\"</span>\n",
              "</pre>\n"
            ]
          },
          "metadata": {}
        },
        {
          "output_type": "display_data",
          "data": {
            "text/plain": [
              "┏━━━━━━━━━━━━━━━━━━━━━━━━━━━━━━━━━┳━━━━━━━━━━━━━━━━━━━━━━━━┳━━━━━━━━━━━━━━━┓\n",
              "┃\u001b[1m \u001b[0m\u001b[1mLayer (type)                   \u001b[0m\u001b[1m \u001b[0m┃\u001b[1m \u001b[0m\u001b[1mOutput Shape          \u001b[0m\u001b[1m \u001b[0m┃\u001b[1m \u001b[0m\u001b[1m      Param #\u001b[0m\u001b[1m \u001b[0m┃\n",
              "┡━━━━━━━━━━━━━━━━━━━━━━━━━━━━━━━━━╇━━━━━━━━━━━━━━━━━━━━━━━━╇━━━━━━━━━━━━━━━┩\n",
              "│ conv2d_3 (\u001b[38;5;33mConv2D\u001b[0m)               │ (\u001b[38;5;45mNone\u001b[0m, \u001b[38;5;34m126\u001b[0m, \u001b[38;5;34m126\u001b[0m, \u001b[38;5;34m32\u001b[0m)   │           \u001b[38;5;34m320\u001b[0m │\n",
              "├─────────────────────────────────┼────────────────────────┼───────────────┤\n",
              "│ max_pooling2d_2 (\u001b[38;5;33mMaxPooling2D\u001b[0m)  │ (\u001b[38;5;45mNone\u001b[0m, \u001b[38;5;34m63\u001b[0m, \u001b[38;5;34m63\u001b[0m, \u001b[38;5;34m32\u001b[0m)     │             \u001b[38;5;34m0\u001b[0m │\n",
              "├─────────────────────────────────┼────────────────────────┼───────────────┤\n",
              "│ conv2d_4 (\u001b[38;5;33mConv2D\u001b[0m)               │ (\u001b[38;5;45mNone\u001b[0m, \u001b[38;5;34m61\u001b[0m, \u001b[38;5;34m61\u001b[0m, \u001b[38;5;34m64\u001b[0m)     │        \u001b[38;5;34m18,496\u001b[0m │\n",
              "├─────────────────────────────────┼────────────────────────┼───────────────┤\n",
              "│ max_pooling2d_3 (\u001b[38;5;33mMaxPooling2D\u001b[0m)  │ (\u001b[38;5;45mNone\u001b[0m, \u001b[38;5;34m30\u001b[0m, \u001b[38;5;34m30\u001b[0m, \u001b[38;5;34m64\u001b[0m)     │             \u001b[38;5;34m0\u001b[0m │\n",
              "├─────────────────────────────────┼────────────────────────┼───────────────┤\n",
              "│ conv2d_5 (\u001b[38;5;33mConv2D\u001b[0m)               │ (\u001b[38;5;45mNone\u001b[0m, \u001b[38;5;34m28\u001b[0m, \u001b[38;5;34m28\u001b[0m, \u001b[38;5;34m128\u001b[0m)    │        \u001b[38;5;34m73,856\u001b[0m │\n",
              "├─────────────────────────────────┼────────────────────────┼───────────────┤\n",
              "│ global_average_pooling2d_1      │ (\u001b[38;5;45mNone\u001b[0m, \u001b[38;5;34m128\u001b[0m)            │             \u001b[38;5;34m0\u001b[0m │\n",
              "│ (\u001b[38;5;33mGlobalAveragePooling2D\u001b[0m)        │                        │               │\n",
              "├─────────────────────────────────┼────────────────────────┼───────────────┤\n",
              "│ dense_2 (\u001b[38;5;33mDense\u001b[0m)                 │ (\u001b[38;5;45mNone\u001b[0m, \u001b[38;5;34m64\u001b[0m)             │         \u001b[38;5;34m8,256\u001b[0m │\n",
              "├─────────────────────────────────┼────────────────────────┼───────────────┤\n",
              "│ dropout_1 (\u001b[38;5;33mDropout\u001b[0m)             │ (\u001b[38;5;45mNone\u001b[0m, \u001b[38;5;34m64\u001b[0m)             │             \u001b[38;5;34m0\u001b[0m │\n",
              "├─────────────────────────────────┼────────────────────────┼───────────────┤\n",
              "│ dense_3 (\u001b[38;5;33mDense\u001b[0m)                 │ (\u001b[38;5;45mNone\u001b[0m, \u001b[38;5;34m1\u001b[0m)              │            \u001b[38;5;34m65\u001b[0m │\n",
              "└─────────────────────────────────┴────────────────────────┴───────────────┘\n"
            ],
            "text/html": [
              "<pre style=\"white-space:pre;overflow-x:auto;line-height:normal;font-family:Menlo,'DejaVu Sans Mono',consolas,'Courier New',monospace\">┏━━━━━━━━━━━━━━━━━━━━━━━━━━━━━━━━━┳━━━━━━━━━━━━━━━━━━━━━━━━┳━━━━━━━━━━━━━━━┓\n",
              "┃<span style=\"font-weight: bold\"> Layer (type)                    </span>┃<span style=\"font-weight: bold\"> Output Shape           </span>┃<span style=\"font-weight: bold\">       Param # </span>┃\n",
              "┡━━━━━━━━━━━━━━━━━━━━━━━━━━━━━━━━━╇━━━━━━━━━━━━━━━━━━━━━━━━╇━━━━━━━━━━━━━━━┩\n",
              "│ conv2d_3 (<span style=\"color: #0087ff; text-decoration-color: #0087ff\">Conv2D</span>)               │ (<span style=\"color: #00d7ff; text-decoration-color: #00d7ff\">None</span>, <span style=\"color: #00af00; text-decoration-color: #00af00\">126</span>, <span style=\"color: #00af00; text-decoration-color: #00af00\">126</span>, <span style=\"color: #00af00; text-decoration-color: #00af00\">32</span>)   │           <span style=\"color: #00af00; text-decoration-color: #00af00\">320</span> │\n",
              "├─────────────────────────────────┼────────────────────────┼───────────────┤\n",
              "│ max_pooling2d_2 (<span style=\"color: #0087ff; text-decoration-color: #0087ff\">MaxPooling2D</span>)  │ (<span style=\"color: #00d7ff; text-decoration-color: #00d7ff\">None</span>, <span style=\"color: #00af00; text-decoration-color: #00af00\">63</span>, <span style=\"color: #00af00; text-decoration-color: #00af00\">63</span>, <span style=\"color: #00af00; text-decoration-color: #00af00\">32</span>)     │             <span style=\"color: #00af00; text-decoration-color: #00af00\">0</span> │\n",
              "├─────────────────────────────────┼────────────────────────┼───────────────┤\n",
              "│ conv2d_4 (<span style=\"color: #0087ff; text-decoration-color: #0087ff\">Conv2D</span>)               │ (<span style=\"color: #00d7ff; text-decoration-color: #00d7ff\">None</span>, <span style=\"color: #00af00; text-decoration-color: #00af00\">61</span>, <span style=\"color: #00af00; text-decoration-color: #00af00\">61</span>, <span style=\"color: #00af00; text-decoration-color: #00af00\">64</span>)     │        <span style=\"color: #00af00; text-decoration-color: #00af00\">18,496</span> │\n",
              "├─────────────────────────────────┼────────────────────────┼───────────────┤\n",
              "│ max_pooling2d_3 (<span style=\"color: #0087ff; text-decoration-color: #0087ff\">MaxPooling2D</span>)  │ (<span style=\"color: #00d7ff; text-decoration-color: #00d7ff\">None</span>, <span style=\"color: #00af00; text-decoration-color: #00af00\">30</span>, <span style=\"color: #00af00; text-decoration-color: #00af00\">30</span>, <span style=\"color: #00af00; text-decoration-color: #00af00\">64</span>)     │             <span style=\"color: #00af00; text-decoration-color: #00af00\">0</span> │\n",
              "├─────────────────────────────────┼────────────────────────┼───────────────┤\n",
              "│ conv2d_5 (<span style=\"color: #0087ff; text-decoration-color: #0087ff\">Conv2D</span>)               │ (<span style=\"color: #00d7ff; text-decoration-color: #00d7ff\">None</span>, <span style=\"color: #00af00; text-decoration-color: #00af00\">28</span>, <span style=\"color: #00af00; text-decoration-color: #00af00\">28</span>, <span style=\"color: #00af00; text-decoration-color: #00af00\">128</span>)    │        <span style=\"color: #00af00; text-decoration-color: #00af00\">73,856</span> │\n",
              "├─────────────────────────────────┼────────────────────────┼───────────────┤\n",
              "│ global_average_pooling2d_1      │ (<span style=\"color: #00d7ff; text-decoration-color: #00d7ff\">None</span>, <span style=\"color: #00af00; text-decoration-color: #00af00\">128</span>)            │             <span style=\"color: #00af00; text-decoration-color: #00af00\">0</span> │\n",
              "│ (<span style=\"color: #0087ff; text-decoration-color: #0087ff\">GlobalAveragePooling2D</span>)        │                        │               │\n",
              "├─────────────────────────────────┼────────────────────────┼───────────────┤\n",
              "│ dense_2 (<span style=\"color: #0087ff; text-decoration-color: #0087ff\">Dense</span>)                 │ (<span style=\"color: #00d7ff; text-decoration-color: #00d7ff\">None</span>, <span style=\"color: #00af00; text-decoration-color: #00af00\">64</span>)             │         <span style=\"color: #00af00; text-decoration-color: #00af00\">8,256</span> │\n",
              "├─────────────────────────────────┼────────────────────────┼───────────────┤\n",
              "│ dropout_1 (<span style=\"color: #0087ff; text-decoration-color: #0087ff\">Dropout</span>)             │ (<span style=\"color: #00d7ff; text-decoration-color: #00d7ff\">None</span>, <span style=\"color: #00af00; text-decoration-color: #00af00\">64</span>)             │             <span style=\"color: #00af00; text-decoration-color: #00af00\">0</span> │\n",
              "├─────────────────────────────────┼────────────────────────┼───────────────┤\n",
              "│ dense_3 (<span style=\"color: #0087ff; text-decoration-color: #0087ff\">Dense</span>)                 │ (<span style=\"color: #00d7ff; text-decoration-color: #00d7ff\">None</span>, <span style=\"color: #00af00; text-decoration-color: #00af00\">1</span>)              │            <span style=\"color: #00af00; text-decoration-color: #00af00\">65</span> │\n",
              "└─────────────────────────────────┴────────────────────────┴───────────────┘\n",
              "</pre>\n"
            ]
          },
          "metadata": {}
        },
        {
          "output_type": "display_data",
          "data": {
            "text/plain": [
              "\u001b[1m Total params: \u001b[0m\u001b[38;5;34m100,993\u001b[0m (394.50 KB)\n"
            ],
            "text/html": [
              "<pre style=\"white-space:pre;overflow-x:auto;line-height:normal;font-family:Menlo,'DejaVu Sans Mono',consolas,'Courier New',monospace\"><span style=\"font-weight: bold\"> Total params: </span><span style=\"color: #00af00; text-decoration-color: #00af00\">100,993</span> (394.50 KB)\n",
              "</pre>\n"
            ]
          },
          "metadata": {}
        },
        {
          "output_type": "display_data",
          "data": {
            "text/plain": [
              "\u001b[1m Trainable params: \u001b[0m\u001b[38;5;34m100,993\u001b[0m (394.50 KB)\n"
            ],
            "text/html": [
              "<pre style=\"white-space:pre;overflow-x:auto;line-height:normal;font-family:Menlo,'DejaVu Sans Mono',consolas,'Courier New',monospace\"><span style=\"font-weight: bold\"> Trainable params: </span><span style=\"color: #00af00; text-decoration-color: #00af00\">100,993</span> (394.50 KB)\n",
              "</pre>\n"
            ]
          },
          "metadata": {}
        },
        {
          "output_type": "display_data",
          "data": {
            "text/plain": [
              "\u001b[1m Non-trainable params: \u001b[0m\u001b[38;5;34m0\u001b[0m (0.00 B)\n"
            ],
            "text/html": [
              "<pre style=\"white-space:pre;overflow-x:auto;line-height:normal;font-family:Menlo,'DejaVu Sans Mono',consolas,'Courier New',monospace\"><span style=\"font-weight: bold\"> Non-trainable params: </span><span style=\"color: #00af00; text-decoration-color: #00af00\">0</span> (0.00 B)\n",
              "</pre>\n"
            ]
          },
          "metadata": {}
        },
        {
          "output_type": "stream",
          "name": "stdout",
          "text": [
            "Epoch 1/20\n",
            "\u001b[1m5/5\u001b[0m \u001b[32m━━━━━━━━━━━━━━━━━━━━\u001b[0m\u001b[37m\u001b[0m \u001b[1m6s\u001b[0m 750ms/step - accuracy: 0.7153 - loss: 0.6425 - val_accuracy: 0.7941 - val_loss: 0.5574\n",
            "Epoch 2/20\n",
            "\u001b[1m5/5\u001b[0m \u001b[32m━━━━━━━━━━━━━━━━━━━━\u001b[0m\u001b[37m\u001b[0m \u001b[1m6s\u001b[0m 977ms/step - accuracy: 0.7949 - loss: 0.5566 - val_accuracy: 0.7941 - val_loss: 0.5839\n",
            "Epoch 3/20\n",
            "\u001b[1m5/5\u001b[0m \u001b[32m━━━━━━━━━━━━━━━━━━━━\u001b[0m\u001b[37m\u001b[0m \u001b[1m4s\u001b[0m 687ms/step - accuracy: 0.7914 - loss: 0.5527 - val_accuracy: 0.7941 - val_loss: 0.5410\n",
            "Epoch 4/20\n",
            "\u001b[1m5/5\u001b[0m \u001b[32m━━━━━━━━━━━━━━━━━━━━\u001b[0m\u001b[37m\u001b[0m \u001b[1m5s\u001b[0m 762ms/step - accuracy: 0.7832 - loss: 0.5251 - val_accuracy: 0.7941 - val_loss: 0.5248\n",
            "Epoch 5/20\n",
            "\u001b[1m5/5\u001b[0m \u001b[32m━━━━━━━━━━━━━━━━━━━━\u001b[0m\u001b[37m\u001b[0m \u001b[1m7s\u001b[0m 1s/step - accuracy: 0.8248 - loss: 0.4624 - val_accuracy: 0.7941 - val_loss: 0.5040\n",
            "Epoch 6/20\n",
            "\u001b[1m5/5\u001b[0m \u001b[32m━━━━━━━━━━━━━━━━━━━━\u001b[0m\u001b[37m\u001b[0m \u001b[1m4s\u001b[0m 709ms/step - accuracy: 0.8148 - loss: 0.4652 - val_accuracy: 0.7941 - val_loss: 0.4875\n",
            "Epoch 7/20\n",
            "\u001b[1m5/5\u001b[0m \u001b[32m━━━━━━━━━━━━━━━━━━━━\u001b[0m\u001b[37m\u001b[0m \u001b[1m5s\u001b[0m 700ms/step - accuracy: 0.8062 - loss: 0.4791 - val_accuracy: 0.7941 - val_loss: 0.4853\n",
            "Epoch 8/20\n",
            "\u001b[1m5/5\u001b[0m \u001b[32m━━━━━━━━━━━━━━━━━━━━\u001b[0m\u001b[37m\u001b[0m \u001b[1m5s\u001b[0m 1s/step - accuracy: 0.7636 - loss: 0.5794 - val_accuracy: 0.7941 - val_loss: 0.4752\n",
            "Epoch 9/20\n",
            "\u001b[1m5/5\u001b[0m \u001b[32m━━━━━━━━━━━━━━━━━━━━\u001b[0m\u001b[37m\u001b[0m \u001b[1m4s\u001b[0m 672ms/step - accuracy: 0.7806 - loss: 0.4847 - val_accuracy: 0.7941 - val_loss: 0.4835\n",
            "Epoch 10/20\n",
            "\u001b[1m5/5\u001b[0m \u001b[32m━━━━━━━━━━━━━━━━━━━━\u001b[0m\u001b[37m\u001b[0m \u001b[1m5s\u001b[0m 678ms/step - accuracy: 0.8157 - loss: 0.4518 - val_accuracy: 0.7941 - val_loss: 0.4725\n",
            "Epoch 11/20\n",
            "\u001b[1m5/5\u001b[0m \u001b[32m━━━━━━━━━━━━━━━━━━━━\u001b[0m\u001b[37m\u001b[0m \u001b[1m4s\u001b[0m 818ms/step - accuracy: 0.7936 - loss: 0.4926 - val_accuracy: 0.7941 - val_loss: 0.4743\n",
            "Epoch 12/20\n",
            "\u001b[1m5/5\u001b[0m \u001b[32m━━━━━━━━━━━━━━━━━━━━\u001b[0m\u001b[37m\u001b[0m \u001b[1m5s\u001b[0m 673ms/step - accuracy: 0.7997 - loss: 0.4884 - val_accuracy: 0.7941 - val_loss: 0.4709\n",
            "Epoch 13/20\n",
            "\u001b[1m5/5\u001b[0m \u001b[32m━━━━━━━━━━━━━━━━━━━━\u001b[0m\u001b[37m\u001b[0m \u001b[1m4s\u001b[0m 725ms/step - accuracy: 0.7641 - loss: 0.5141 - val_accuracy: 0.7941 - val_loss: 0.4756\n",
            "Epoch 14/20\n",
            "\u001b[1m5/5\u001b[0m \u001b[32m━━━━━━━━━━━━━━━━━━━━\u001b[0m\u001b[37m\u001b[0m \u001b[1m4s\u001b[0m 696ms/step - accuracy: 0.7953 - loss: 0.4690 - val_accuracy: 0.7941 - val_loss: 0.4839\n",
            "Epoch 15/20\n",
            "\u001b[1m5/5\u001b[0m \u001b[32m━━━━━━━━━━━━━━━━━━━━\u001b[0m\u001b[37m\u001b[0m \u001b[1m6s\u001b[0m 1s/step - accuracy: 0.8014 - loss: 0.4638 - val_accuracy: 0.7941 - val_loss: 0.4845\n",
            "\u001b[1m2/2\u001b[0m \u001b[32m━━━━━━━━━━━━━━━━━━━━\u001b[0m\u001b[37m\u001b[0m \u001b[1m0s\u001b[0m 37ms/step - accuracy: 0.7898 - loss: 0.4774 \n",
            "✅ Test Accuracy: 79.41%\n"
          ]
        },
        {
          "output_type": "error",
          "ename": "FileNotFoundError",
          "evalue": "[Errno 2] No such file or directory: '/content/drive/MyDrive/Objective2/tampered_cnn.keras'",
          "traceback": [
            "\u001b[0;31m---------------------------------------------------------------------------\u001b[0m",
            "\u001b[0;31mFileNotFoundError\u001b[0m                         Traceback (most recent call last)",
            "\u001b[0;32m/tmp/ipython-input-1792080332.py\u001b[0m in \u001b[0;36m<cell line: 0>\u001b[0;34m()\u001b[0m\n\u001b[1;32m     96\u001b[0m \u001b[0;34m\u001b[0m\u001b[0m\n\u001b[1;32m     97\u001b[0m \u001b[0mSAVE_PATH\u001b[0m \u001b[0;34m=\u001b[0m \u001b[0;34m\"/content/drive/MyDrive/Objective2/tampered_cnn.keras\"\u001b[0m\u001b[0;34m\u001b[0m\u001b[0;34m\u001b[0m\u001b[0m\n\u001b[0;32m---> 98\u001b[0;31m \u001b[0mmodel\u001b[0m\u001b[0;34m.\u001b[0m\u001b[0msave\u001b[0m\u001b[0;34m(\u001b[0m\u001b[0mSAVE_PATH\u001b[0m\u001b[0;34m)\u001b[0m\u001b[0;34m\u001b[0m\u001b[0;34m\u001b[0m\u001b[0m\n\u001b[0m\u001b[1;32m     99\u001b[0m \u001b[0mprint\u001b[0m\u001b[0;34m(\u001b[0m\u001b[0;34m\"💾 Model saved to:\"\u001b[0m\u001b[0;34m,\u001b[0m \u001b[0mSAVE_PATH\u001b[0m\u001b[0;34m)\u001b[0m\u001b[0;34m\u001b[0m\u001b[0;34m\u001b[0m\u001b[0m\n",
            "\u001b[0;32m/usr/local/lib/python3.12/dist-packages/keras/src/utils/traceback_utils.py\u001b[0m in \u001b[0;36merror_handler\u001b[0;34m(*args, **kwargs)\u001b[0m\n\u001b[1;32m    120\u001b[0m             \u001b[0;31m# To get the full stack trace, call:\u001b[0m\u001b[0;34m\u001b[0m\u001b[0;34m\u001b[0m\u001b[0m\n\u001b[1;32m    121\u001b[0m             \u001b[0;31m# `keras.config.disable_traceback_filtering()`\u001b[0m\u001b[0;34m\u001b[0m\u001b[0;34m\u001b[0m\u001b[0m\n\u001b[0;32m--> 122\u001b[0;31m             \u001b[0;32mraise\u001b[0m \u001b[0me\u001b[0m\u001b[0;34m.\u001b[0m\u001b[0mwith_traceback\u001b[0m\u001b[0;34m(\u001b[0m\u001b[0mfiltered_tb\u001b[0m\u001b[0;34m)\u001b[0m \u001b[0;32mfrom\u001b[0m \u001b[0;32mNone\u001b[0m\u001b[0;34m\u001b[0m\u001b[0;34m\u001b[0m\u001b[0m\n\u001b[0m\u001b[1;32m    123\u001b[0m         \u001b[0;32mfinally\u001b[0m\u001b[0;34m:\u001b[0m\u001b[0;34m\u001b[0m\u001b[0;34m\u001b[0m\u001b[0m\n\u001b[1;32m    124\u001b[0m             \u001b[0;32mdel\u001b[0m \u001b[0mfiltered_tb\u001b[0m\u001b[0;34m\u001b[0m\u001b[0;34m\u001b[0m\u001b[0m\n",
            "\u001b[0;32m/usr/local/lib/python3.12/dist-packages/keras/src/saving/saving_lib.py\u001b[0m in \u001b[0;36msave_model\u001b[0;34m(model, filepath, weights_format, zipped)\u001b[0m\n\u001b[1;32m    144\u001b[0m                 \u001b[0mf\u001b[0m\u001b[0;34m.\u001b[0m\u001b[0mwrite\u001b[0m\u001b[0;34m(\u001b[0m\u001b[0mzip_filepath\u001b[0m\u001b[0;34m.\u001b[0m\u001b[0mgetvalue\u001b[0m\u001b[0;34m(\u001b[0m\u001b[0;34m)\u001b[0m\u001b[0;34m)\u001b[0m\u001b[0;34m\u001b[0m\u001b[0;34m\u001b[0m\u001b[0m\n\u001b[1;32m    145\u001b[0m         \u001b[0;32melse\u001b[0m\u001b[0;34m:\u001b[0m\u001b[0;34m\u001b[0m\u001b[0;34m\u001b[0m\u001b[0m\n\u001b[0;32m--> 146\u001b[0;31m             \u001b[0;32mwith\u001b[0m \u001b[0mopen\u001b[0m\u001b[0;34m(\u001b[0m\u001b[0mfilepath\u001b[0m\u001b[0;34m,\u001b[0m \u001b[0;34m\"wb\"\u001b[0m\u001b[0;34m)\u001b[0m \u001b[0;32mas\u001b[0m \u001b[0mf\u001b[0m\u001b[0;34m:\u001b[0m\u001b[0;34m\u001b[0m\u001b[0;34m\u001b[0m\u001b[0m\n\u001b[0m\u001b[1;32m    147\u001b[0m                 \u001b[0m_save_model_to_fileobj\u001b[0m\u001b[0;34m(\u001b[0m\u001b[0mmodel\u001b[0m\u001b[0;34m,\u001b[0m \u001b[0mf\u001b[0m\u001b[0;34m,\u001b[0m \u001b[0mweights_format\u001b[0m\u001b[0;34m)\u001b[0m\u001b[0;34m\u001b[0m\u001b[0;34m\u001b[0m\u001b[0m\n\u001b[1;32m    148\u001b[0m \u001b[0;34m\u001b[0m\u001b[0m\n",
            "\u001b[0;31mFileNotFoundError\u001b[0m: [Errno 2] No such file or directory: '/content/drive/MyDrive/Objective2/tampered_cnn.keras'"
          ]
        }
      ]
    },
    {
      "cell_type": "code",
      "source": [
        "import os\n",
        "\n",
        "SAVE_DIR = \"/content/drive/MyDrive/Objective2\"\n",
        "os.makedirs(SAVE_DIR, exist_ok=True)   # 🔹 create folder if not exists\n",
        "\n",
        "SAVE_PATH = os.path.join(SAVE_DIR, \"tampered_cnn.keras\")\n",
        "model.save(SAVE_PATH)\n",
        "\n",
        "print(\"💾 Model saved to:\", SAVE_PATH)\n"
      ],
      "metadata": {
        "colab": {
          "base_uri": "https://localhost:8080/"
        },
        "id": "9RmFEmlknfK4",
        "outputId": "a54c8cd3-c915-4339-ca92-3eeddb6aa0f2"
      },
      "execution_count": null,
      "outputs": [
        {
          "output_type": "stream",
          "name": "stdout",
          "text": [
            "💾 Model saved to: /content/drive/MyDrive/Objective2/tampered_cnn.keras\n"
          ]
        }
      ]
    },
    {
      "cell_type": "code",
      "source": [
        "# 🔹 Predictions\n",
        "y_pred_probs = model.predict(X_test)\n",
        "y_pred = np.argmax(y_pred_probs, axis=1)\n",
        "\n",
        "# Agar y_test one-hot nahi hai toh direct use karo\n",
        "y_true = y_test\n",
        "\n",
        "# 🔹 Classification Report\n",
        "from sklearn.metrics import classification_report, confusion_matrix\n",
        "import seaborn as sns\n",
        "import matplotlib.pyplot as plt\n",
        "\n",
        "print(\"📊 Classification Report:\\n\")\n",
        "print(classification_report(y_true, y_pred, target_names=[\"Original\", \"Tampered\"]))\n",
        "\n",
        "# 🔹 Confusion Matrix\n",
        "cm = confusion_matrix(y_true, y_pred)\n",
        "plt.figure(figsize=(6,5))\n",
        "sns.heatmap(cm, annot=True, fmt=\"d\", cmap=\"Blues\",\n",
        "            xticklabels=[\"Original\", \"Tampered\"],\n",
        "            yticklabels=[\"Original\", \"Tampered\"])\n",
        "plt.xlabel(\"Predicted\")\n",
        "plt.ylabel(\"True\")\n",
        "plt.title(\"Confusion Matrix - Tampered CNN\")\n",
        "plt.show()\n",
        "\n",
        "# 🔹 Final Accuracy\n",
        "acc = np.mean(y_true == y_pred) * 100\n",
        "print(f\"✅ Final Test Accuracy: {acc:.2f}%\")\n"
      ],
      "metadata": {
        "colab": {
          "base_uri": "https://localhost:8080/",
          "height": 837
        },
        "id": "9rsZ9dC5okVR",
        "outputId": "4ba3848d-b34e-40c9-ac57-7d9c350c6865"
      },
      "execution_count": null,
      "outputs": [
        {
          "output_type": "stream",
          "name": "stdout",
          "text": [
            "\u001b[1m2/2\u001b[0m \u001b[32m━━━━━━━━━━━━━━━━━━━━\u001b[0m\u001b[37m\u001b[0m \u001b[1m0s\u001b[0m 34ms/step \n",
            "📊 Classification Report:\n",
            "\n",
            "              precision    recall  f1-score   support\n",
            "\n",
            "    Original       0.21      1.00      0.34         7\n",
            "    Tampered       0.00      0.00      0.00        27\n",
            "\n",
            "    accuracy                           0.21        34\n",
            "   macro avg       0.10      0.50      0.17        34\n",
            "weighted avg       0.04      0.21      0.07        34\n",
            "\n"
          ]
        },
        {
          "output_type": "stream",
          "name": "stderr",
          "text": [
            "/usr/local/lib/python3.12/dist-packages/sklearn/metrics/_classification.py:1565: UndefinedMetricWarning: Precision is ill-defined and being set to 0.0 in labels with no predicted samples. Use `zero_division` parameter to control this behavior.\n",
            "  _warn_prf(average, modifier, f\"{metric.capitalize()} is\", len(result))\n",
            "/usr/local/lib/python3.12/dist-packages/sklearn/metrics/_classification.py:1565: UndefinedMetricWarning: Precision is ill-defined and being set to 0.0 in labels with no predicted samples. Use `zero_division` parameter to control this behavior.\n",
            "  _warn_prf(average, modifier, f\"{metric.capitalize()} is\", len(result))\n",
            "/usr/local/lib/python3.12/dist-packages/sklearn/metrics/_classification.py:1565: UndefinedMetricWarning: Precision is ill-defined and being set to 0.0 in labels with no predicted samples. Use `zero_division` parameter to control this behavior.\n",
            "  _warn_prf(average, modifier, f\"{metric.capitalize()} is\", len(result))\n"
          ]
        },
        {
          "output_type": "display_data",
          "data": {
            "text/plain": [
              "<Figure size 600x500 with 2 Axes>"
            ],
            "image/png": "[encoded data removed]"
          },
          "metadata": {}
        },
        {
          "output_type": "stream",
          "name": "stdout",
          "text": [
            "✅ Final Test Accuracy: 20.59%\n"
          ]
        }
      ]
    },
    {
      "cell_type": "code",
      "source": [
        "from sklearn.utils import class_weight\n",
        "import numpy as np\n",
        "\n",
        "class_weights = class_weight.compute_class_weight(\n",
        "    class_weight=\"balanced\",\n",
        "    classes=np.unique(y_train),\n",
        "    y=y_train\n",
        ")\n",
        "class_weights = dict(enumerate(class_weights))\n",
        "print(\"Class Weights:\", class_weights)\n",
        "\n",
        "history = model.fit(\n",
        "    X_train, y_train,\n",
        "    validation_data=(X_test, y_test),\n",
        "    epochs=30,\n",
        "    batch_size=32,\n",
        "    class_weight=class_weights\n",
        ")\n"
      ],
      "metadata": {
        "colab": {
          "base_uri": "https://localhost:8080/"
        },
        "id": "dHVycxulpjdn",
        "outputId": "e76132c5-ae05-4efa-ed91-4baba5a20817"
      },
      "execution_count": null,
      "outputs": [
        {
          "output_type": "stream",
          "name": "stdout",
          "text": [
            "Class Weights: {0: np.float64(2.5), 1: np.float64(0.625)}\n",
            "Epoch 1/30\n",
            "\u001b[1m5/5\u001b[0m \u001b[32m━━━━━━━━━━━━━━━━━━━━\u001b[0m\u001b[37m\u001b[0m \u001b[1m5s\u001b[0m 717ms/step - accuracy: 0.8135 - loss: 0.7213 - val_accuracy: 0.7941 - val_loss: 0.5115\n",
            "Epoch 2/30\n",
            "\u001b[1m5/5\u001b[0m \u001b[32m━━━━━━━━━━━━━━━━━━━━\u001b[0m\u001b[37m\u001b[0m \u001b[1m5s\u001b[0m 1s/step - accuracy: 0.8005 - loss: 0.6581 - val_accuracy: 0.7941 - val_loss: 0.5588\n",
            "Epoch 3/30\n",
            "\u001b[1m5/5\u001b[0m \u001b[32m━━━━━━━━━━━━━━━━━━━━\u001b[0m\u001b[37m\u001b[0m \u001b[1m8s\u001b[0m 672ms/step - accuracy: 0.7997 - loss: 0.6283 - val_accuracy: 0.7941 - val_loss: 0.5691\n",
            "Epoch 4/30\n",
            "\u001b[1m5/5\u001b[0m \u001b[32m━━━━━━━━━━━━━━━━━━━━\u001b[0m\u001b[37m\u001b[0m \u001b[1m6s\u001b[0m 848ms/step - accuracy: 0.6687 - loss: 0.7020 - val_accuracy: 0.6471 - val_loss: 0.5661\n",
            "Epoch 5/30\n",
            "\u001b[1m5/5\u001b[0m \u001b[32m━━━━━━━━━━━━━━━━━━━━\u001b[0m\u001b[37m\u001b[0m \u001b[1m4s\u001b[0m 669ms/step - accuracy: 0.6642 - loss: 0.6040 - val_accuracy: 0.6176 - val_loss: 0.5628\n",
            "Epoch 6/30\n",
            "\u001b[1m5/5\u001b[0m \u001b[32m━━━━━━━━━━━━━━━━━━━━\u001b[0m\u001b[37m\u001b[0m \u001b[1m5s\u001b[0m 713ms/step - accuracy: 0.5572 - loss: 0.6325 - val_accuracy: 0.5882 - val_loss: 0.5565\n",
            "Epoch 7/30\n",
            "\u001b[1m5/5\u001b[0m \u001b[32m━━━━━━━━━━━━━━━━━━━━\u001b[0m\u001b[37m\u001b[0m \u001b[1m5s\u001b[0m 670ms/step - accuracy: 0.5805 - loss: 0.6553 - val_accuracy: 0.6176 - val_loss: 0.5587\n",
            "Epoch 8/30\n",
            "\u001b[1m5/5\u001b[0m \u001b[32m━━━━━━━━━━━━━━━━━━━━\u001b[0m\u001b[37m\u001b[0m \u001b[1m5s\u001b[0m 690ms/step - accuracy: 0.5272 - loss: 0.6384 - val_accuracy: 0.6176 - val_loss: 0.5607\n",
            "Epoch 9/30\n",
            "\u001b[1m5/5\u001b[0m \u001b[32m━━━━━━━━━━━━━━━━━━━━\u001b[0m\u001b[37m\u001b[0m \u001b[1m4s\u001b[0m 829ms/step - accuracy: 0.5207 - loss: 0.5967 - val_accuracy: 0.6176 - val_loss: 0.5607\n",
            "Epoch 10/30\n",
            "\u001b[1m5/5\u001b[0m \u001b[32m━━━━━━━━━━━━━━━━━━━━\u001b[0m\u001b[37m\u001b[0m \u001b[1m5s\u001b[0m 692ms/step - accuracy: 0.5190 - loss: 0.6962 - val_accuracy: 0.5000 - val_loss: 0.5775\n",
            "Epoch 11/30\n",
            "\u001b[1m5/5\u001b[0m \u001b[32m━━━━━━━━━━━━━━━━━━━━\u001b[0m\u001b[37m\u001b[0m \u001b[1m5s\u001b[0m 679ms/step - accuracy: 0.4724 - loss: 0.6189 - val_accuracy: 0.5294 - val_loss: 0.5722\n",
            "Epoch 12/30\n",
            "\u001b[1m5/5\u001b[0m \u001b[32m━━━━━━━━━━━━━━━━━━━━\u001b[0m\u001b[37m\u001b[0m \u001b[1m7s\u001b[0m 1s/step - accuracy: 0.4929 - loss: 0.6313 - val_accuracy: 0.5000 - val_loss: 0.5777\n",
            "Epoch 13/30\n",
            "\u001b[1m5/5\u001b[0m \u001b[32m━━━━━━━━━━━━━━━━━━━━\u001b[0m\u001b[37m\u001b[0m \u001b[1m3s\u001b[0m 673ms/step - accuracy: 0.4630 - loss: 0.6156 - val_accuracy: 0.5294 - val_loss: 0.5687\n",
            "Epoch 14/30\n",
            "\u001b[1m5/5\u001b[0m \u001b[32m━━━━━━━━━━━━━━━━━━━━\u001b[0m\u001b[37m\u001b[0m \u001b[1m3s\u001b[0m 666ms/step - accuracy: 0.5356 - loss: 0.5989 - val_accuracy: 0.5294 - val_loss: 0.5678\n",
            "Epoch 15/30\n",
            "\u001b[1m5/5\u001b[0m \u001b[32m━━━━━━━━━━━━━━━━━━━━\u001b[0m\u001b[37m\u001b[0m \u001b[1m4s\u001b[0m 728ms/step - accuracy: 0.4486 - loss: 0.6182 - val_accuracy: 0.3824 - val_loss: 0.6044\n",
            "Epoch 16/30\n",
            "\u001b[1m5/5\u001b[0m \u001b[32m━━━━━━━━━━━━━━━━━━━━\u001b[0m\u001b[37m\u001b[0m \u001b[1m5s\u001b[0m 668ms/step - accuracy: 0.3635 - loss: 0.6176 - val_accuracy: 0.4118 - val_loss: 0.6187\n",
            "Epoch 17/30\n",
            "\u001b[1m5/5\u001b[0m \u001b[32m━━━━━━━━━━━━━━━━━━━━\u001b[0m\u001b[37m\u001b[0m \u001b[1m3s\u001b[0m 670ms/step - accuracy: 0.3160 - loss: 0.6088 - val_accuracy: 0.3824 - val_loss: 0.6230\n",
            "Epoch 18/30\n",
            "\u001b[1m5/5\u001b[0m \u001b[32m━━━━━━━━━━━━━━━━━━━━\u001b[0m\u001b[37m\u001b[0m \u001b[1m6s\u001b[0m 884ms/step - accuracy: 0.3337 - loss: 0.6391 - val_accuracy: 0.3824 - val_loss: 0.6226\n",
            "Epoch 19/30\n",
            "\u001b[1m5/5\u001b[0m \u001b[32m━━━━━━━━━━━━━━━━━━━━\u001b[0m\u001b[37m\u001b[0m \u001b[1m5s\u001b[0m 672ms/step - accuracy: 0.3570 - loss: 0.6263 - val_accuracy: 0.3824 - val_loss: 0.6127\n",
            "Epoch 20/30\n",
            "\u001b[1m5/5\u001b[0m \u001b[32m━━━━━━━━━━━━━━━━━━━━\u001b[0m\u001b[37m\u001b[0m \u001b[1m5s\u001b[0m 679ms/step - accuracy: 0.4044 - loss: 0.6691 - val_accuracy: 0.4412 - val_loss: 0.5962\n",
            "Epoch 21/30\n",
            "\u001b[1m5/5\u001b[0m \u001b[32m━━━━━━━━━━━━━━━━━━━━\u001b[0m\u001b[37m\u001b[0m \u001b[1m4s\u001b[0m 875ms/step - accuracy: 0.4375 - loss: 0.6203 - val_accuracy: 0.5294 - val_loss: 0.5743\n",
            "Epoch 22/30\n",
            "\u001b[1m5/5\u001b[0m \u001b[32m━━━━━━━━━━━━━━━━━━━━\u001b[0m\u001b[37m\u001b[0m \u001b[1m5s\u001b[0m 680ms/step - accuracy: 0.5063 - loss: 0.6082 - val_accuracy: 0.5882 - val_loss: 0.5715\n",
            "Epoch 23/30\n",
            "\u001b[1m5/5\u001b[0m \u001b[32m━━━━━━━━━━━━━━━━━━━━\u001b[0m\u001b[37m\u001b[0m \u001b[1m5s\u001b[0m 676ms/step - accuracy: 0.5044 - loss: 0.6071 - val_accuracy: 0.5294 - val_loss: 0.5760\n",
            "Epoch 24/30\n",
            "\u001b[1m5/5\u001b[0m \u001b[32m━━━━━━━━━━━━━━━━━━━━\u001b[0m\u001b[37m\u001b[0m \u001b[1m7s\u001b[0m 1s/step - accuracy: 0.4307 - loss: 0.5804 - val_accuracy: 0.5882 - val_loss: 0.5704\n",
            "Epoch 25/30\n",
            "\u001b[1m5/5\u001b[0m \u001b[32m━━━━━━━━━━━━━━━━━━━━\u001b[0m\u001b[37m\u001b[0m \u001b[1m9s\u001b[0m 668ms/step - accuracy: 0.5219 - loss: 0.6356 - val_accuracy: 0.5882 - val_loss: 0.5694\n",
            "Epoch 26/30\n",
            "\u001b[1m5/5\u001b[0m \u001b[32m━━━━━━━━━━━━━━━━━━━━\u001b[0m\u001b[37m\u001b[0m \u001b[1m7s\u001b[0m 967ms/step - accuracy: 0.5169 - loss: 0.6136 - val_accuracy: 0.5882 - val_loss: 0.5722\n",
            "Epoch 27/30\n",
            "\u001b[1m5/5\u001b[0m \u001b[32m━━━━━━━━━━━━━━━━━━━━\u001b[0m\u001b[37m\u001b[0m \u001b[1m9s\u001b[0m 674ms/step - accuracy: 0.4437 - loss: 0.6150 - val_accuracy: 0.4412 - val_loss: 0.5976\n",
            "Epoch 28/30\n",
            "\u001b[1m5/5\u001b[0m \u001b[32m━━━━━━━━━━━━━━━━━━━━\u001b[0m\u001b[37m\u001b[0m \u001b[1m6s\u001b[0m 791ms/step - accuracy: 0.3992 - loss: 0.6268 - val_accuracy: 0.3824 - val_loss: 0.6147\n",
            "Epoch 29/30\n",
            "\u001b[1m5/5\u001b[0m \u001b[32m━━━━━━━━━━━━━━━━━━━━\u001b[0m\u001b[37m\u001b[0m \u001b[1m4s\u001b[0m 678ms/step - accuracy: 0.3626 - loss: 0.6404 - val_accuracy: 0.3824 - val_loss: 0.6337\n",
            "Epoch 30/30\n",
            "\u001b[1m5/5\u001b[0m \u001b[32m━━━━━━━━━━━━━━━━━━━━\u001b[0m\u001b[37m\u001b[0m \u001b[1m3s\u001b[0m 674ms/step - accuracy: 0.3931 - loss: 0.6437 - val_accuracy: 0.3824 - val_loss: 0.6373\n"
          ]
        }
      ]
    },
    {
      "cell_type": "code",
      "source": [
        "pip install pdf2image\n"
      ],
      "metadata": {
        "colab": {
          "base_uri": "https://localhost:8080/"
        },
        "id": "O_fV7CF3a_so",
        "outputId": "b441f6ae-7091-41f2-d419-e63f630dc496"
      },
      "execution_count": null,
      "outputs": [
        {
          "output_type": "stream",
          "name": "stdout",
          "text": [
            "Collecting pdf2image\n",
            "  Downloading pdf2image-1.17.0-py3-none-any.whl.metadata (6.2 kB)\n",
            "Requirement already satisfied: pillow in /usr/local/lib/python3.12/dist-packages (from pdf2image) (11.3.0)\n",
            "Downloading pdf2image-1.17.0-py3-none-any.whl (11 kB)\n",
            "Installing collected packages: pdf2image\n",
            "Successfully installed pdf2image-1.17.0\n"
          ]
        }
      ]
    },
    {
      "cell_type": "code",
      "metadata": {
        "colab": {
          "base_uri": "https://localhost:8080/"
        },
        "id": "c9895a4d",
        "outputId": "99419ccd-eceb-444c-c24f-baf7df48938e"
      },
      "source": [
        "!apt-get install poppler-utils"
      ],
      "execution_count": null,
      "outputs": [
        {
          "output_type": "stream",
          "name": "stdout",
          "text": [
            "Reading package lists... Done\n",
            "Building dependency tree... Done\n",
            "Reading state information... Done\n",
            "The following NEW packages will be installed:\n",
            "  poppler-utils\n",
            "0 upgraded, 1 newly installed, 0 to remove and 38 not upgraded.\n",
            "Need to get 186 kB of archives.\n",
            "After this operation, 697 kB of additional disk space will be used.\n",
            "Get:1 http://archive.ubuntu.com/ubuntu jammy-updates/main amd64 poppler-utils amd64 22.02.0-2ubuntu0.10 [186 kB]\n",
            "Fetched 186 kB in 1s (308 kB/s)\n",
            "Selecting previously unselected package poppler-utils.\n",
            "(Reading database ... 126441 files and directories currently installed.)\n",
            "Preparing to unpack .../poppler-utils_22.02.0-2ubuntu0.10_amd64.deb ...\n",
            "Unpacking poppler-utils (22.02.0-2ubuntu0.10) ...\n",
            "Setting up poppler-utils (22.02.0-2ubuntu0.10) ...\n",
            "Processing triggers for man-db (2.10.2-1) ...\n"
          ]
        }
      ]
    },
    {
      "cell_type": "code",
      "source": [
        "from pdf2image import convert_from_path\n",
        "import os\n",
        "\n",
        "# Example ek hi PDF test ke liye\n",
        "pdf_path = \"/content/drive/MyDrive/dataset/Originals/official/25.pdf\"\n",
        "output_folder = \"/content/drive/MyDrive/dataset/ExtraOriginalTest\"\n",
        "\n",
        "os.makedirs(output_folder, exist_ok=True)\n",
        "\n",
        "# Convert PDF → Images\n",
        "pages = convert_from_path(pdf_path, dpi=200)\n",
        "\n",
        "for i, page in enumerate(pages):\n",
        "    out_file = os.path.join(output_folder, f\"25_page_{i+1}.png\")\n",
        "    page.save(out_file, \"PNG\")\n",
        "    print(\"✅ Saved:\", out_file)\n"
      ],
      "metadata": {
        "colab": {
          "base_uri": "https://localhost:8080/"
        },
        "id": "OKcMgW7GcbLv",
        "outputId": "3efd9df3-0cec-4854-8832-7718365e30ac"
      },
      "execution_count": null,
      "outputs": [
        {
          "output_type": "stream",
          "name": "stdout",
          "text": [
            "✅ Saved: /content/drive/MyDrive/dataset/ExtraOriginalTest/25_page_1.png\n"
          ]
        }
      ]
    },
    {
      "cell_type": "code",
      "source": [
        "import os\n",
        "import shutil\n",
        "from pdf2image import convert_from_path\n",
        "\n",
        "# Input folders\n",
        "official_dir = \"/content/drive/MyDrive/dataset/Originals/official\"\n",
        "wiki_dir = \"/content/drive/MyDrive/dataset/Originals/wikipedia\"\n",
        "\n",
        "# Output folder\n",
        "extra_original_dir = \"/content/drive/MyDrive/dataset/ExtraOriginal\"\n",
        "os.makedirs(extra_original_dir, exist_ok=True)\n",
        "\n",
        "# Helper function to convert PDF → Images\n",
        "def convert_pdf_to_images(pdf_path, out_dir, prefix):\n",
        "    try:\n",
        "        pages = convert_from_path(pdf_path, dpi=200)  # dpi=200 for good quality\n",
        "        for i, page in enumerate(pages):\n",
        "            out_file = os.path.join(out_dir, f\"{prefix}_page_{i+1}.png\")\n",
        "            page.save(out_file, \"PNG\")\n",
        "        print(f\"✅ Converted: {pdf_path}\")\n",
        "    except Exception as e:\n",
        "        print(f\"❌ Error in {pdf_path}: {e}\")\n",
        "\n",
        "# Process Official PDFs\n",
        "for file in os.listdir(official_dir):\n",
        "    if file.lower().endswith(\".pdf\"):\n",
        "        pdf_path = os.path.join(official_dir, file)\n",
        "        prefix = os.path.splitext(file)[0]\n",
        "        convert_pdf_to_images(pdf_path, extra_original_dir, f\"official_{prefix}\")\n",
        "\n",
        "# Process Wikipedia PDFs\n",
        "for file in os.listdir(wiki_dir):\n",
        "    if file.lower().endswith(\".pdf\"):\n",
        "        pdf_path = os.path.join(wiki_dir, file)\n",
        "        prefix = os.path.splitext(file)[0]\n",
        "        convert_pdf_to_images(pdf_path, extra_original_dir, f\"wiki_{prefix}\")\n",
        "\n",
        "print(\"\\n🎯 All PDFs processed! Check ExtraOriginal folder.\")\n"
      ],
      "metadata": {
        "colab": {
          "base_uri": "https://localhost:8080/"
        },
        "id": "ZIoTL41Ldvur",
        "outputId": "551a2e2d-1c87-4c1b-8bf1-aa3c50c0a1be"
      },
      "execution_count": null,
      "outputs": [
        {
          "output_type": "stream",
          "name": "stdout",
          "text": [
            "✅ Converted: /content/drive/MyDrive/dataset/Originals/official/9.pdf\n",
            "✅ Converted: /content/drive/MyDrive/dataset/Originals/official/7.pdf\n",
            "✅ Converted: /content/drive/MyDrive/dataset/Originals/official/11.pdf\n",
            "✅ Converted: /content/drive/MyDrive/dataset/Originals/official/13.pdf\n",
            "✅ Converted: /content/drive/MyDrive/dataset/Originals/official/5.pdf\n",
            "✅ Converted: /content/drive/MyDrive/dataset/Originals/official/6.pdf\n",
            "✅ Converted: /content/drive/MyDrive/dataset/Originals/official/16.pdf\n",
            "✅ Converted: /content/drive/MyDrive/dataset/Originals/official/8.pdf\n",
            "✅ Converted: /content/drive/MyDrive/dataset/Originals/official/15.pdf\n",
            "✅ Converted: /content/drive/MyDrive/dataset/Originals/official/18.pdf\n",
            "✅ Converted: /content/drive/MyDrive/dataset/Originals/official/19.pdf\n",
            "✅ Converted: /content/drive/MyDrive/dataset/Originals/official/20.pdf\n",
            "✅ Converted: /content/drive/MyDrive/dataset/Originals/official/21.pdf\n",
            "✅ Converted: /content/drive/MyDrive/dataset/Originals/official/22.pdf\n",
            "✅ Converted: /content/drive/MyDrive/dataset/Originals/official/23.pdf\n",
            "✅ Converted: /content/drive/MyDrive/dataset/Originals/official/24.pdf\n",
            "✅ Converted: /content/drive/MyDrive/dataset/Originals/official/25.pdf\n",
            "✅ Converted: /content/drive/MyDrive/dataset/Originals/official/26.pdf\n",
            "✅ Converted: /content/drive/MyDrive/dataset/Originals/official/1.pdf\n",
            "✅ Converted: /content/drive/MyDrive/dataset/Originals/official/2.pdf\n",
            "✅ Converted: /content/drive/MyDrive/dataset/Originals/official/3.pdf\n",
            "✅ Converted: /content/drive/MyDrive/dataset/Originals/official/4.pdf\n",
            "✅ Converted: /content/drive/MyDrive/dataset/Originals/official/10.pdf\n",
            "✅ Converted: /content/drive/MyDrive/dataset/Originals/official/12.pdf\n",
            "✅ Converted: /content/drive/MyDrive/dataset/Originals/official/14.pdf\n",
            "✅ Converted: /content/drive/MyDrive/dataset/Originals/official/17.pdf\n",
            "✅ Converted: /content/drive/MyDrive/dataset/Originals/official/27.pdf\n",
            "✅ Converted: /content/drive/MyDrive/dataset/Originals/official/28.pdf\n",
            "✅ Converted: /content/drive/MyDrive/dataset/Originals/official/29.pdf\n",
            "✅ Converted: /content/drive/MyDrive/dataset/Originals/official/30.pdf\n",
            "✅ Converted: /content/drive/MyDrive/dataset/Originals/official/31.pdf\n",
            "✅ Converted: /content/drive/MyDrive/dataset/Originals/official/32.pdf\n",
            "✅ Converted: /content/drive/MyDrive/dataset/Originals/official/33.pdf\n",
            "✅ Converted: /content/drive/MyDrive/dataset/Originals/official/34.pdf\n",
            "✅ Converted: /content/drive/MyDrive/dataset/Originals/official/35.pdf\n",
            "✅ Converted: /content/drive/MyDrive/dataset/Originals/official/36.pdf\n",
            "✅ Converted: /content/drive/MyDrive/dataset/Originals/official/37.pdf\n",
            "✅ Converted: /content/drive/MyDrive/dataset/Originals/official/38.pdf\n",
            "✅ Converted: /content/drive/MyDrive/dataset/Originals/official/39.pdf\n",
            "✅ Converted: /content/drive/MyDrive/dataset/Originals/official/40.pdf\n",
            "✅ Converted: /content/drive/MyDrive/dataset/Originals/official/41.pdf\n",
            "✅ Converted: /content/drive/MyDrive/dataset/Originals/official/42.pdf\n",
            "✅ Converted: /content/drive/MyDrive/dataset/Originals/official/43.pdf\n",
            "✅ Converted: /content/drive/MyDrive/dataset/Originals/official/44.pdf\n",
            "✅ Converted: /content/drive/MyDrive/dataset/Originals/official/45.pdf\n",
            "✅ Converted: /content/drive/MyDrive/dataset/Originals/official/47.pdf\n",
            "✅ Converted: /content/drive/MyDrive/dataset/Originals/official/48.pdf\n",
            "✅ Converted: /content/drive/MyDrive/dataset/Originals/official/49.pdf\n",
            "✅ Converted: /content/drive/MyDrive/dataset/Originals/official/46.pdf\n",
            "✅ Converted: /content/drive/MyDrive/dataset/Originals/official/50.pdf\n",
            "✅ Converted: /content/drive/MyDrive/dataset/Originals/official/52.pdf\n",
            "✅ Converted: /content/drive/MyDrive/dataset/Originals/official/51.pdf\n",
            "✅ Converted: /content/drive/MyDrive/dataset/Originals/official/53.pdf\n",
            "✅ Converted: /content/drive/MyDrive/dataset/Originals/official/54.pdf\n",
            "✅ Converted: /content/drive/MyDrive/dataset/Originals/official/55.pdf\n",
            "✅ Converted: /content/drive/MyDrive/dataset/Originals/official/56.pdf\n",
            "✅ Converted: /content/drive/MyDrive/dataset/Originals/official/57.pdf\n",
            "✅ Converted: /content/drive/MyDrive/dataset/Originals/official/58.pdf\n",
            "✅ Converted: /content/drive/MyDrive/dataset/Originals/official/59.pdf\n",
            "✅ Converted: /content/drive/MyDrive/dataset/Originals/official/60.pdf\n",
            "✅ Converted: /content/drive/MyDrive/dataset/Originals/official/61.pdf\n",
            "✅ Converted: /content/drive/MyDrive/dataset/Originals/official/62.pdf\n",
            "✅ Converted: /content/drive/MyDrive/dataset/Originals/official/63.pdf\n",
            "✅ Converted: /content/drive/MyDrive/dataset/Originals/official/64.pdf\n",
            "✅ Converted: /content/drive/MyDrive/dataset/Originals/official/65.pdf\n",
            "✅ Converted: /content/drive/MyDrive/dataset/Originals/official/66.pdf\n",
            "✅ Converted: /content/drive/MyDrive/dataset/Originals/official/67.pdf\n",
            "✅ Converted: /content/drive/MyDrive/dataset/Originals/official/70.pdf\n",
            "✅ Converted: /content/drive/MyDrive/dataset/Originals/official/71.pdf\n",
            "✅ Converted: /content/drive/MyDrive/dataset/Originals/official/72.pdf\n",
            "✅ Converted: /content/drive/MyDrive/dataset/Originals/official/73.pdf\n",
            "✅ Converted: /content/drive/MyDrive/dataset/Originals/official/74.pdf\n",
            "✅ Converted: /content/drive/MyDrive/dataset/Originals/official/68.pdf\n",
            "✅ Converted: /content/drive/MyDrive/dataset/Originals/official/69.pdf\n",
            "✅ Converted: /content/drive/MyDrive/dataset/Originals/official/75.pdf\n",
            "✅ Converted: /content/drive/MyDrive/dataset/Originals/official/76.pdf\n",
            "✅ Converted: /content/drive/MyDrive/dataset/Originals/official/77.pdf\n",
            "✅ Converted: /content/drive/MyDrive/dataset/Originals/official/79.pdf\n",
            "✅ Converted: /content/drive/MyDrive/dataset/Originals/official/78.pdf\n",
            "✅ Converted: /content/drive/MyDrive/dataset/Originals/official/80.pdf\n",
            "✅ Converted: /content/drive/MyDrive/dataset/Originals/official/81.pdf\n",
            "✅ Converted: /content/drive/MyDrive/dataset/Originals/official/82.pdf\n",
            "✅ Converted: /content/drive/MyDrive/dataset/Originals/official/83.pdf\n",
            "✅ Converted: /content/drive/MyDrive/dataset/Originals/official/84.pdf\n",
            "✅ Converted: /content/drive/MyDrive/dataset/Originals/official/85.pdf\n",
            "✅ Converted: /content/drive/MyDrive/dataset/Originals/official/87.pdf\n",
            "✅ Converted: /content/drive/MyDrive/dataset/Originals/official/86.pdf\n",
            "✅ Converted: /content/drive/MyDrive/dataset/Originals/official/88.pdf\n",
            "✅ Converted: /content/drive/MyDrive/dataset/Originals/official/89.pdf\n",
            "✅ Converted: /content/drive/MyDrive/dataset/Originals/official/90.pdf\n",
            "✅ Converted: /content/drive/MyDrive/dataset/Originals/official/91.pdf\n",
            "✅ Converted: /content/drive/MyDrive/dataset/Originals/official/92.pdf\n",
            "✅ Converted: /content/drive/MyDrive/dataset/Originals/official/97.pdf\n",
            "✅ Converted: /content/drive/MyDrive/dataset/Originals/official/93.pdf\n",
            "✅ Converted: /content/drive/MyDrive/dataset/Originals/official/96.pdf\n",
            "✅ Converted: /content/drive/MyDrive/dataset/Originals/official/94.pdf\n",
            "✅ Converted: /content/drive/MyDrive/dataset/Originals/official/95.pdf\n",
            "✅ Converted: /content/drive/MyDrive/dataset/Originals/official/98.pdf\n",
            "✅ Converted: /content/drive/MyDrive/dataset/Originals/official/99.pdf\n",
            "✅ Converted: /content/drive/MyDrive/dataset/Originals/official/100.pdf\n",
            "✅ Converted: /content/drive/MyDrive/dataset/Originals/wikipedia/1.pdf\n",
            "✅ Converted: /content/drive/MyDrive/dataset/Originals/wikipedia/5.pdf\n",
            "✅ Converted: /content/drive/MyDrive/dataset/Originals/wikipedia/6.pdf\n",
            "✅ Converted: /content/drive/MyDrive/dataset/Originals/wikipedia/7.pdf\n",
            "✅ Converted: /content/drive/MyDrive/dataset/Originals/wikipedia/8.pdf\n",
            "✅ Converted: /content/drive/MyDrive/dataset/Originals/wikipedia/9.pdf\n",
            "✅ Converted: /content/drive/MyDrive/dataset/Originals/wikipedia/10.pdf\n",
            "✅ Converted: /content/drive/MyDrive/dataset/Originals/wikipedia/4.pdf\n",
            "✅ Converted: /content/drive/MyDrive/dataset/Originals/wikipedia/2.pdf\n",
            "✅ Converted: /content/drive/MyDrive/dataset/Originals/wikipedia/3.pdf\n",
            "✅ Converted: /content/drive/MyDrive/dataset/Originals/wikipedia/12.pdf\n",
            "✅ Converted: /content/drive/MyDrive/dataset/Originals/wikipedia/11.pdf\n",
            "✅ Converted: /content/drive/MyDrive/dataset/Originals/wikipedia/13.pdf\n",
            "✅ Converted: /content/drive/MyDrive/dataset/Originals/wikipedia/14.pdf\n",
            "✅ Converted: /content/drive/MyDrive/dataset/Originals/wikipedia/15.pdf\n",
            "✅ Converted: /content/drive/MyDrive/dataset/Originals/wikipedia/17.pdf\n",
            "✅ Converted: /content/drive/MyDrive/dataset/Originals/wikipedia/16.pdf\n",
            "✅ Converted: /content/drive/MyDrive/dataset/Originals/wikipedia/19.pdf\n",
            "✅ Converted: /content/drive/MyDrive/dataset/Originals/wikipedia/18.pdf\n",
            "✅ Converted: /content/drive/MyDrive/dataset/Originals/wikipedia/20.pdf\n",
            "✅ Converted: /content/drive/MyDrive/dataset/Originals/wikipedia/21.pdf\n",
            "✅ Converted: /content/drive/MyDrive/dataset/Originals/wikipedia/22.pdf\n",
            "✅ Converted: /content/drive/MyDrive/dataset/Originals/wikipedia/37.pdf\n",
            "✅ Converted: /content/drive/MyDrive/dataset/Originals/wikipedia/38.pdf\n",
            "✅ Converted: /content/drive/MyDrive/dataset/Originals/wikipedia/39.pdf\n",
            "✅ Converted: /content/drive/MyDrive/dataset/Originals/wikipedia/40.pdf\n",
            "✅ Converted: /content/drive/MyDrive/dataset/Originals/wikipedia/41.pdf\n",
            "✅ Converted: /content/drive/MyDrive/dataset/Originals/wikipedia/42.pdf\n",
            "✅ Converted: /content/drive/MyDrive/dataset/Originals/wikipedia/108.pdf\n",
            "✅ Converted: /content/drive/MyDrive/dataset/Originals/wikipedia/43.pdf\n",
            "✅ Converted: /content/drive/MyDrive/dataset/Originals/wikipedia/46.pdf\n",
            "✅ Converted: /content/drive/MyDrive/dataset/Originals/wikipedia/48.pdf\n",
            "✅ Converted: /content/drive/MyDrive/dataset/Originals/wikipedia/44.pdf\n",
            "✅ Converted: /content/drive/MyDrive/dataset/Originals/wikipedia/45.pdf\n",
            "✅ Converted: /content/drive/MyDrive/dataset/Originals/wikipedia/47.pdf\n",
            "✅ Converted: /content/drive/MyDrive/dataset/Originals/wikipedia/49.pdf\n",
            "✅ Converted: /content/drive/MyDrive/dataset/Originals/wikipedia/50.pdf\n",
            "✅ Converted: /content/drive/MyDrive/dataset/Originals/wikipedia/51.pdf\n",
            "✅ Converted: /content/drive/MyDrive/dataset/Originals/wikipedia/52.pdf\n",
            "✅ Converted: /content/drive/MyDrive/dataset/Originals/wikipedia/53.pdf\n",
            "✅ Converted: /content/drive/MyDrive/dataset/Originals/wikipedia/54.pdf\n",
            "✅ Converted: /content/drive/MyDrive/dataset/Originals/wikipedia/55.pdf\n",
            "✅ Converted: /content/drive/MyDrive/dataset/Originals/wikipedia/56.pdf\n",
            "✅ Converted: /content/drive/MyDrive/dataset/Originals/wikipedia/59.pdf\n",
            "✅ Converted: /content/drive/MyDrive/dataset/Originals/wikipedia/60.pdf\n",
            "✅ Converted: /content/drive/MyDrive/dataset/Originals/wikipedia/77.pdf\n",
            "✅ Converted: /content/drive/MyDrive/dataset/Originals/wikipedia/78.pdf\n",
            "✅ Converted: /content/drive/MyDrive/dataset/Originals/wikipedia/79.pdf\n",
            "✅ Converted: /content/drive/MyDrive/dataset/Originals/wikipedia/80.pdf\n",
            "✅ Converted: /content/drive/MyDrive/dataset/Originals/wikipedia/81.pdf\n",
            "✅ Converted: /content/drive/MyDrive/dataset/Originals/wikipedia/61.pdf\n",
            "✅ Converted: /content/drive/MyDrive/dataset/Originals/wikipedia/62.pdf\n",
            "✅ Converted: /content/drive/MyDrive/dataset/Originals/wikipedia/63.pdf\n",
            "✅ Converted: /content/drive/MyDrive/dataset/Originals/wikipedia/64.pdf\n",
            "✅ Converted: /content/drive/MyDrive/dataset/Originals/wikipedia/65.pdf\n",
            "✅ Converted: /content/drive/MyDrive/dataset/Originals/wikipedia/66.pdf\n",
            "✅ Converted: /content/drive/MyDrive/dataset/Originals/wikipedia/107.pdf\n",
            "✅ Converted: /content/drive/MyDrive/dataset/Originals/wikipedia/106.pdf\n",
            "✅ Converted: /content/drive/MyDrive/dataset/Originals/wikipedia/67.pdf\n",
            "✅ Converted: /content/drive/MyDrive/dataset/Originals/wikipedia/68.pdf\n",
            "✅ Converted: /content/drive/MyDrive/dataset/Originals/wikipedia/69.pdf\n",
            "✅ Converted: /content/drive/MyDrive/dataset/Originals/wikipedia/105.pdf\n",
            "✅ Converted: /content/drive/MyDrive/dataset/Originals/wikipedia/104.pdf\n",
            "✅ Converted: /content/drive/MyDrive/dataset/Originals/wikipedia/103.pdf\n",
            "✅ Converted: /content/drive/MyDrive/dataset/Originals/wikipedia/102.pdf\n",
            "✅ Converted: /content/drive/MyDrive/dataset/Originals/wikipedia/57.pdf\n",
            "✅ Converted: /content/drive/MyDrive/dataset/Originals/wikipedia/100.pdf\n",
            "✅ Converted: /content/drive/MyDrive/dataset/Originals/wikipedia/58.pdf\n",
            "✅ Converted: /content/drive/MyDrive/dataset/Originals/wikipedia/70.pdf\n",
            "✅ Converted: /content/drive/MyDrive/dataset/Originals/wikipedia/71.pdf\n",
            "✅ Converted: /content/drive/MyDrive/dataset/Originals/wikipedia/72.pdf\n",
            "✅ Converted: /content/drive/MyDrive/dataset/Originals/wikipedia/73.pdf\n",
            "✅ Converted: /content/drive/MyDrive/dataset/Originals/wikipedia/74.pdf\n",
            "✅ Converted: /content/drive/MyDrive/dataset/Originals/wikipedia/75.pdf\n",
            "✅ Converted: /content/drive/MyDrive/dataset/Originals/wikipedia/76.pdf\n",
            "✅ Converted: /content/drive/MyDrive/dataset/Originals/wikipedia/82.pdf\n",
            "✅ Converted: /content/drive/MyDrive/dataset/Originals/wikipedia/83.pdf\n",
            "✅ Converted: /content/drive/MyDrive/dataset/Originals/wikipedia/84.pdf\n",
            "✅ Converted: /content/drive/MyDrive/dataset/Originals/wikipedia/85.pdf\n",
            "✅ Converted: /content/drive/MyDrive/dataset/Originals/wikipedia/86.pdf\n",
            "✅ Converted: /content/drive/MyDrive/dataset/Originals/wikipedia/87.pdf\n",
            "✅ Converted: /content/drive/MyDrive/dataset/Originals/wikipedia/88.pdf\n",
            "✅ Converted: /content/drive/MyDrive/dataset/Originals/wikipedia/89.pdf\n",
            "✅ Converted: /content/drive/MyDrive/dataset/Originals/wikipedia/90.pdf\n",
            "✅ Converted: /content/drive/MyDrive/dataset/Originals/wikipedia/91.pdf\n",
            "✅ Converted: /content/drive/MyDrive/dataset/Originals/wikipedia/92.pdf\n",
            "✅ Converted: /content/drive/MyDrive/dataset/Originals/wikipedia/93.pdf\n",
            "✅ Converted: /content/drive/MyDrive/dataset/Originals/wikipedia/94.pdf\n",
            "✅ Converted: /content/drive/MyDrive/dataset/Originals/wikipedia/95.pdf\n",
            "✅ Converted: /content/drive/MyDrive/dataset/Originals/wikipedia/96.pdf\n",
            "✅ Converted: /content/drive/MyDrive/dataset/Originals/wikipedia/97.pdf\n",
            "✅ Converted: /content/drive/MyDrive/dataset/Originals/wikipedia/98.pdf\n",
            "✅ Converted: /content/drive/MyDrive/dataset/Originals/wikipedia/99.pdf\n",
            "✅ Converted: /content/drive/MyDrive/dataset/Originals/wikipedia/29.pdf\n",
            "✅ Converted: /content/drive/MyDrive/dataset/Originals/wikipedia/32.pdf\n",
            "✅ Converted: /content/drive/MyDrive/dataset/Originals/wikipedia/34.pdf\n",
            "✅ Converted: /content/drive/MyDrive/dataset/Originals/wikipedia/25.pdf\n",
            "✅ Converted: /content/drive/MyDrive/dataset/Originals/wikipedia/24.pdf\n",
            "✅ Converted: /content/drive/MyDrive/dataset/Originals/wikipedia/26.pdf\n",
            "✅ Converted: /content/drive/MyDrive/dataset/Originals/wikipedia/30.pdf\n",
            "✅ Converted: /content/drive/MyDrive/dataset/Originals/wikipedia/27.pdf\n",
            "✅ Converted: /content/drive/MyDrive/dataset/Originals/wikipedia/31.pdf\n",
            "✅ Converted: /content/drive/MyDrive/dataset/Originals/wikipedia/28.pdf\n",
            "✅ Converted: /content/drive/MyDrive/dataset/Originals/wikipedia/33.pdf\n",
            "✅ Converted: /content/drive/MyDrive/dataset/Originals/wikipedia/36.pdf\n",
            "✅ Converted: /content/drive/MyDrive/dataset/Originals/wikipedia/23.pdf\n",
            "✅ Converted: /content/drive/MyDrive/dataset/Originals/wikipedia/35.pdf\n",
            "✅ Converted: /content/drive/MyDrive/dataset/Originals/wikipedia/101.pdf\n",
            "\n",
            "🎯 All PDFs processed! Check ExtraOriginal folder.\n"
          ]
        }
      ]
    },
    {
      "cell_type": "code",
      "source": [
        "import os\n",
        "import cv2\n",
        "import shutil\n",
        "\n",
        "# 📂 Input paths\n",
        "original_dir = \"/content/drive/MyDrive/dataset/Tampered images/Original\"\n",
        "tampered_dir = \"/content/drive/MyDrive/dataset/Tampered images/Tampered\"\n",
        "\n",
        "# 📂 Output paths\n",
        "extra_original_dir = \"/content/drive/MyDrive/dataset/ExtraOriginal\"\n",
        "extra_tampered_dir = \"/content/drive/MyDrive/dataset/ExtraTampered\"\n",
        "\n",
        "# Create output folders\n",
        "os.makedirs(extra_original_dir, exist_ok=True)\n",
        "os.makedirs(extra_tampered_dir, exist_ok=True)\n",
        "\n",
        "# 🔹 Function to convert TIF → PNG\n",
        "def convert_to_png(src_path, dst_folder):\n",
        "    for root, _, files in os.walk(src_path):\n",
        "        for file in files:\n",
        "            if file.lower().endswith(\".tif\"):\n",
        "                img_path = os.path.join(root, file)\n",
        "                img = cv2.imread(img_path, cv2.IMREAD_UNCHANGED)\n",
        "\n",
        "                if img is None:\n",
        "                    print(f\"⚠️ Could not read {file}, skipping...\")\n",
        "                    continue\n",
        "\n",
        "                # Save as PNG\n",
        "                new_name = os.path.splitext(file)[0] + \".png\"\n",
        "                out_path = os.path.join(dst_folder, new_name)\n",
        "                cv2.imwrite(out_path, img)\n",
        "                print(f\"✅ Converted: {file} → {new_name}\")\n",
        "\n",
        "# 1️⃣ Convert Originals → ExtraOriginal\n",
        "print(\"🔹 Converting Originals...\")\n",
        "convert_to_png(original_dir, extra_original_dir)\n",
        "\n",
        "# 2️⃣ Convert Tampered (with subfolders) → ExtraTampered\n",
        "print(\"🔹 Converting Tampered...\")\n",
        "convert_to_png(tampered_dir, extra_tampered_dir)\n",
        "\n",
        "print(\"🎉 All TIF files converted to PNG and saved in ExtraOriginal/ and ExtraTampered/\")\n"
      ],
      "metadata": {
        "colab": {
          "base_uri": "https://localhost:8080/"
        },
        "id": "VENEPA6-fjN-",
        "outputId": "02407c05-6d4e-4579-c4ff-6414c0145cd0"
      },
      "execution_count": null,
      "outputs": [
        {
          "output_type": "stream",
          "name": "stdout",
          "text": [
            "🔹 Converting Originals...\n",
            "✅ Converted: s9_51.tif → s9_51.png\n",
            "✅ Converted: s9_52.tif → s9_52.png\n",
            "✅ Converted: s9_56.tif → s9_56.png\n",
            "✅ Converted: s9_58.tif → s9_58.png\n",
            "✅ Converted: s9_59.tif → s9_59.png\n",
            "✅ Converted: s9_60.tif → s9_60.png\n",
            "✅ Converted: s9_61.tif → s9_61.png\n",
            "✅ Converted: s9_62.tif → s9_62.png\n",
            "✅ Converted: s9_63.tif → s9_63.png\n",
            "✅ Converted: s9_67.tif → s9_67.png\n",
            "✅ Converted: s9_68.tif → s9_68.png\n",
            "✅ Converted: s11_4.tif → s11_4.png\n",
            "✅ Converted: s11_19.tif → s11_19.png\n",
            "✅ Converted: s11_27.tif → s11_27.png\n",
            "✅ Converted: s11_29.tif → s11_29.png\n",
            "✅ Converted: s11_30.tif → s11_30.png\n",
            "✅ Converted: s11_34.tif → s11_34.png\n",
            "✅ Converted: s11_35.tif → s11_35.png\n",
            "✅ Converted: s11_36.tif → s11_36.png\n",
            "✅ Converted: s11_38.tif → s11_38.png\n",
            "✅ Converted: s11_41.tif → s11_41.png\n",
            "✅ Converted: s11_49.tif → s11_49.png\n",
            "✅ Converted: s1_70.tif → s1_70.png\n",
            "✅ Converted: s1_71.tif → s1_71.png\n",
            "✅ Converted: s1_72.tif → s1_72.png\n",
            "✅ Converted: s1_73.tif → s1_73.png\n",
            "✅ Converted: s1_74.tif → s1_74.png\n",
            "✅ Converted: s1_78.tif → s1_78.png\n",
            "✅ Converted: s1_79.tif → s1_79.png\n",
            "✅ Converted: s1_81.tif → s1_81.png\n",
            "✅ Converted: s1_82.tif → s1_82.png\n",
            "✅ Converted: s1_83.tif → s1_83.png\n",
            "✅ Converted: s1_84.tif → s1_84.png\n",
            "✅ Converted: s1_96.tif → s1_96.png\n",
            "🔹 Converting Tampered...\n",
            "✅ Converted: s11_41_a.tif → s11_41_a.png\n",
            "✅ Converted: s11_38_a.tif → s11_38_a.png\n",
            "✅ Converted: s11_36_a.tif → s11_36_a.png\n",
            "✅ Converted: s11_19_a.tif → s11_19_a.png\n",
            "✅ Converted: s11_34_a.tif → s11_34_a.png\n",
            "✅ Converted: s11_29_a.tif → s11_29_a.png\n",
            "✅ Converted: s11_27_a.tif → s11_27_a.png\n",
            "✅ Converted: s9_68_a.tif → s9_68_a.png\n",
            "✅ Converted: s9_67_a.tif → s9_67_a.png\n",
            "✅ Converted: s9_63_a.tif → s9_63_a.png\n",
            "✅ Converted: s9_61_a.tif → s9_61_a.png\n",
            "✅ Converted: s9_62_a.tif → s9_62_a.png\n",
            "✅ Converted: s9_60_a.tif → s9_60_a.png\n",
            "✅ Converted: s9_58_a.tif → s9_58_a.png\n",
            "✅ Converted: s9_59_a.tif → s9_59_a.png\n",
            "✅ Converted: s9_52_a.tif → s9_52_a.png\n",
            "✅ Converted: s9_51_a.tif → s9_51_a.png\n",
            "✅ Converted: s1_96_a.tif → s1_96_a.png\n",
            "✅ Converted: s1_84_a.tif → s1_84_a.png\n",
            "✅ Converted: s1_83_a.tif → s1_83_a.png\n",
            "✅ Converted: s1_82_a.tif → s1_82_a.png\n",
            "✅ Converted: s1_81_a.tif → s1_81_a.png\n",
            "✅ Converted: s1_79_a.tif → s1_79_a.png\n",
            "✅ Converted: s11_30_a.tif → s11_30_a.png\n",
            "✅ Converted: s1_74_a.tif → s1_74_a.png\n",
            "✅ Converted: s1_78_a.tif → s1_78_a.png\n",
            "✅ Converted: s1_73_a.tif → s1_73_a.png\n",
            "✅ Converted: s1_72_a.tif → s1_72_a.png\n",
            "✅ Converted: s1_71_a.tif → s1_71_a.png\n",
            "✅ Converted: s1_70_a.tif → s1_70_a.png\n",
            "✅ Converted: s11_49_a.tif → s11_49_a.png\n",
            "✅ Converted: s11_35_a.tif → s11_35_a.png\n",
            "✅ Converted: s9_56_a.tif → s9_56_a.png\n",
            "✅ Converted: s11_4_a.tif → s11_4_a.png\n",
            "✅ Converted: s11_41_b.tif → s11_41_b.png\n",
            "✅ Converted: s11_38_b.tif → s11_38_b.png\n",
            "✅ Converted: s11_36_b.tif → s11_36_b.png\n",
            "✅ Converted: s11_19_b.tif → s11_19_b.png\n",
            "✅ Converted: s11_29_b.tif → s11_29_b.png\n",
            "✅ Converted: s11_27_b.tif → s11_27_b.png\n",
            "✅ Converted: s11_4_b.tif → s11_4_b.png\n",
            "✅ Converted: s9_68_b.tif → s9_68_b.png\n",
            "✅ Converted: s9_67_b.tif → s9_67_b.png\n",
            "✅ Converted: s9_63_b.tif → s9_63_b.png\n",
            "✅ Converted: s9_61_b.tif → s9_61_b.png\n",
            "✅ Converted: s9_62_b.tif → s9_62_b.png\n",
            "✅ Converted: s9_60_b.tif → s9_60_b.png\n",
            "✅ Converted: s9_58_b.tif → s9_58_b.png\n",
            "✅ Converted: s9_59_b.tif → s9_59_b.png\n",
            "✅ Converted: s9_56_b.tif → s9_56_b.png\n",
            "✅ Converted: s9_52_b.tif → s9_52_b.png\n",
            "✅ Converted: s9_51_b.tif → s9_51_b.png\n",
            "✅ Converted: s1_96_b.tif → s1_96_b.png\n",
            "✅ Converted: s1_84_b.tif → s1_84_b.png\n",
            "✅ Converted: s1_82_b.tif → s1_82_b.png\n",
            "✅ Converted: s1_79_b.tif → s1_79_b.png\n",
            "✅ Converted: s1_74_b.tif → s1_74_b.png\n",
            "✅ Converted: s1_78_b.tif → s1_78_b.png\n",
            "✅ Converted: s1_73_b.tif → s1_73_b.png\n",
            "✅ Converted: s1_72_b.tif → s1_72_b.png\n",
            "✅ Converted: s1_71_b.tif → s1_71_b.png\n",
            "✅ Converted: s1_70_b.tif → s1_70_b.png\n",
            "✅ Converted: s1_83_b.tif → s1_83_b.png\n",
            "✅ Converted: s1_81_b.tif → s1_81_b.png\n",
            "✅ Converted: s11_30_b.tif → s11_30_b.png\n",
            "✅ Converted: s11_35_b.tif → s11_35_b.png\n",
            "✅ Converted: s11_34_b.tif → s11_34_b.png\n",
            "✅ Converted: s11_49_b.tif → s11_49_b.png\n",
            "✅ Converted: s11_38_c.tif → s11_38_c.png\n",
            "✅ Converted: s11_36_c.tif → s11_36_c.png\n",
            "✅ Converted: s11_19_c.tif → s11_19_c.png\n",
            "✅ Converted: s11_29_c.tif → s11_29_c.png\n",
            "✅ Converted: s11_27_c.tif → s11_27_c.png\n",
            "✅ Converted: s11_4_c.tif → s11_4_c.png\n",
            "✅ Converted: s9_67_c.tif → s9_67_c.png\n",
            "✅ Converted: s9_62_c.tif → s9_62_c.png\n",
            "✅ Converted: s9_60_c.tif → s9_60_c.png\n",
            "✅ Converted: s9_56_c.tif → s9_56_c.png\n",
            "✅ Converted: s9_51_c.tif → s9_51_c.png\n",
            "✅ Converted: s1_96_c.tif → s1_96_c.png\n",
            "✅ Converted: s1_83_c.tif → s1_83_c.png\n",
            "✅ Converted: s1_81_c.tif → s1_81_c.png\n",
            "✅ Converted: s1_79_c.tif → s1_79_c.png\n",
            "✅ Converted: s1_74_c.tif → s1_74_c.png\n",
            "✅ Converted: s1_71_c.tif → s1_71_c.png\n",
            "✅ Converted: s1_70_c.tif → s1_70_c.png\n",
            "✅ Converted: s1_72_c.tif → s1_72_c.png\n",
            "✅ Converted: s1_73_c.tif → s1_73_c.png\n",
            "✅ Converted: s1_78_c.tif → s1_78_c.png\n",
            "✅ Converted: s1_82_c.tif → s1_82_c.png\n",
            "✅ Converted: s1_84_c.tif → s1_84_c.png\n",
            "✅ Converted: s9_52_c.tif → s9_52_c.png\n",
            "✅ Converted: s9_61_c.tif → s9_61_c.png\n",
            "✅ Converted: s9_59_c.tif → s9_59_c.png\n",
            "✅ Converted: s9_58_c.tif → s9_58_c.png\n",
            "✅ Converted: s9_68_c.tif → s9_68_c.png\n",
            "✅ Converted: s11_34_c.tif → s11_34_c.png\n",
            "✅ Converted: s11_35_c.tif → s11_35_c.png\n",
            "✅ Converted: s11_30_c.tif → s11_30_c.png\n",
            "✅ Converted: s9_63_c.tif → s9_63_c.png\n",
            "✅ Converted: s11_41_c.tif → s11_41_c.png\n",
            "✅ Converted: s11_49_c.tif → s11_49_c.png\n",
            "🎉 All TIF files converted to PNG and saved in ExtraOriginal/ and ExtraTampered/\n"
          ]
        }
      ]
    },
    {
      "cell_type": "code",
      "source": [
        "import numpy as np\n",
        "\n",
        "data = np.array(data)\n",
        "labels = np.array(labels)\n",
        "\n",
        "print(\"✅ Final dataset shape:\", data.shape)\n",
        "print(\"✅ Labels shape:\", labels.shape)\n",
        "print(\"🔹 Class 0 (Original):\", (labels==0).sum())\n",
        "print(\"🔹 Class 1 (Tampered):\", (labels==1).sum())\n"
      ],
      "metadata": {
        "colab": {
          "base_uri": "https://localhost:8080/"
        },
        "id": "nrSlkSJsk6mm",
        "outputId": "07076c44-9b0f-4c21-845e-5106efb03697"
      },
      "execution_count": null,
      "outputs": [
        {
          "output_type": "stream",
          "name": "stdout",
          "text": [
            "✅ Final dataset shape: (5, 16384)\n",
            "✅ Labels shape: (5,)\n",
            "🔹 Class 0 (Original): 5\n",
            "🔹 Class 1 (Tampered): 0\n"
          ]
        }
      ]
    },
    {
      "cell_type": "code",
      "source": [
        "import glob, cv2\n",
        "\n",
        "data, labels = [], []\n",
        "\n",
        "# Load Original\n",
        "for f in glob.glob(\"/content/drive/MyDrive/dataset/ExtraOriginal/*.png\"):\n",
        "    img = cv2.imread(f, cv2.IMREAD_GRAYSCALE)\n",
        "    if img is None:\n",
        "        continue\n",
        "    img = cv2.resize(img, (128,128))\n",
        "    data.append(img.flatten())\n",
        "    labels.append(0)\n",
        "\n",
        "# Load Tampered\n",
        "for f in glob.glob(\"/content/drive/MyDrive/dataset/ExtraTampered/*.png\"):\n",
        "    img = cv2.imread(f, cv2.IMREAD_GRAYSCALE)\n",
        "    if img is None:\n",
        "        continue\n",
        "    img = cv2.resize(img, (128,128))\n",
        "    data.append(img.flatten())\n",
        "    labels.append(1)\n",
        "\n",
        "print(\"✅ Total:\", len(data))\n",
        "print(\"🔹 Original:\", labels.count(0))\n",
        "print(\"🔹 Tampered:\", labels.count(1))\n"
      ],
      "metadata": {
        "colab": {
          "base_uri": "https://localhost:8080/"
        },
        "id": "NyTwNMs_lCS2",
        "outputId": "f42ccf09-bbe7-4e6e-f1a3-5ac4f906cfae"
      },
      "execution_count": null,
      "outputs": [
        {
          "output_type": "stream",
          "name": "stdout",
          "text": [
            "✅ Total: 443\n",
            "🔹 Original: 341\n",
            "🔹 Tampered: 102\n"
          ]
        }
      ]
    },
    {
      "cell_type": "code",
      "source": [
        "from sklearn.model_selection import train_test_split\n",
        "import numpy as np\n",
        "\n",
        "X = np.array(data)\n",
        "y = np.array(labels)\n",
        "\n",
        "X_train, X_test, y_train, y_test = train_test_split(\n",
        "    X, y, test_size=0.2, random_state=42, stratify=y\n",
        ")\n",
        "\n",
        "print(\"Train:\", X_train.shape, \"Test:\", X_test.shape)\n"
      ],
      "metadata": {
        "colab": {
          "base_uri": "https://localhost:8080/"
        },
        "id": "sp23UxZtmFKd",
        "outputId": "d5593e3b-21ba-44b1-a9d4-e4b0f0dc1d14"
      },
      "execution_count": null,
      "outputs": [
        {
          "output_type": "stream",
          "name": "stdout",
          "text": [
            "Train: (354, 16384) Test: (89, 16384)\n"
          ]
        }
      ]
    },
    {
      "cell_type": "code",
      "source": [
        "from xgboost import XGBClassifier\n",
        "from sklearn.metrics import classification_report, accuracy_score\n",
        "\n",
        "model = XGBClassifier(\n",
        "    n_estimators=200,\n",
        "    learning_rate=0.05,\n",
        "    max_depth=6,\n",
        "    subsample=0.8,\n",
        "    colsample_bytree=0.8,\n",
        "    random_state=42\n",
        ")\n",
        "model.fit(X_train, y_train)\n",
        "\n",
        "y_pred = model.predict(X_test)\n",
        "print(\"✅ Accuracy:\", accuracy_score(y_test, y_pred))\n",
        "print(\"\\n📊 Report:\\n\", classification_report(y_test, y_pred))\n"
      ],
      "metadata": {
        "colab": {
          "base_uri": "https://localhost:8080/"
        },
        "id": "S9ld7tdamIlE",
        "outputId": "2f9a2635-4e14-42f3-b28c-3be9dbf441f0"
      },
      "execution_count": null,
      "outputs": [
        {
          "output_type": "stream",
          "name": "stdout",
          "text": [
            "✅ Accuracy: 0.7865168539325843\n",
            "\n",
            "📊 Report:\n",
            "               precision    recall  f1-score   support\n",
            "\n",
            "           0       0.87      0.86      0.86        69\n",
            "           1       0.52      0.55      0.54        20\n",
            "\n",
            "    accuracy                           0.79        89\n",
            "   macro avg       0.70      0.70      0.70        89\n",
            "weighted avg       0.79      0.79      0.79        89\n",
            "\n"
          ]
        }
      ]
    },
    {
      "cell_type": "code",
      "source": [
        "import os\n",
        "import cv2\n",
        "import glob\n",
        "import numpy as np\n",
        "import pandas as pd\n",
        "from sklearn.model_selection import train_test_split\n",
        "from sklearn.metrics import classification_report, accuracy_score, confusion_matrix\n",
        "from xgboost import XGBClassifier\n",
        "import matplotlib.pyplot as plt\n",
        "\n",
        "# =========================\n",
        "# 1️⃣ Load Dataset\n",
        "# =========================\n",
        "data = []\n",
        "labels = []\n",
        "\n",
        "# Original images = 0\n",
        "for f in glob.glob(\"/content/drive/MyDrive/dataset/ExtraOriginal/*.png\"):\n",
        "    img = cv2.imread(f, cv2.IMREAD_GRAYSCALE)\n",
        "    if img is None:\n",
        "        continue\n",
        "    img = cv2.resize(img, (128, 128))\n",
        "    data.append(img.flatten())\n",
        "    labels.append(0)\n",
        "\n",
        "# Tampered images = 1\n",
        "for f in glob.glob(\"/content/drive/MyDrive/dataset/ExtraTampered/*.png\"):\n",
        "    img = cv2.imread(f, cv2.IMREAD_GRAYSCALE)\n",
        "    if img is None:\n",
        "        continue\n",
        "    img = cv2.resize(img, (128, 128))\n",
        "    data.append(img.flatten())\n",
        "    labels.append(1)\n",
        "\n",
        "X = np.array(data)\n",
        "y = np.array(labels)\n",
        "\n",
        "print(\"✅ Final dataset shape:\", X.shape)\n",
        "print(\"✅ Labels shape:\", y.shape)\n",
        "print(\"🔹 Class 0 (Original):\", np.sum(y == 0))\n",
        "print(\"🔹 Class 1 (Tampered):\", np.sum(y == 1))\n",
        "\n",
        "# =========================\n",
        "# 2️⃣ Train-Test Split\n",
        "# =========================\n",
        "X_train, X_test, y_train, y_test = train_test_split(\n",
        "    X, y, test_size=0.2, random_state=42, stratify=y\n",
        ")\n",
        "\n",
        "# =========================\n",
        "# 3️⃣ Handle Class Imbalance\n",
        "# =========================\n",
        "n_original = np.sum(y_train == 0)\n",
        "n_tampered = np.sum(y_train == 1)\n",
        "\n",
        "scale_pos_weight = n_original / n_tampered\n",
        "print(\"Class Weights -> Original:\", n_original, \" Tampered:\", n_tampered)\n",
        "print(\"scale_pos_weight:\", scale_pos_weight)\n",
        "\n",
        "# =========================\n",
        "# 4️⃣ Train XGBoost Model\n",
        "# =========================\n",
        "model = XGBClassifier(\n",
        "    n_estimators=300,\n",
        "    learning_rate=0.05,\n",
        "    max_depth=6,\n",
        "    subsample=0.8,\n",
        "    colsample_bytree=0.8,\n",
        "    scale_pos_weight=scale_pos_weight,  # 👈 imbalance fix\n",
        "    random_state=42,\n",
        "    use_label_encoder=False,\n",
        "    eval_metric=\"logloss\"\n",
        ")\n",
        "\n",
        "model.fit(X_train, y_train)\n",
        "\n",
        "# =========================\n",
        "# 5️⃣ Evaluation\n",
        "# =========================\n",
        "y_pred = model.predict(X_test)\n",
        "\n",
        "print(\"\\n✅ Accuracy:\", accuracy_score(y_test, y_pred))\n",
        "print(\"\\n📊 Classification Report:\\n\", classification_report(y_test, y_pred))\n",
        "print(\"\\n🔹 Confusion Matrix:\\n\", confusion_matrix(y_test, y_pred))\n",
        "\n",
        "# =========================\n",
        "# 6️⃣ Feature Importance Plot\n",
        "# =========================\n",
        "plt.figure(figsize=(8,5))\n",
        "plt.bar(range(len(model.feature_importances_[:50])), model.feature_importances_[:50])\n",
        "plt.title(\"Top 50 Feature Importances\")\n",
        "plt.show()\n",
        "\n",
        "# Save trained XGBoost model\n",
        "import joblib\n",
        "joblib.dump(model, \"/content/drive/MyDrive/Objective2/xgb_model.pkl\")\n",
        "print(\"💾 Model saved successfully at /content/drive/MyDrive/Objective2/xgb_model.pkl\")\n",
        "\n"
      ],
      "metadata": {
        "colab": {
          "base_uri": "https://localhost:8080/",
          "height": 906
        },
        "id": "dBcUkkjupYNt",
        "outputId": "d3dc7a5c-0e32-43de-9e9e-ac31744b6092"
      },
      "execution_count": null,
      "outputs": [
        {
          "output_type": "stream",
          "name": "stdout",
          "text": [
            "✅ Final dataset shape: (443, 16384)\n",
            "✅ Labels shape: (443,)\n",
            "🔹 Class 0 (Original): 341\n",
            "🔹 Class 1 (Tampered): 102\n",
            "Class Weights -> Original: 272  Tampered: 82\n",
            "scale_pos_weight: 3.317073170731707\n"
          ]
        },
        {
          "output_type": "stream",
          "name": "stderr",
          "text": [
            "/usr/local/lib/python3.12/dist-packages/xgboost/training.py:183: UserWarning: [09:37:25] WARNING: /workspace/src/learner.cc:738: \n",
            "Parameters: { \"use_label_encoder\" } are not used.\n",
            "\n",
            "  bst.update(dtrain, iteration=i, fobj=obj)\n"
          ]
        },
        {
          "output_type": "stream",
          "name": "stdout",
          "text": [
            "\n",
            "✅ Accuracy: 0.797752808988764\n",
            "\n",
            "📊 Classification Report:\n",
            "               precision    recall  f1-score   support\n",
            "\n",
            "           0       0.88      0.86      0.87        69\n",
            "           1       0.55      0.60      0.57        20\n",
            "\n",
            "    accuracy                           0.80        89\n",
            "   macro avg       0.71      0.73      0.72        89\n",
            "weighted avg       0.81      0.80      0.80        89\n",
            "\n",
            "\n",
            "🔹 Confusion Matrix:\n",
            " [[59 10]\n",
            " [ 8 12]]\n"
          ]
        },
        {
          "output_type": "display_data",
          "data": {
            "text/plain": [
              "<Figure size 800x500 with 1 Axes>"
            ],
            "image/png": "[encoded data removed]"
          },
          "metadata": {}
        },
        {
          "output_type": "stream",
          "name": "stdout",
          "text": [
            "💾 Model saved successfully at /content/drive/MyDrive/Objective2/xgb_model.pkl\n"
          ]
        }
      ]
    },
    {
      "cell_type": "code",
      "source": [
        "import os\n",
        "import cv2\n",
        "import numpy as np\n",
        "from sklearn.model_selection import train_test_split\n",
        "from sklearn.metrics import classification_report, confusion_matrix\n",
        "from xgboost import XGBClassifier\n",
        "from skimage.feature import local_binary_pattern\n",
        "from scipy.fft import fft2\n",
        "import matplotlib.pyplot as plt\n",
        "\n",
        "# Load images from folders\n",
        "def load_images_from_folder(folder, label):\n",
        "    data, labels = [], []\n",
        "    for filename in os.listdir(folder):\n",
        "        if filename.lower().endswith((\".png\", \".jpg\", \".tif\", \".jpeg\")):\n",
        "            img = cv2.imread(os.path.join(folder, filename), cv2.IMREAD_GRAYSCALE)\n",
        "            if img is not None:\n",
        "                img = cv2.resize(img, (128, 128))\n",
        "                data.append(extract_features(img))\n",
        "                labels.append(label)\n",
        "    return data, labels\n",
        "\n",
        "# Feature Extraction: Flatten + LBP + FFT + Residual\n",
        "def extract_features(img):\n",
        "    img = img.astype(np.uint8)\n",
        "    # 1. Flattened pixels\n",
        "    flat = img.flatten()\n",
        "\n",
        "    # 2. LBP (local texture)\n",
        "    lbp = local_binary_pattern(img, P=8, R=1, method='uniform')\n",
        "    lbp_hist, _ = np.histogram(lbp.ravel(), bins=59, range=(0, 59), density=True)\n",
        "\n",
        "    # 3. FFT magnitude\n",
        "    fft_mag = np.abs(fft2(img))\n",
        "    fft_mean = np.mean(fft_mag)\n",
        "    fft_std = np.std(fft_mag)\n",
        "\n",
        "    # 4. Residuals (edges)\n",
        "    edge = cv2.Laplacian(img, cv2.CV_64F)\n",
        "    edge_mean = np.mean(edge)\n",
        "    edge_std = np.std(edge)\n",
        "\n",
        "    # Combine all\n",
        "    return np.hstack([flat, lbp_hist, fft_mean, fft_std, edge_mean, edge_std])\n",
        "\n",
        "# Paths\n",
        "original_path = \"/content/drive/MyDrive/dataset/ExtraOriginal\"\n",
        "tampered_path = \"/content/drive/MyDrive/dataset/ExtraTampered\"\n",
        "\n",
        "# Load data\n",
        "X1, y1 = load_images_from_folder(original_path, 0)\n",
        "X2, y2 = load_images_from_folder(tampered_path, 1)\n",
        "\n",
        "X = np.array(X1 + X2)\n",
        "y = np.array(y1 + y2)\n",
        "\n",
        "print(\"✅ Final Feature Matrix:\", X.shape)\n",
        "print(\"✅ Labels:\", y.shape)\n",
        "\n",
        "# Train/Test Split\n",
        "X_train, X_test, y_train, y_test = train_test_split(X, y, test_size=0.2, stratify=y, random_state=42)\n",
        "\n",
        "# Handle class imbalance\n",
        "from collections import Counter\n",
        "class_weights = Counter(y_train)\n",
        "scale_pos_weight = class_weights[0] / class_weights[1]\n",
        "print(\"scale_pos_weight:\", scale_pos_weight)\n",
        "\n",
        "# Train XGBoost\n",
        "model = XGBClassifier(scale_pos_weight=scale_pos_weight, eval_metric='logloss', use_label_encoder=False)\n",
        "model.fit(X_train, y_train)\n",
        "\n",
        "# Evaluate\n",
        "y_pred = model.predict(X_test)\n",
        "print(\"\\n📊 Classification Report:\\n\", classification_report(y_test, y_pred))\n",
        "print(\"🔹 Confusion Matrix:\\n\", confusion_matrix(y_test, y_pred))\n"
      ],
      "metadata": {
        "colab": {
          "base_uri": "https://localhost:8080/"
        },
        "id": "VrR5yoa9r5kt",
        "outputId": "5d0dbd8d-1e24-44de-e0d5-93c7f911898b"
      },
      "execution_count": null,
      "outputs": [
        {
          "output_type": "stream",
          "name": "stdout",
          "text": [
            "✅ Final Feature Matrix: (468, 16447)\n",
            "✅ Labels: (468,)\n",
            "scale_pos_weight: 3.5609756097560976\n"
          ]
        },
        {
          "output_type": "stream",
          "name": "stderr",
          "text": [
            "/usr/local/lib/python3.12/dist-packages/xgboost/training.py:183: UserWarning: [19:04:48] WARNING: /workspace/src/learner.cc:738: \n",
            "Parameters: { \"use_label_encoder\" } are not used.\n",
            "\n",
            "  bst.update(dtrain, iteration=i, fobj=obj)\n"
          ]
        },
        {
          "output_type": "stream",
          "name": "stdout",
          "text": [
            "\n",
            "📊 Classification Report:\n",
            "               precision    recall  f1-score   support\n",
            "\n",
            "           0       0.86      0.85      0.86        74\n",
            "           1       0.48      0.50      0.49        20\n",
            "\n",
            "    accuracy                           0.78        94\n",
            "   macro avg       0.67      0.68      0.67        94\n",
            "weighted avg       0.78      0.78      0.78        94\n",
            "\n",
            "🔹 Confusion Matrix:\n",
            " [[63 11]\n",
            " [10 10]]\n"
          ]
        }
      ]
    },
    {
      "cell_type": "code",
      "source": [
        "import joblib\n",
        "joblib.dump(model, \"tampered_xgb_model.pkl\")\n",
        "\n"
      ],
      "metadata": {
        "colab": {
          "base_uri": "https://localhost:8080/"
        },
        "id": "62Q8cyDMuBNS",
        "outputId": "bf1942db-8147-47d6-a0ea-fd259a96eb90"
      },
      "execution_count": null,
      "outputs": [
        {
          "output_type": "execute_result",
          "data": {
            "text/plain": [
              "['tampered_xgb_model.pkl']"
            ]
          },
          "metadata": {},
          "execution_count": 23
        }
      ]
    },
    {
      "cell_type": "code",
      "source": [
        "print(np.unique(y))"
      ],
      "metadata": {
        "colab": {
          "base_uri": "https://localhost:8080/"
        },
        "id": "zK7rzMFru7UA",
        "outputId": "c9553082-cef8-4326-836b-d9d56e1bc9b2"
      },
      "execution_count": null,
      "outputs": [
        {
          "output_type": "stream",
          "name": "stdout",
          "text": [
            "[0 1]\n"
          ]
        }
      ]
    },
    {
      "cell_type": "code",
      "source": [
        "import os\n",
        "import cv2\n",
        "import numpy as np\n",
        "from sklearn.model_selection import train_test_split\n",
        "from sklearn.utils.class_weight import compute_class_weight\n",
        "from tensorflow.keras import layers, models\n",
        "from tensorflow.keras.utils import to_categorical"
      ],
      "metadata": {
        "id": "5cphaDk-vZoP"
      },
      "execution_count": null,
      "outputs": []
    },
    {
      "cell_type": "code",
      "source": [
        "import os\n",
        "import cv2\n",
        "import numpy as np\n",
        "from sklearn.model_selection import train_test_split\n",
        "from sklearn.utils.class_weight import compute_class_weight\n",
        "from tensorflow.keras import layers, models\n",
        "from tensorflow.keras.utils import to_categorical\n",
        "\n",
        "# 1️⃣ Load and preprocess images\n",
        "\n",
        "def load_images_from_folder(folder, label, img_size=(128,128)):\n",
        "    data, labels = [], []\n",
        "    for fname in os.listdir(folder):\n",
        "        fpath = os.path.join(folder, fname)\n",
        "        img = cv2.imread(fpath, cv2.IMREAD_GRAYSCALE)\n",
        "        if img is not None:\n",
        "            img = cv2.resize(img, img_size)\n",
        "            img = img / 255.0\n",
        "            data.append(img)\n",
        "            labels.append(label)\n",
        "    return data, labels\n",
        "\n",
        "# Paths\n",
        "\n",
        "orig_dir = \"/content/drive/MyDrive/dataset/ExtraOriginal\"\n",
        "tamper_dir = \"/content/drive/MyDrive/dataset/ExtraTampered\"\n",
        "\n",
        "# Load data\n",
        "\n",
        "orig_imgs, orig_labels = load_images_from_folder(orig_dir, 0)\n",
        "tamper_imgs, tamper_labels = load_images_from_folder(tamper_dir, 1)\n",
        "\n",
        "X = np.array(orig_imgs + tamper_imgs).reshape(-1, 128, 128, 1)\n",
        "y = np.array(orig_labels + tamper_labels)\n",
        "\n",
        "print(\"✅ Total samples:\", X.shape[0])\n",
        "print(\"🔹 Original:\", (y == 0).sum())\n",
        "print(\"🔹 Tampered:\", (y == 1).sum())\n",
        "\n",
        "# One-hot encode\n",
        "\n",
        "y_cat = to_categorical(y, num_classes=2)\n",
        "\n",
        "# 2️⃣ Train-test split\n",
        "\n",
        "X_train, X_test, y_train, y_test = train_test_split(\n",
        "    X, y_cat, test_size=0.2, stratify=y, random_state=42\n",
        ")\n",
        "\n",
        "# 3️⃣ Compute class weights (for imbalance)\n",
        "\n",
        "y_train_integers = np.argmax(y_train, axis=1)\n",
        "class_weights = compute_class_weight(\n",
        "    class_weight='balanced', classes=np.unique(y_train_integers), y=y_train_integers\n",
        ")\n",
        "class_weight_dict = dict(enumerate(class_weights))\n",
        "print(\"⚖️ Class Weights:\", class_weight_dict)\n",
        "\n",
        "# 4️⃣ Define CNN model\n",
        "\n",
        "model = models.Sequential([\n",
        "    layers.Conv2D(32, (3,3), activation='relu', input_shape=(128,128,1)),\n",
        "    layers.MaxPooling2D(2,2),\n",
        "    layers.Conv2D(64, (3,3), activation='relu'),\n",
        "    layers.MaxPooling2D(2,2),\n",
        "    layers.Conv2D(128, (3,3), activation='relu'),\n",
        "    layers.GlobalAveragePooling2D(),\n",
        "    layers.Dense(64, activation='relu'),\n",
        "    layers.Dropout(0.3),\n",
        "    layers.Dense(2, activation='softmax')\n",
        "])\n",
        "\n",
        "model.compile(optimizer='adam', loss='categorical_crossentropy', metrics=['accuracy'])\n",
        "model.summary()\n",
        "\n",
        "# 5️⃣ Train\n",
        "\n",
        "history = model.fit(\n",
        "    X_train, y_train,\n",
        "    validation_data=(X_test, y_test),\n",
        "    epochs=30,\n",
        "    batch_size=32,\n",
        "    class_weight=class_weight_dict,\n",
        "    verbose=1\n",
        ")\n",
        "\n",
        "# 6️⃣ Evaluate\n",
        "\n",
        "loss, acc = model.evaluate(X_test, y_test, verbose=0)\n",
        "print(f\"\\n✅ Final CNN Test Accuracy: {acc:.4f}\")\n",
        "\n",
        "# 7️⃣ Save model\n",
        "\n",
        "model.save(\"/content/drive/MyDrive/Objective2/tampered_cnn.keras\")\n",
        "print(\"💾 Saved model to: /content/drive/MyDrive/Objective2/tampered_cnn.keras\")"
      ],
      "metadata": {
        "colab": {
          "base_uri": "https://localhost:8080/",
          "height": 1000
        },
        "id": "OkLLUuFayBQx",
        "outputId": "8d77f99d-8b04-4a52-c342-9baf94728fc7"
      },
      "execution_count": null,
      "outputs": [
        {
          "output_type": "stream",
          "name": "stdout",
          "text": [
            "✅ Total samples: 468\n",
            "🔹 Original: 366\n",
            "🔹 Tampered: 102\n",
            "⚖️ Class Weights: {0: np.float64(0.6404109589041096), 1: np.float64(2.2804878048780486)}\n"
          ]
        },
        {
          "output_type": "stream",
          "name": "stderr",
          "text": [
            "/usr/local/lib/python3.12/dist-packages/keras/src/layers/convolutional/base_conv.py:113: UserWarning: Do not pass an `input_shape`/`input_dim` argument to a layer. When using Sequential models, prefer using an `Input(shape)` object as the first layer in the model instead.\n",
            "  super().__init__(activity_regularizer=activity_regularizer, **kwargs)\n"
          ]
        },
        {
          "output_type": "display_data",
          "data": {
            "text/plain": [
              "\u001b[1mModel: \"sequential\"\u001b[0m\n"
            ],
            "text/html": [
              "<pre style=\"white-space:pre;overflow-x:auto;line-height:normal;font-family:Menlo,'DejaVu Sans Mono',consolas,'Courier New',monospace\"><span style=\"font-weight: bold\">Model: \"sequential\"</span>\n",
              "</pre>\n"
            ]
          },
          "metadata": {}
        },
        {
          "output_type": "display_data",
          "data": {
            "text/plain": [
              "┏━━━━━━━━━━━━━━━━━━━━━━━━━━━━━━━━━┳━━━━━━━━━━━━━━━━━━━━━━━━┳━━━━━━━━━━━━━━━┓\n",
              "┃\u001b[1m \u001b[0m\u001b[1mLayer (type)                   \u001b[0m\u001b[1m \u001b[0m┃\u001b[1m \u001b[0m\u001b[1mOutput Shape          \u001b[0m\u001b[1m \u001b[0m┃\u001b[1m \u001b[0m\u001b[1m      Param #\u001b[0m\u001b[1m \u001b[0m┃\n",
              "┡━━━━━━━━━━━━━━━━━━━━━━━━━━━━━━━━━╇━━━━━━━━━━━━━━━━━━━━━━━━╇━━━━━━━━━━━━━━━┩\n",
              "│ conv2d (\u001b[38;5;33mConv2D\u001b[0m)                 │ (\u001b[38;5;45mNone\u001b[0m, \u001b[38;5;34m126\u001b[0m, \u001b[38;5;34m126\u001b[0m, \u001b[38;5;34m32\u001b[0m)   │           \u001b[38;5;34m320\u001b[0m │\n",
              "├─────────────────────────────────┼────────────────────────┼───────────────┤\n",
              "│ max_pooling2d (\u001b[38;5;33mMaxPooling2D\u001b[0m)    │ (\u001b[38;5;45mNone\u001b[0m, \u001b[38;5;34m63\u001b[0m, \u001b[38;5;34m63\u001b[0m, \u001b[38;5;34m32\u001b[0m)     │             \u001b[38;5;34m0\u001b[0m │\n",
              "├─────────────────────────────────┼────────────────────────┼───────────────┤\n",
              "│ conv2d_1 (\u001b[38;5;33mConv2D\u001b[0m)               │ (\u001b[38;5;45mNone\u001b[0m, \u001b[38;5;34m61\u001b[0m, \u001b[38;5;34m61\u001b[0m, \u001b[38;5;34m64\u001b[0m)     │        \u001b[38;5;34m18,496\u001b[0m │\n",
              "├─────────────────────────────────┼────────────────────────┼───────────────┤\n",
              "│ max_pooling2d_1 (\u001b[38;5;33mMaxPooling2D\u001b[0m)  │ (\u001b[38;5;45mNone\u001b[0m, \u001b[38;5;34m30\u001b[0m, \u001b[38;5;34m30\u001b[0m, \u001b[38;5;34m64\u001b[0m)     │             \u001b[38;5;34m0\u001b[0m │\n",
              "├─────────────────────────────────┼────────────────────────┼───────────────┤\n",
              "│ conv2d_2 (\u001b[38;5;33mConv2D\u001b[0m)               │ (\u001b[38;5;45mNone\u001b[0m, \u001b[38;5;34m28\u001b[0m, \u001b[38;5;34m28\u001b[0m, \u001b[38;5;34m128\u001b[0m)    │        \u001b[38;5;34m73,856\u001b[0m │\n",
              "├─────────────────────────────────┼────────────────────────┼───────────────┤\n",
              "│ global_average_pooling2d        │ (\u001b[38;5;45mNone\u001b[0m, \u001b[38;5;34m128\u001b[0m)            │             \u001b[38;5;34m0\u001b[0m │\n",
              "│ (\u001b[38;5;33mGlobalAveragePooling2D\u001b[0m)        │                        │               │\n",
              "├─────────────────────────────────┼────────────────────────┼───────────────┤\n",
              "│ dense (\u001b[38;5;33mDense\u001b[0m)                   │ (\u001b[38;5;45mNone\u001b[0m, \u001b[38;5;34m64\u001b[0m)             │         \u001b[38;5;34m8,256\u001b[0m │\n",
              "├─────────────────────────────────┼────────────────────────┼───────────────┤\n",
              "│ dropout (\u001b[38;5;33mDropout\u001b[0m)               │ (\u001b[38;5;45mNone\u001b[0m, \u001b[38;5;34m64\u001b[0m)             │             \u001b[38;5;34m0\u001b[0m │\n",
              "├─────────────────────────────────┼────────────────────────┼───────────────┤\n",
              "│ dense_1 (\u001b[38;5;33mDense\u001b[0m)                 │ (\u001b[38;5;45mNone\u001b[0m, \u001b[38;5;34m2\u001b[0m)              │           \u001b[38;5;34m130\u001b[0m │\n",
              "└─────────────────────────────────┴────────────────────────┴───────────────┘\n"
            ],
            "text/html": [
              "<pre style=\"white-space:pre;overflow-x:auto;line-height:normal;font-family:Menlo,'DejaVu Sans Mono',consolas,'Courier New',monospace\">┏━━━━━━━━━━━━━━━━━━━━━━━━━━━━━━━━━┳━━━━━━━━━━━━━━━━━━━━━━━━┳━━━━━━━━━━━━━━━┓\n",
              "┃<span style=\"font-weight: bold\"> Layer (type)                    </span>┃<span style=\"font-weight: bold\"> Output Shape           </span>┃<span style=\"font-weight: bold\">       Param # </span>┃\n",
              "┡━━━━━━━━━━━━━━━━━━━━━━━━━━━━━━━━━╇━━━━━━━━━━━━━━━━━━━━━━━━╇━━━━━━━━━━━━━━━┩\n",
              "│ conv2d (<span style=\"color: #0087ff; text-decoration-color: #0087ff\">Conv2D</span>)                 │ (<span style=\"color: #00d7ff; text-decoration-color: #00d7ff\">None</span>, <span style=\"color: #00af00; text-decoration-color: #00af00\">126</span>, <span style=\"color: #00af00; text-decoration-color: #00af00\">126</span>, <span style=\"color: #00af00; text-decoration-color: #00af00\">32</span>)   │           <span style=\"color: #00af00; text-decoration-color: #00af00\">320</span> │\n",
              "├─────────────────────────────────┼────────────────────────┼───────────────┤\n",
              "│ max_pooling2d (<span style=\"color: #0087ff; text-decoration-color: #0087ff\">MaxPooling2D</span>)    │ (<span style=\"color: #00d7ff; text-decoration-color: #00d7ff\">None</span>, <span style=\"color: #00af00; text-decoration-color: #00af00\">63</span>, <span style=\"color: #00af00; text-decoration-color: #00af00\">63</span>, <span style=\"color: #00af00; text-decoration-color: #00af00\">32</span>)     │             <span style=\"color: #00af00; text-decoration-color: #00af00\">0</span> │\n",
              "├─────────────────────────────────┼────────────────────────┼───────────────┤\n",
              "│ conv2d_1 (<span style=\"color: #0087ff; text-decoration-color: #0087ff\">Conv2D</span>)               │ (<span style=\"color: #00d7ff; text-decoration-color: #00d7ff\">None</span>, <span style=\"color: #00af00; text-decoration-color: #00af00\">61</span>, <span style=\"color: #00af00; text-decoration-color: #00af00\">61</span>, <span style=\"color: #00af00; text-decoration-color: #00af00\">64</span>)     │        <span style=\"color: #00af00; text-decoration-color: #00af00\">18,496</span> │\n",
              "├─────────────────────────────────┼────────────────────────┼───────────────┤\n",
              "│ max_pooling2d_1 (<span style=\"color: #0087ff; text-decoration-color: #0087ff\">MaxPooling2D</span>)  │ (<span style=\"color: #00d7ff; text-decoration-color: #00d7ff\">None</span>, <span style=\"color: #00af00; text-decoration-color: #00af00\">30</span>, <span style=\"color: #00af00; text-decoration-color: #00af00\">30</span>, <span style=\"color: #00af00; text-decoration-color: #00af00\">64</span>)     │             <span style=\"color: #00af00; text-decoration-color: #00af00\">0</span> │\n",
              "├─────────────────────────────────┼────────────────────────┼───────────────┤\n",
              "│ conv2d_2 (<span style=\"color: #0087ff; text-decoration-color: #0087ff\">Conv2D</span>)               │ (<span style=\"color: #00d7ff; text-decoration-color: #00d7ff\">None</span>, <span style=\"color: #00af00; text-decoration-color: #00af00\">28</span>, <span style=\"color: #00af00; text-decoration-color: #00af00\">28</span>, <span style=\"color: #00af00; text-decoration-color: #00af00\">128</span>)    │        <span style=\"color: #00af00; text-decoration-color: #00af00\">73,856</span> │\n",
              "├─────────────────────────────────┼────────────────────────┼───────────────┤\n",
              "│ global_average_pooling2d        │ (<span style=\"color: #00d7ff; text-decoration-color: #00d7ff\">None</span>, <span style=\"color: #00af00; text-decoration-color: #00af00\">128</span>)            │             <span style=\"color: #00af00; text-decoration-color: #00af00\">0</span> │\n",
              "│ (<span style=\"color: #0087ff; text-decoration-color: #0087ff\">GlobalAveragePooling2D</span>)        │                        │               │\n",
              "├─────────────────────────────────┼────────────────────────┼───────────────┤\n",
              "│ dense (<span style=\"color: #0087ff; text-decoration-color: #0087ff\">Dense</span>)                   │ (<span style=\"color: #00d7ff; text-decoration-color: #00d7ff\">None</span>, <span style=\"color: #00af00; text-decoration-color: #00af00\">64</span>)             │         <span style=\"color: #00af00; text-decoration-color: #00af00\">8,256</span> │\n",
              "├─────────────────────────────────┼────────────────────────┼───────────────┤\n",
              "│ dropout (<span style=\"color: #0087ff; text-decoration-color: #0087ff\">Dropout</span>)               │ (<span style=\"color: #00d7ff; text-decoration-color: #00d7ff\">None</span>, <span style=\"color: #00af00; text-decoration-color: #00af00\">64</span>)             │             <span style=\"color: #00af00; text-decoration-color: #00af00\">0</span> │\n",
              "├─────────────────────────────────┼────────────────────────┼───────────────┤\n",
              "│ dense_1 (<span style=\"color: #0087ff; text-decoration-color: #0087ff\">Dense</span>)                 │ (<span style=\"color: #00d7ff; text-decoration-color: #00d7ff\">None</span>, <span style=\"color: #00af00; text-decoration-color: #00af00\">2</span>)              │           <span style=\"color: #00af00; text-decoration-color: #00af00\">130</span> │\n",
              "└─────────────────────────────────┴────────────────────────┴───────────────┘\n",
              "</pre>\n"
            ]
          },
          "metadata": {}
        },
        {
          "output_type": "display_data",
          "data": {
            "text/plain": [
              "\u001b[1m Total params: \u001b[0m\u001b[38;5;34m101,058\u001b[0m (394.76 KB)\n"
            ],
            "text/html": [
              "<pre style=\"white-space:pre;overflow-x:auto;line-height:normal;font-family:Menlo,'DejaVu Sans Mono',consolas,'Courier New',monospace\"><span style=\"font-weight: bold\"> Total params: </span><span style=\"color: #00af00; text-decoration-color: #00af00\">101,058</span> (394.76 KB)\n",
              "</pre>\n"
            ]
          },
          "metadata": {}
        },
        {
          "output_type": "display_data",
          "data": {
            "text/plain": [
              "\u001b[1m Trainable params: \u001b[0m\u001b[38;5;34m101,058\u001b[0m (394.76 KB)\n"
            ],
            "text/html": [
              "<pre style=\"white-space:pre;overflow-x:auto;line-height:normal;font-family:Menlo,'DejaVu Sans Mono',consolas,'Courier New',monospace\"><span style=\"font-weight: bold\"> Trainable params: </span><span style=\"color: #00af00; text-decoration-color: #00af00\">101,058</span> (394.76 KB)\n",
              "</pre>\n"
            ]
          },
          "metadata": {}
        },
        {
          "output_type": "display_data",
          "data": {
            "text/plain": [
              "\u001b[1m Non-trainable params: \u001b[0m\u001b[38;5;34m0\u001b[0m (0.00 B)\n"
            ],
            "text/html": [
              "<pre style=\"white-space:pre;overflow-x:auto;line-height:normal;font-family:Menlo,'DejaVu Sans Mono',consolas,'Courier New',monospace\"><span style=\"font-weight: bold\"> Non-trainable params: </span><span style=\"color: #00af00; text-decoration-color: #00af00\">0</span> (0.00 B)\n",
              "</pre>\n"
            ]
          },
          "metadata": {}
        },
        {
          "output_type": "stream",
          "name": "stdout",
          "text": [
            "Epoch 1/30\n",
            "\u001b[1m12/12\u001b[0m \u001b[32m━━━━━━━━━━━━━━━━━━━━\u001b[0m\u001b[37m\u001b[0m \u001b[1m17s\u001b[0m 1s/step - accuracy: 0.4437 - loss: 0.7386 - val_accuracy: 0.7872 - val_loss: 0.6074\n",
            "Epoch 2/30\n",
            "\u001b[1m12/12\u001b[0m \u001b[32m━━━━━━━━━━━━━━━━━━━━\u001b[0m\u001b[37m\u001b[0m \u001b[1m22s\u001b[0m 2s/step - accuracy: 0.7407 - loss: 0.7029 - val_accuracy: 0.7872 - val_loss: 0.6030\n",
            "Epoch 3/30\n",
            "\u001b[1m12/12\u001b[0m \u001b[32m━━━━━━━━━━━━━━━━━━━━\u001b[0m\u001b[37m\u001b[0m \u001b[1m14s\u001b[0m 1s/step - accuracy: 0.7146 - loss: 0.6758 - val_accuracy: 0.7979 - val_loss: 0.4972\n",
            "Epoch 4/30\n",
            "\u001b[1m12/12\u001b[0m \u001b[32m━━━━━━━━━━━━━━━━━━━━\u001b[0m\u001b[37m\u001b[0m \u001b[1m14s\u001b[0m 1s/step - accuracy: 0.7871 - loss: 0.5383 - val_accuracy: 0.6064 - val_loss: 0.6119\n",
            "Epoch 5/30\n",
            "\u001b[1m12/12\u001b[0m \u001b[32m━━━━━━━━━━━━━━━━━━━━\u001b[0m\u001b[37m\u001b[0m \u001b[1m19s\u001b[0m 1s/step - accuracy: 0.6314 - loss: 0.5187 - val_accuracy: 0.7660 - val_loss: 0.3797\n",
            "Epoch 6/30\n",
            "\u001b[1m12/12\u001b[0m \u001b[32m━━━━━━━━━━━━━━━━━━━━\u001b[0m\u001b[37m\u001b[0m \u001b[1m12s\u001b[0m 979ms/step - accuracy: 0.7519 - loss: 0.4018 - val_accuracy: 0.7660 - val_loss: 0.4319\n",
            "Epoch 7/30\n",
            "\u001b[1m12/12\u001b[0m \u001b[32m━━━━━━━━━━━━━━━━━━━━\u001b[0m\u001b[37m\u001b[0m \u001b[1m14s\u001b[0m 1s/step - accuracy: 0.7427 - loss: 0.4330 - val_accuracy: 0.7234 - val_loss: 0.5002\n",
            "Epoch 8/30\n",
            "\u001b[1m12/12\u001b[0m \u001b[32m━━━━━━━━━━━━━━━━━━━━\u001b[0m\u001b[37m\u001b[0m \u001b[1m14s\u001b[0m 1s/step - accuracy: 0.7479 - loss: 0.4240 - val_accuracy: 0.6809 - val_loss: 0.5410\n",
            "Epoch 9/30\n",
            "\u001b[1m12/12\u001b[0m \u001b[32m━━━━━━━━━━━━━━━━━━━━\u001b[0m\u001b[37m\u001b[0m \u001b[1m14s\u001b[0m 1s/step - accuracy: 0.7296 - loss: 0.4182 - val_accuracy: 0.6489 - val_loss: 0.5919\n",
            "Epoch 10/30\n",
            "\u001b[1m12/12\u001b[0m \u001b[32m━━━━━━━━━━━━━━━━━━━━\u001b[0m\u001b[37m\u001b[0m \u001b[1m18s\u001b[0m 997ms/step - accuracy: 0.7602 - loss: 0.4115 - val_accuracy: 0.7872 - val_loss: 0.4193\n",
            "Epoch 11/30\n",
            "\u001b[1m12/12\u001b[0m \u001b[32m━━━━━━━━━━━━━━━━━━━━\u001b[0m\u001b[37m\u001b[0m \u001b[1m14s\u001b[0m 1s/step - accuracy: 0.7265 - loss: 0.4032 - val_accuracy: 0.7872 - val_loss: 0.3964\n",
            "Epoch 12/30\n",
            "\u001b[1m12/12\u001b[0m \u001b[32m━━━━━━━━━━━━━━━━━━━━\u001b[0m\u001b[37m\u001b[0m \u001b[1m14s\u001b[0m 1s/step - accuracy: 0.7424 - loss: 0.3919 - val_accuracy: 0.7872 - val_loss: 0.4122\n",
            "Epoch 13/30\n",
            "\u001b[1m12/12\u001b[0m \u001b[32m━━━━━━━━━━━━━━━━━━━━\u001b[0m\u001b[37m\u001b[0m \u001b[1m14s\u001b[0m 1s/step - accuracy: 0.7686 - loss: 0.3808 - val_accuracy: 0.7979 - val_loss: 0.3277\n",
            "Epoch 14/30\n",
            "\u001b[1m12/12\u001b[0m \u001b[32m━━━━━━━━━━━━━━━━━━━━\u001b[0m\u001b[37m\u001b[0m \u001b[1m13s\u001b[0m 1s/step - accuracy: 0.7249 - loss: 0.4887 - val_accuracy: 0.8191 - val_loss: 0.2995\n",
            "Epoch 15/30\n",
            "\u001b[1m12/12\u001b[0m \u001b[32m━━━━━━━━━━━━━━━━━━━━\u001b[0m\u001b[37m\u001b[0m \u001b[1m21s\u001b[0m 1s/step - accuracy: 0.8438 - loss: 0.3397 - val_accuracy: 0.7766 - val_loss: 0.4320\n",
            "Epoch 16/30\n",
            "\u001b[1m12/12\u001b[0m \u001b[32m━━━━━━━━━━━━━━━━━━━━\u001b[0m\u001b[37m\u001b[0m \u001b[1m19s\u001b[0m 1s/step - accuracy: 0.8111 - loss: 0.3512 - val_accuracy: 0.8085 - val_loss: 0.3715\n",
            "Epoch 17/30\n",
            "\u001b[1m12/12\u001b[0m \u001b[32m━━━━━━━━━━━━━━━━━━━━\u001b[0m\u001b[37m\u001b[0m \u001b[1m22s\u001b[0m 1s/step - accuracy: 0.7936 - loss: 0.3641 - val_accuracy: 0.8191 - val_loss: 0.3335\n",
            "Epoch 18/30\n",
            "\u001b[1m12/12\u001b[0m \u001b[32m━━━━━━━━━━━━━━━━━━━━\u001b[0m\u001b[37m\u001b[0m \u001b[1m19s\u001b[0m 1s/step - accuracy: 0.8235 - loss: 0.3458 - val_accuracy: 0.8191 - val_loss: 0.3302\n",
            "Epoch 19/30\n",
            "\u001b[1m12/12\u001b[0m \u001b[32m━━━━━━━━━━━━━━━━━━━━\u001b[0m\u001b[37m\u001b[0m \u001b[1m20s\u001b[0m 1s/step - accuracy: 0.8490 - loss: 0.3522 - val_accuracy: 0.8085 - val_loss: 0.3697\n",
            "Epoch 20/30\n",
            "\u001b[1m12/12\u001b[0m \u001b[32m━━━━━━━━━━━━━━━━━━━━\u001b[0m\u001b[37m\u001b[0m \u001b[1m13s\u001b[0m 1s/step - accuracy: 0.7753 - loss: 0.3699 - val_accuracy: 0.8085 - val_loss: 0.3503\n",
            "Epoch 21/30\n",
            "\u001b[1m12/12\u001b[0m \u001b[32m━━━━━━━━━━━━━━━━━━━━\u001b[0m\u001b[37m\u001b[0m \u001b[1m12s\u001b[0m 1s/step - accuracy: 0.8122 - loss: 0.3152 - val_accuracy: 0.7979 - val_loss: 0.4039\n",
            "Epoch 22/30\n",
            "\u001b[1m12/12\u001b[0m \u001b[32m━━━━━━━━━━━━━━━━━━━━\u001b[0m\u001b[37m\u001b[0m \u001b[1m13s\u001b[0m 1s/step - accuracy: 0.7815 - loss: 0.3448 - val_accuracy: 0.8191 - val_loss: 0.3499\n",
            "Epoch 23/30\n",
            "\u001b[1m12/12\u001b[0m \u001b[32m━━━━━━━━━━━━━━━━━━━━\u001b[0m\u001b[37m\u001b[0m \u001b[1m14s\u001b[0m 1s/step - accuracy: 0.8223 - loss: 0.3209 - val_accuracy: 0.8511 - val_loss: 0.3135\n",
            "Epoch 24/30\n",
            "\u001b[1m12/12\u001b[0m \u001b[32m━━━━━━━━━━━━━━━━━━━━\u001b[0m\u001b[37m\u001b[0m \u001b[1m14s\u001b[0m 1s/step - accuracy: 0.8297 - loss: 0.3155 - val_accuracy: 0.8298 - val_loss: 0.3306\n",
            "Epoch 25/30\n",
            "\u001b[1m12/12\u001b[0m \u001b[32m━━━━━━━━━━━━━━━━━━━━\u001b[0m\u001b[37m\u001b[0m \u001b[1m19s\u001b[0m 1s/step - accuracy: 0.8202 - loss: 0.3306 - val_accuracy: 0.8191 - val_loss: 0.3154\n",
            "Epoch 26/30\n",
            "\u001b[1m12/12\u001b[0m \u001b[32m━━━━━━━━━━━━━━━━━━━━\u001b[0m\u001b[37m\u001b[0m \u001b[1m21s\u001b[0m 1s/step - accuracy: 0.7998 - loss: 0.3499 - val_accuracy: 0.7979 - val_loss: 0.3780\n",
            "Epoch 27/30\n",
            "\u001b[1m12/12\u001b[0m \u001b[32m━━━━━━━━━━━━━━━━━━━━\u001b[0m\u001b[37m\u001b[0m \u001b[1m19s\u001b[0m 990ms/step - accuracy: 0.8106 - loss: 0.3444 - val_accuracy: 0.8085 - val_loss: 0.3519\n",
            "Epoch 28/30\n",
            "\u001b[1m12/12\u001b[0m \u001b[32m━━━━━━━━━━━━━━━━━━━━\u001b[0m\u001b[37m\u001b[0m \u001b[1m14s\u001b[0m 1s/step - accuracy: 0.8482 - loss: 0.2914 - val_accuracy: 0.8191 - val_loss: 0.3501\n",
            "Epoch 29/30\n",
            "\u001b[1m12/12\u001b[0m \u001b[32m━━━━━━━━━━━━━━━━━━━━\u001b[0m\u001b[37m\u001b[0m \u001b[1m14s\u001b[0m 1s/step - accuracy: 0.8352 - loss: 0.3031 - val_accuracy: 0.8298 - val_loss: 0.3416\n",
            "Epoch 30/30\n",
            "\u001b[1m12/12\u001b[0m \u001b[32m━━━━━━━━━━━━━━━━━━━━\u001b[0m\u001b[37m\u001b[0m \u001b[1m14s\u001b[0m 1s/step - accuracy: 0.8130 - loss: 0.3086 - val_accuracy: 0.7979 - val_loss: 0.3533\n",
            "\n",
            "✅ Final CNN Test Accuracy: 0.7979\n",
            "💾 Saved model to: /content/drive/MyDrive/Objective2/tampered_cnn.keras\n"
          ]
        }
      ]
    },
    {
      "cell_type": "code",
      "source": [
        "import numpy as np\n",
        "from sklearn.metrics import confusion_matrix, classification_report\n",
        "import matplotlib.pyplot as plt\n",
        "import seaborn as sns\n",
        "import tensorflow as tf\n",
        "\n",
        "# Model load karo\n",
        "model = tf.keras.models.load_model(\"/content/drive/MyDrive/Objective2/tampered_cnn.keras\")\n",
        "\n",
        "# Test data aur labels yahan load ya define karo\n",
        "# For example, agar X_test, y_test already defined hain:\n",
        "# Agar y_test one-hot encoded hai, toh integer labels me convert karna padega\n",
        "if len(y_test.shape) > 1 and y_test.shape[1] > 1:\n",
        "    y_true = np.argmax(y_test, axis=1)\n",
        "else:\n",
        "    y_true = y_test\n",
        "\n",
        "# Predictions\n",
        "y_pred_probs = model.predict(X_test)\n",
        "y_pred = np.argmax(y_pred_probs, axis=1)\n",
        "\n",
        "# Confusion matrix calculate karo\n",
        "cm = confusion_matrix(y_true, y_pred)\n",
        "print(\"Confusion Matrix:\")\n",
        "print(cm)\n",
        "\n",
        "# Confusion matrix plot karo\n",
        "plt.figure(figsize=(6,5))\n",
        "sns.heatmap(cm, annot=True, fmt='d', cmap='Blues',\n",
        "            xticklabels=[\"Original\", \"Tampered\"],\n",
        "            yticklabels=[\"Original\", \"Tampered\"])\n",
        "plt.xlabel(\"Predicted Label\")\n",
        "plt.ylabel(\"True Label\")\n",
        "plt.title(\"Confusion Matrix\")\n",
        "plt.show()\n",
        "\n",
        "# Classification report print karo\n",
        "print(\"\\nClassification Report:\")\n",
        "print(classification_report(y_true, y_pred, target_names=[\"Original\", \"Tampered\"]))\n"
      ],
      "metadata": {
        "colab": {
          "base_uri": "https://localhost:8080/",
          "height": 785
        },
        "id": "BMIa87B7Ap0X",
        "outputId": "a484bf88-2f41-48bc-a10e-ef4ed8cb2dee"
      },
      "execution_count": null,
      "outputs": [
        {
          "output_type": "stream",
          "name": "stdout",
          "text": [
            "\u001b[1m2/3\u001b[0m \u001b[32m━━━━━━━━━━━━━\u001b[0m\u001b[37m━━━━━━━\u001b[0m \u001b[1m0s\u001b[0m 364ms/step"
          ]
        },
        {
          "output_type": "stream",
          "name": "stderr",
          "text": [
            "WARNING:tensorflow:5 out of the last 13 calls to <function TensorFlowTrainer.make_predict_function.<locals>.one_step_on_data_distributed at 0x7e9d197276a0> triggered tf.function retracing. Tracing is expensive and the excessive number of tracings could be due to (1) creating @tf.function repeatedly in a loop, (2) passing tensors with different shapes, (3) passing Python objects instead of tensors. For (1), please define your @tf.function outside of the loop. For (2), @tf.function has reduce_retracing=True option that can avoid unnecessary retracing. For (3), please refer to https://www.tensorflow.org/guide/function#controlling_retracing and https://www.tensorflow.org/api_docs/python/tf/function for  more details.\n"
          ]
        },
        {
          "output_type": "stream",
          "name": "stdout",
          "text": [
            "\u001b[1m3/3\u001b[0m \u001b[32m━━━━━━━━━━━━━━━━━━━━\u001b[0m\u001b[37m\u001b[0m \u001b[1m1s\u001b[0m 323ms/step\n",
            "Confusion Matrix:\n",
            "[[55 19]\n",
            " [ 0 20]]\n"
          ]
        },
        {
          "output_type": "display_data",
          "data": {
            "text/plain": [
              "<Figure size 600x500 with 2 Axes>"
            ],
            "image/png": "[encoded data removed]"
          },
          "metadata": {}
        },
        {
          "output_type": "stream",
          "name": "stdout",
          "text": [
            "\n",
            "Classification Report:\n",
            "              precision    recall  f1-score   support\n",
            "\n",
            "    Original       1.00      0.74      0.85        74\n",
            "    Tampered       0.51      1.00      0.68        20\n",
            "\n",
            "    accuracy                           0.80        94\n",
            "   macro avg       0.76      0.87      0.77        94\n",
            "weighted avg       0.90      0.80      0.82        94\n",
            "\n"
          ]
        }
      ]
    },
    {
      "cell_type": "code",
      "source": [
        "import os\n",
        "import numpy as np\n",
        "import matplotlib.pyplot as plt\n",
        "import tensorflow as tf\n",
        "from tensorflow.keras import layers, models\n",
        "from sklearn.model_selection import train_test_split\n",
        "from sklearn.preprocessing import LabelEncoder\n",
        "from tensorflow.keras.utils import to_categorical\n",
        "from sklearn.utils.class_weight import compute_class_weight\n",
        "\n",
        "# Paths (update apne dataset ke hisab se)\n",
        "DATA_DIR_ORIGINAL = \"/content/drive/MyDrive/dataset/ExtraOriginal\"\n",
        "DATA_DIR_TAMPERED = \"/content/drive/MyDrive/dataset/ExtraTampered\"\n",
        "\n",
        "# Load images and labels\n",
        "def load_images_and_labels(original_dir, tampered_dir, img_size=(128,128)):\n",
        "    data = []\n",
        "    labels = []\n",
        "    import cv2\n",
        "    for f in os.listdir(original_dir):\n",
        "        img_path = os.path.join(original_dir, f)\n",
        "        img = cv2.imread(img_path, cv2.IMREAD_GRAYSCALE)\n",
        "        if img is not None:\n",
        "            img = cv2.resize(img, img_size)\n",
        "            data.append(img)\n",
        "            labels.append(0)  # Original label\n",
        "    for f in os.listdir(tampered_dir):\n",
        "        img_path = os.path.join(tampered_dir, f)\n",
        "        img = cv2.imread(img_path, cv2.IMREAD_GRAYSCALE)\n",
        "        if img is not None:\n",
        "            img = cv2.resize(img, img_size)\n",
        "            data.append(img)\n",
        "            labels.append(1)  # Tampered label\n",
        "    data = np.array(data).astype(\"float32\") / 255.0\n",
        "    data = np.expand_dims(data, -1)  # (N, 128, 128, 1)\n",
        "    labels = np.array(labels)\n",
        "    return data, labels\n",
        "\n",
        "print(\"Loading data...\")\n",
        "X, y = load_images_and_labels(DATA_DIR_ORIGINAL, DATA_DIR_TAMPERED)\n",
        "print(f\"Data shape: {X.shape}, Labels shape: {y.shape}\")\n",
        "\n",
        "# Encode labels & one-hot\n",
        "le = LabelEncoder()\n",
        "y_enc = le.fit_transform(y)\n",
        "y_cat = to_categorical(y_enc)\n",
        "\n",
        "# Train test split\n",
        "X_train, X_test, y_train, y_test = train_test_split(X, y_cat, test_size=0.2, random_state=42, stratify=y_enc)\n",
        "\n",
        "# Compute class weights\n",
        "class_weights_raw = compute_class_weight(\"balanced\", classes=np.unique(y_enc), y=y_enc)\n",
        "class_weights = {i : w for i, w in enumerate(class_weights_raw)}\n",
        "print(\"Class weights:\", class_weights)\n",
        "\n",
        "# Data Augmentation\n",
        "datagen = tf.keras.preprocessing.image.ImageDataGenerator(\n",
        "    rotation_range=10,\n",
        "    width_shift_range=0.1,\n",
        "    height_shift_range=0.1,\n",
        "    horizontal_flip=True,\n",
        "    zoom_range=0.1,\n",
        "    fill_mode='nearest'\n",
        ")\n",
        "\n",
        "# Build CNN Model\n",
        "def build_cnn():\n",
        "    model = models.Sequential([\n",
        "        layers.Conv2D(32, (3,3), activation='relu', input_shape=(128,128,1)),\n",
        "        layers.MaxPooling2D((2,2)),\n",
        "        layers.Conv2D(64, (3,3), activation='relu'),\n",
        "        layers.MaxPooling2D((2,2)),\n",
        "        layers.Conv2D(128, (3,3), activation='relu'),\n",
        "        layers.MaxPooling2D((2,2)),\n",
        "        layers.Flatten(),\n",
        "        layers.Dense(128, activation='relu'),\n",
        "        layers.Dropout(0.5),\n",
        "        layers.Dense(2, activation='softmax')\n",
        "    ])\n",
        "    model.compile(optimizer='adam', loss='categorical_crossentropy', metrics=['accuracy'])\n",
        "    return model\n",
        "\n",
        "model = build_cnn()\n",
        "model.summary()\n",
        "\n",
        "# Train model with augmentation and class weights\n",
        "batch_size = 32\n",
        "epochs = 30\n",
        "\n",
        "train_generator = datagen.flow(X_train, y_train, batch_size=batch_size)\n",
        "\n",
        "history = model.fit(\n",
        "    train_generator,\n",
        "    steps_per_epoch=len(X_train)//batch_size,\n",
        "    epochs=epochs,\n",
        "    validation_data=(X_test, y_test),\n",
        "    class_weight=class_weights,\n",
        "    verbose=1\n",
        ")\n",
        "\n",
        "# Plot accuracy and loss curves\n",
        "plt.figure(figsize=(12,5))\n",
        "\n",
        "plt.subplot(1,2,1)\n",
        "plt.plot(history.history['accuracy'], label='Train Acc')\n",
        "plt.plot(history.history['val_accuracy'], label='Val Acc')\n",
        "plt.title(\"Accuracy\")\n",
        "plt.legend()\n",
        "\n",
        "plt.subplot(1,2,2)\n",
        "plt.plot(history.history['loss'], label='Train Loss')\n",
        "plt.plot(history.history['val_loss'], label='Val Loss')\n",
        "plt.title(\"Loss\")\n",
        "plt.legend()\n",
        "\n",
        "plt.show()\n",
        "\n",
        "# Evaluate on test\n",
        "test_loss, test_acc = model.evaluate(X_test, y_test, verbose=0)\n",
        "print(f\"✅ Final CNN Test Accuracy: {test_acc:.4f}\")\n",
        "\n",
        "# Save model\n",
        "model.save(\"/content/drive/MyDrive/Objective2/tampered_cnn_augmented.keras\")\n",
        "print(\"💾 Model saved to Google Drive.\")\n",
        "\n"
      ],
      "metadata": {
        "colab": {
          "base_uri": "https://localhost:8080/",
          "height": 1000
        },
        "id": "nB6p1YC917q3",
        "outputId": "76abd32a-7977-43da-a8ac-89b5cf686be2"
      },
      "execution_count": null,
      "outputs": [
        {
          "output_type": "stream",
          "name": "stdout",
          "text": [
            "Loading data...\n",
            "Data shape: (468, 128, 128, 1), Labels shape: (468,)\n",
            "Class weights: {0: np.float64(0.639344262295082), 1: np.float64(2.2941176470588234)}\n"
          ]
        },
        {
          "output_type": "stream",
          "name": "stderr",
          "text": [
            "/usr/local/lib/python3.12/dist-packages/keras/src/layers/convolutional/base_conv.py:113: UserWarning: Do not pass an `input_shape`/`input_dim` argument to a layer. When using Sequential models, prefer using an `Input(shape)` object as the first layer in the model instead.\n",
            "  super().__init__(activity_regularizer=activity_regularizer, **kwargs)\n"
          ]
        },
        {
          "output_type": "display_data",
          "data": {
            "text/plain": [
              "\u001b[1mModel: \"sequential_1\"\u001b[0m\n"
            ],
            "text/html": [
              "<pre style=\"white-space:pre;overflow-x:auto;line-height:normal;font-family:Menlo,'DejaVu Sans Mono',consolas,'Courier New',monospace\"><span style=\"font-weight: bold\">Model: \"sequential_1\"</span>\n",
              "</pre>\n"
            ]
          },
          "metadata": {}
        },
        {
          "output_type": "display_data",
          "data": {
            "text/plain": [
              "┏━━━━━━━━━━━━━━━━━━━━━━━━━━━━━━━━━┳━━━━━━━━━━━━━━━━━━━━━━━━┳━━━━━━━━━━━━━━━┓\n",
              "┃\u001b[1m \u001b[0m\u001b[1mLayer (type)                   \u001b[0m\u001b[1m \u001b[0m┃\u001b[1m \u001b[0m\u001b[1mOutput Shape          \u001b[0m\u001b[1m \u001b[0m┃\u001b[1m \u001b[0m\u001b[1m      Param #\u001b[0m\u001b[1m \u001b[0m┃\n",
              "┡━━━━━━━━━━━━━━━━━━━━━━━━━━━━━━━━━╇━━━━━━━━━━━━━━━━━━━━━━━━╇━━━━━━━━━━━━━━━┩\n",
              "│ conv2d_3 (\u001b[38;5;33mConv2D\u001b[0m)               │ (\u001b[38;5;45mNone\u001b[0m, \u001b[38;5;34m126\u001b[0m, \u001b[38;5;34m126\u001b[0m, \u001b[38;5;34m32\u001b[0m)   │           \u001b[38;5;34m320\u001b[0m │\n",
              "├─────────────────────────────────┼────────────────────────┼───────────────┤\n",
              "│ max_pooling2d_2 (\u001b[38;5;33mMaxPooling2D\u001b[0m)  │ (\u001b[38;5;45mNone\u001b[0m, \u001b[38;5;34m63\u001b[0m, \u001b[38;5;34m63\u001b[0m, \u001b[38;5;34m32\u001b[0m)     │             \u001b[38;5;34m0\u001b[0m │\n",
              "├─────────────────────────────────┼────────────────────────┼───────────────┤\n",
              "│ conv2d_4 (\u001b[38;5;33mConv2D\u001b[0m)               │ (\u001b[38;5;45mNone\u001b[0m, \u001b[38;5;34m61\u001b[0m, \u001b[38;5;34m61\u001b[0m, \u001b[38;5;34m64\u001b[0m)     │        \u001b[38;5;34m18,496\u001b[0m │\n",
              "├─────────────────────────────────┼────────────────────────┼───────────────┤\n",
              "│ max_pooling2d_3 (\u001b[38;5;33mMaxPooling2D\u001b[0m)  │ (\u001b[38;5;45mNone\u001b[0m, \u001b[38;5;34m30\u001b[0m, \u001b[38;5;34m30\u001b[0m, \u001b[38;5;34m64\u001b[0m)     │             \u001b[38;5;34m0\u001b[0m │\n",
              "├─────────────────────────────────┼────────────────────────┼───────────────┤\n",
              "│ conv2d_5 (\u001b[38;5;33mConv2D\u001b[0m)               │ (\u001b[38;5;45mNone\u001b[0m, \u001b[38;5;34m28\u001b[0m, \u001b[38;5;34m28\u001b[0m, \u001b[38;5;34m128\u001b[0m)    │        \u001b[38;5;34m73,856\u001b[0m │\n",
              "├─────────────────────────────────┼────────────────────────┼───────────────┤\n",
              "│ max_pooling2d_4 (\u001b[38;5;33mMaxPooling2D\u001b[0m)  │ (\u001b[38;5;45mNone\u001b[0m, \u001b[38;5;34m14\u001b[0m, \u001b[38;5;34m14\u001b[0m, \u001b[38;5;34m128\u001b[0m)    │             \u001b[38;5;34m0\u001b[0m │\n",
              "├─────────────────────────────────┼────────────────────────┼───────────────┤\n",
              "│ flatten (\u001b[38;5;33mFlatten\u001b[0m)               │ (\u001b[38;5;45mNone\u001b[0m, \u001b[38;5;34m25088\u001b[0m)          │             \u001b[38;5;34m0\u001b[0m │\n",
              "├─────────────────────────────────┼────────────────────────┼───────────────┤\n",
              "│ dense_2 (\u001b[38;5;33mDense\u001b[0m)                 │ (\u001b[38;5;45mNone\u001b[0m, \u001b[38;5;34m128\u001b[0m)            │     \u001b[38;5;34m3,211,392\u001b[0m │\n",
              "├─────────────────────────────────┼────────────────────────┼───────────────┤\n",
              "│ dropout_1 (\u001b[38;5;33mDropout\u001b[0m)             │ (\u001b[38;5;45mNone\u001b[0m, \u001b[38;5;34m128\u001b[0m)            │             \u001b[38;5;34m0\u001b[0m │\n",
              "├─────────────────────────────────┼────────────────────────┼───────────────┤\n",
              "│ dense_3 (\u001b[38;5;33mDense\u001b[0m)                 │ (\u001b[38;5;45mNone\u001b[0m, \u001b[38;5;34m2\u001b[0m)              │           \u001b[38;5;34m258\u001b[0m │\n",
              "└─────────────────────────────────┴────────────────────────┴───────────────┘\n"
            ],
            "text/html": [
              "<pre style=\"white-space:pre;overflow-x:auto;line-height:normal;font-family:Menlo,'DejaVu Sans Mono',consolas,'Courier New',monospace\">┏━━━━━━━━━━━━━━━━━━━━━━━━━━━━━━━━━┳━━━━━━━━━━━━━━━━━━━━━━━━┳━━━━━━━━━━━━━━━┓\n",
              "┃<span style=\"font-weight: bold\"> Layer (type)                    </span>┃<span style=\"font-weight: bold\"> Output Shape           </span>┃<span style=\"font-weight: bold\">       Param # </span>┃\n",
              "┡━━━━━━━━━━━━━━━━━━━━━━━━━━━━━━━━━╇━━━━━━━━━━━━━━━━━━━━━━━━╇━━━━━━━━━━━━━━━┩\n",
              "│ conv2d_3 (<span style=\"color: #0087ff; text-decoration-color: #0087ff\">Conv2D</span>)               │ (<span style=\"color: #00d7ff; text-decoration-color: #00d7ff\">None</span>, <span style=\"color: #00af00; text-decoration-color: #00af00\">126</span>, <span style=\"color: #00af00; text-decoration-color: #00af00\">126</span>, <span style=\"color: #00af00; text-decoration-color: #00af00\">32</span>)   │           <span style=\"color: #00af00; text-decoration-color: #00af00\">320</span> │\n",
              "├─────────────────────────────────┼────────────────────────┼───────────────┤\n",
              "│ max_pooling2d_2 (<span style=\"color: #0087ff; text-decoration-color: #0087ff\">MaxPooling2D</span>)  │ (<span style=\"color: #00d7ff; text-decoration-color: #00d7ff\">None</span>, <span style=\"color: #00af00; text-decoration-color: #00af00\">63</span>, <span style=\"color: #00af00; text-decoration-color: #00af00\">63</span>, <span style=\"color: #00af00; text-decoration-color: #00af00\">32</span>)     │             <span style=\"color: #00af00; text-decoration-color: #00af00\">0</span> │\n",
              "├─────────────────────────────────┼────────────────────────┼───────────────┤\n",
              "│ conv2d_4 (<span style=\"color: #0087ff; text-decoration-color: #0087ff\">Conv2D</span>)               │ (<span style=\"color: #00d7ff; text-decoration-color: #00d7ff\">None</span>, <span style=\"color: #00af00; text-decoration-color: #00af00\">61</span>, <span style=\"color: #00af00; text-decoration-color: #00af00\">61</span>, <span style=\"color: #00af00; text-decoration-color: #00af00\">64</span>)     │        <span style=\"color: #00af00; text-decoration-color: #00af00\">18,496</span> │\n",
              "├─────────────────────────────────┼────────────────────────┼───────────────┤\n",
              "│ max_pooling2d_3 (<span style=\"color: #0087ff; text-decoration-color: #0087ff\">MaxPooling2D</span>)  │ (<span style=\"color: #00d7ff; text-decoration-color: #00d7ff\">None</span>, <span style=\"color: #00af00; text-decoration-color: #00af00\">30</span>, <span style=\"color: #00af00; text-decoration-color: #00af00\">30</span>, <span style=\"color: #00af00; text-decoration-color: #00af00\">64</span>)     │             <span style=\"color: #00af00; text-decoration-color: #00af00\">0</span> │\n",
              "├─────────────────────────────────┼────────────────────────┼───────────────┤\n",
              "│ conv2d_5 (<span style=\"color: #0087ff; text-decoration-color: #0087ff\">Conv2D</span>)               │ (<span style=\"color: #00d7ff; text-decoration-color: #00d7ff\">None</span>, <span style=\"color: #00af00; text-decoration-color: #00af00\">28</span>, <span style=\"color: #00af00; text-decoration-color: #00af00\">28</span>, <span style=\"color: #00af00; text-decoration-color: #00af00\">128</span>)    │        <span style=\"color: #00af00; text-decoration-color: #00af00\">73,856</span> │\n",
              "├─────────────────────────────────┼────────────────────────┼───────────────┤\n",
              "│ max_pooling2d_4 (<span style=\"color: #0087ff; text-decoration-color: #0087ff\">MaxPooling2D</span>)  │ (<span style=\"color: #00d7ff; text-decoration-color: #00d7ff\">None</span>, <span style=\"color: #00af00; text-decoration-color: #00af00\">14</span>, <span style=\"color: #00af00; text-decoration-color: #00af00\">14</span>, <span style=\"color: #00af00; text-decoration-color: #00af00\">128</span>)    │             <span style=\"color: #00af00; text-decoration-color: #00af00\">0</span> │\n",
              "├─────────────────────────────────┼────────────────────────┼───────────────┤\n",
              "│ flatten (<span style=\"color: #0087ff; text-decoration-color: #0087ff\">Flatten</span>)               │ (<span style=\"color: #00d7ff; text-decoration-color: #00d7ff\">None</span>, <span style=\"color: #00af00; text-decoration-color: #00af00\">25088</span>)          │             <span style=\"color: #00af00; text-decoration-color: #00af00\">0</span> │\n",
              "├─────────────────────────────────┼────────────────────────┼───────────────┤\n",
              "│ dense_2 (<span style=\"color: #0087ff; text-decoration-color: #0087ff\">Dense</span>)                 │ (<span style=\"color: #00d7ff; text-decoration-color: #00d7ff\">None</span>, <span style=\"color: #00af00; text-decoration-color: #00af00\">128</span>)            │     <span style=\"color: #00af00; text-decoration-color: #00af00\">3,211,392</span> │\n",
              "├─────────────────────────────────┼────────────────────────┼───────────────┤\n",
              "│ dropout_1 (<span style=\"color: #0087ff; text-decoration-color: #0087ff\">Dropout</span>)             │ (<span style=\"color: #00d7ff; text-decoration-color: #00d7ff\">None</span>, <span style=\"color: #00af00; text-decoration-color: #00af00\">128</span>)            │             <span style=\"color: #00af00; text-decoration-color: #00af00\">0</span> │\n",
              "├─────────────────────────────────┼────────────────────────┼───────────────┤\n",
              "│ dense_3 (<span style=\"color: #0087ff; text-decoration-color: #0087ff\">Dense</span>)                 │ (<span style=\"color: #00d7ff; text-decoration-color: #00d7ff\">None</span>, <span style=\"color: #00af00; text-decoration-color: #00af00\">2</span>)              │           <span style=\"color: #00af00; text-decoration-color: #00af00\">258</span> │\n",
              "└─────────────────────────────────┴────────────────────────┴───────────────┘\n",
              "</pre>\n"
            ]
          },
          "metadata": {}
        },
        {
          "output_type": "display_data",
          "data": {
            "text/plain": [
              "\u001b[1m Total params: \u001b[0m\u001b[38;5;34m3,304,322\u001b[0m (12.60 MB)\n"
            ],
            "text/html": [
              "<pre style=\"white-space:pre;overflow-x:auto;line-height:normal;font-family:Menlo,'DejaVu Sans Mono',consolas,'Courier New',monospace\"><span style=\"font-weight: bold\"> Total params: </span><span style=\"color: #00af00; text-decoration-color: #00af00\">3,304,322</span> (12.60 MB)\n",
              "</pre>\n"
            ]
          },
          "metadata": {}
        },
        {
          "output_type": "display_data",
          "data": {
            "text/plain": [
              "\u001b[1m Trainable params: \u001b[0m\u001b[38;5;34m3,304,322\u001b[0m (12.60 MB)\n"
            ],
            "text/html": [
              "<pre style=\"white-space:pre;overflow-x:auto;line-height:normal;font-family:Menlo,'DejaVu Sans Mono',consolas,'Courier New',monospace\"><span style=\"font-weight: bold\"> Trainable params: </span><span style=\"color: #00af00; text-decoration-color: #00af00\">3,304,322</span> (12.60 MB)\n",
              "</pre>\n"
            ]
          },
          "metadata": {}
        },
        {
          "output_type": "display_data",
          "data": {
            "text/plain": [
              "\u001b[1m Non-trainable params: \u001b[0m\u001b[38;5;34m0\u001b[0m (0.00 B)\n"
            ],
            "text/html": [
              "<pre style=\"white-space:pre;overflow-x:auto;line-height:normal;font-family:Menlo,'DejaVu Sans Mono',consolas,'Courier New',monospace\"><span style=\"font-weight: bold\"> Non-trainable params: </span><span style=\"color: #00af00; text-decoration-color: #00af00\">0</span> (0.00 B)\n",
              "</pre>\n"
            ]
          },
          "metadata": {}
        },
        {
          "output_type": "stream",
          "name": "stderr",
          "text": [
            "/usr/local/lib/python3.12/dist-packages/keras/src/trainers/data_adapters/py_dataset_adapter.py:121: UserWarning: Your `PyDataset` class should call `super().__init__(**kwargs)` in its constructor. `**kwargs` can include `workers`, `use_multiprocessing`, `max_queue_size`. Do not pass these arguments to `fit()`, as they will be ignored.\n",
            "  self._warn_if_super_not_called()\n"
          ]
        },
        {
          "output_type": "stream",
          "name": "stdout",
          "text": [
            "Epoch 1/30\n",
            "\u001b[1m11/11\u001b[0m \u001b[32m━━━━━━━━━━━━━━━━━━━━\u001b[0m\u001b[37m\u001b[0m \u001b[1m17s\u001b[0m 1s/step - accuracy: 0.5987 - loss: 1.0066 - val_accuracy: 0.7872 - val_loss: 0.6217\n",
            "Epoch 2/30\n",
            "\u001b[1m 1/11\u001b[0m \u001b[32m━\u001b[0m\u001b[37m━━━━━━━━━━━━━━━━━━━\u001b[0m \u001b[1m8s\u001b[0m 897ms/step - accuracy: 0.7500 - loss: 0.6854"
          ]
        },
        {
          "output_type": "stream",
          "name": "stderr",
          "text": [
            "/usr/local/lib/python3.12/dist-packages/keras/src/trainers/epoch_iterator.py:116: UserWarning: Your input ran out of data; interrupting training. Make sure that your dataset or generator can generate at least `steps_per_epoch * epochs` batches. You may need to use the `.repeat()` function when building your dataset.\n",
            "  self._interrupted_warning()\n"
          ]
        },
        {
          "output_type": "stream",
          "name": "stdout",
          "text": [
            "\b\b\b\b\b\b\b\b\b\b\b\b\b\b\b\b\b\b\b\b\b\b\b\b\b\b\b\b\b\b\b\b\b\b\b\b\b\b\b\b\b\b\b\b\b\b\b\b\b\b\b\b\b\b\b\b\b\b\b\b\b\b\b\b\b\b\b\b\b\b\b\b\b\b\r\u001b[1m11/11\u001b[0m \u001b[32m━━━━━━━━━━━━━━━━━━━━\u001b[0m\u001b[37m\u001b[0m \u001b[1m2s\u001b[0m 131ms/step - accuracy: 0.7500 - loss: 0.6854 - val_accuracy: 0.7872 - val_loss: 0.5913\n",
            "Epoch 3/30\n",
            "\u001b[1m11/11\u001b[0m \u001b[32m━━━━━━━━━━━━━━━━━━━━\u001b[0m\u001b[37m\u001b[0m \u001b[1m17s\u001b[0m 1s/step - accuracy: 0.6666 - loss: 0.6887 - val_accuracy: 0.7979 - val_loss: 0.5115\n",
            "Epoch 4/30\n",
            "\u001b[1m11/11\u001b[0m \u001b[32m━━━━━━━━━━━━━━━━━━━━\u001b[0m\u001b[37m\u001b[0m \u001b[1m2s\u001b[0m 79ms/step - accuracy: 0.6364 - loss: 0.7235 - val_accuracy: 0.7872 - val_loss: 0.4253\n",
            "Epoch 5/30\n",
            "\u001b[1m11/11\u001b[0m \u001b[32m━━━━━━━━━━━━━━━━━━━━\u001b[0m\u001b[37m\u001b[0m \u001b[1m12s\u001b[0m 1s/step - accuracy: 0.7530 - loss: 0.6572 - val_accuracy: 0.7979 - val_loss: 0.3688\n",
            "Epoch 6/30\n",
            "\u001b[1m11/11\u001b[0m \u001b[32m━━━━━━━━━━━━━━━━━━━━\u001b[0m\u001b[37m\u001b[0m \u001b[1m4s\u001b[0m 261ms/step - accuracy: 0.6875 - loss: 0.6856 - val_accuracy: 0.7979 - val_loss: 0.4170\n",
            "Epoch 7/30\n",
            "\u001b[1m11/11\u001b[0m \u001b[32m━━━━━━━━━━━━━━━━━━━━\u001b[0m\u001b[37m\u001b[0m \u001b[1m13s\u001b[0m 1s/step - accuracy: 0.7450 - loss: 0.5813 - val_accuracy: 0.7766 - val_loss: 0.3726\n",
            "Epoch 8/30\n",
            "\u001b[1m11/11\u001b[0m \u001b[32m━━━━━━━━━━━━━━━━━━━━\u001b[0m\u001b[37m\u001b[0m \u001b[1m3s\u001b[0m 133ms/step - accuracy: 0.3438 - loss: 0.7714 - val_accuracy: 0.7766 - val_loss: 0.3742\n",
            "Epoch 9/30\n",
            "\u001b[1m11/11\u001b[0m \u001b[32m━━━━━━━━━━━━━━━━━━━━\u001b[0m\u001b[37m\u001b[0m \u001b[1m19s\u001b[0m 1s/step - accuracy: 0.5161 - loss: 0.6454 - val_accuracy: 0.7979 - val_loss: 0.4307\n",
            "Epoch 10/30\n",
            "\u001b[1m11/11\u001b[0m \u001b[32m━━━━━━━━━━━━━━━━━━━━\u001b[0m\u001b[37m\u001b[0m \u001b[1m2s\u001b[0m 77ms/step - accuracy: 0.8438 - loss: 0.3476 - val_accuracy: 0.8085 - val_loss: 0.4688\n",
            "Epoch 11/30\n",
            "\u001b[1m11/11\u001b[0m \u001b[32m━━━━━━━━━━━━━━━━━━━━\u001b[0m\u001b[37m\u001b[0m \u001b[1m14s\u001b[0m 1s/step - accuracy: 0.7760 - loss: 0.4638 - val_accuracy: 0.7979 - val_loss: 1.2278\n",
            "Epoch 12/30\n",
            "\u001b[1m11/11\u001b[0m \u001b[32m━━━━━━━━━━━━━━━━━━━━\u001b[0m\u001b[37m\u001b[0m \u001b[1m3s\u001b[0m 132ms/step - accuracy: 0.6875 - loss: 0.4398 - val_accuracy: 0.7872 - val_loss: 1.5858\n",
            "Epoch 13/30\n",
            "\u001b[1m11/11\u001b[0m \u001b[32m━━━━━━━━━━━━━━━━━━━━\u001b[0m\u001b[37m\u001b[0m \u001b[1m14s\u001b[0m 1s/step - accuracy: 0.7706 - loss: 0.4534 - val_accuracy: 0.7979 - val_loss: 0.6973\n",
            "Epoch 14/30\n",
            "\u001b[1m11/11\u001b[0m \u001b[32m━━━━━━━━━━━━━━━━━━━━\u001b[0m\u001b[37m\u001b[0m \u001b[1m2s\u001b[0m 130ms/step - accuracy: 0.6562 - loss: 0.4827 - val_accuracy: 0.8085 - val_loss: 0.5585\n",
            "Epoch 15/30\n",
            "\u001b[1m11/11\u001b[0m \u001b[32m━━━━━━━━━━━━━━━━━━━━\u001b[0m\u001b[37m\u001b[0m \u001b[1m14s\u001b[0m 1s/step - accuracy: 0.7323 - loss: 0.4777 - val_accuracy: 0.8085 - val_loss: 0.3919\n",
            "Epoch 16/30\n",
            "\u001b[1m11/11\u001b[0m \u001b[32m━━━━━━━━━━━━━━━━━━━━\u001b[0m\u001b[37m\u001b[0m \u001b[1m2s\u001b[0m 77ms/step - accuracy: 0.5625 - loss: 0.5442 - val_accuracy: 0.8085 - val_loss: 0.3601\n",
            "Epoch 17/30\n",
            "\u001b[1m11/11\u001b[0m \u001b[32m━━━━━━━━━━━━━━━━━━━━\u001b[0m\u001b[37m\u001b[0m \u001b[1m14s\u001b[0m 1s/step - accuracy: 0.5975 - loss: 0.5570 - val_accuracy: 0.8085 - val_loss: 0.4446\n",
            "Epoch 18/30\n",
            "\u001b[1m11/11\u001b[0m \u001b[32m━━━━━━━━━━━━━━━━━━━━\u001b[0m\u001b[37m\u001b[0m \u001b[1m2s\u001b[0m 132ms/step - accuracy: 0.6562 - loss: 0.5489 - val_accuracy: 0.8085 - val_loss: 0.3529\n",
            "Epoch 19/30\n",
            "\u001b[1m11/11\u001b[0m \u001b[32m━━━━━━━━━━━━━━━━━━━━\u001b[0m\u001b[37m\u001b[0m \u001b[1m16s\u001b[0m 1s/step - accuracy: 0.6524 - loss: 0.5237 - val_accuracy: 0.7872 - val_loss: 0.9596\n",
            "Epoch 20/30\n",
            "\u001b[1m11/11\u001b[0m \u001b[32m━━━━━━━━━━━━━━━━━━━━\u001b[0m\u001b[37m\u001b[0m \u001b[1m3s\u001b[0m 131ms/step - accuracy: 0.7500 - loss: 0.3929 - val_accuracy: 0.7872 - val_loss: 0.8455\n",
            "Epoch 21/30\n",
            "\u001b[1m11/11\u001b[0m \u001b[32m━━━━━━━━━━━━━━━━━━━━\u001b[0m\u001b[37m\u001b[0m \u001b[1m20s\u001b[0m 1s/step - accuracy: 0.7919 - loss: 0.4152 - val_accuracy: 0.7979 - val_loss: 0.7111\n",
            "Epoch 22/30\n",
            "\u001b[1m11/11\u001b[0m \u001b[32m━━━━━━━━━━━━━━━━━━━━\u001b[0m\u001b[37m\u001b[0m \u001b[1m2s\u001b[0m 78ms/step - accuracy: 0.7500 - loss: 0.4684 - val_accuracy: 0.8085 - val_loss: 0.6423\n",
            "Epoch 23/30\n",
            "\u001b[1m11/11\u001b[0m \u001b[32m━━━━━━━━━━━━━━━━━━━━\u001b[0m\u001b[37m\u001b[0m \u001b[1m19s\u001b[0m 1s/step - accuracy: 0.7517 - loss: 0.3965 - val_accuracy: 0.7872 - val_loss: 0.9279\n",
            "Epoch 24/30\n",
            "\u001b[1m11/11\u001b[0m \u001b[32m━━━━━━━━━━━━━━━━━━━━\u001b[0m\u001b[37m\u001b[0m \u001b[1m2s\u001b[0m 77ms/step - accuracy: 0.6875 - loss: 0.4543 - val_accuracy: 0.7979 - val_loss: 0.8713\n",
            "Epoch 25/30\n",
            "\u001b[1m11/11\u001b[0m \u001b[32m━━━━━━━━━━━━━━━━━━━━\u001b[0m\u001b[37m\u001b[0m \u001b[1m15s\u001b[0m 1s/step - accuracy: 0.7805 - loss: 0.3800 - val_accuracy: 0.7979 - val_loss: 0.8374\n",
            "Epoch 26/30\n",
            "\u001b[1m11/11\u001b[0m \u001b[32m━━━━━━━━━━━━━━━━━━━━\u001b[0m\u001b[37m\u001b[0m \u001b[1m2s\u001b[0m 130ms/step - accuracy: 0.8182 - loss: 0.4375 - val_accuracy: 0.7979 - val_loss: 0.7406\n",
            "Epoch 27/30\n",
            "\u001b[1m11/11\u001b[0m \u001b[32m━━━━━━━━━━━━━━━━━━━━\u001b[0m\u001b[37m\u001b[0m \u001b[1m17s\u001b[0m 1s/step - accuracy: 0.7834 - loss: 0.3742 - val_accuracy: 0.7872 - val_loss: 1.4564\n",
            "Epoch 28/30\n",
            "\u001b[1m11/11\u001b[0m \u001b[32m━━━━━━━━━━━━━━━━━━━━\u001b[0m\u001b[37m\u001b[0m \u001b[1m6s\u001b[0m 331ms/step - accuracy: 0.6875 - loss: 0.4931 - val_accuracy: 0.7872 - val_loss: 1.4574\n",
            "Epoch 29/30\n",
            "\u001b[1m11/11\u001b[0m \u001b[32m━━━━━━━━━━━━━━━━━━━━\u001b[0m\u001b[37m\u001b[0m \u001b[1m19s\u001b[0m 1s/step - accuracy: 0.8170 - loss: 0.3598 - val_accuracy: 0.7979 - val_loss: 1.4232\n",
            "Epoch 30/30\n",
            "\u001b[1m11/11\u001b[0m \u001b[32m━━━━━━━━━━━━━━━━━━━━\u001b[0m\u001b[37m\u001b[0m \u001b[1m2s\u001b[0m 130ms/step - accuracy: 0.7812 - loss: 0.5402 - val_accuracy: 0.7872 - val_loss: 1.3108\n"
          ]
        },
        {
          "output_type": "display_data",
          "data": {
            "text/plain": [
              "<Figure size 1200x500 with 2 Axes>"
            ],
            "image/png": "[encoded data removed]"
          },
          "metadata": {}
        },
        {
          "output_type": "stream",
          "name": "stdout",
          "text": [
            "✅ Final CNN Test Accuracy: 0.7872\n",
            "💾 Model saved to Google Drive.\n"
          ]
        }
      ]
    },
    {
      "cell_type": "code",
      "source": [],
      "metadata": {
        "id": "o5uKhZiABmmc"
      },
      "execution_count": null,
      "outputs": []
    },
    {
      "cell_type": "code",
      "source": [
        "from sklearn.metrics import classification_report, confusion_matrix, accuracy_score\n",
        "import numpy as np\n",
        "\n",
        "if len(y_test.shape) > 1 and y_test.shape[1] > 1:\n",
        "    y_true = np.argmax(y_test, axis=1)\n",
        "else:\n",
        "    y_true = y_test\n",
        "\n",
        "y_pred_probs = model.predict(X_test)\n",
        "y_pred = np.argmax(y_pred_probs, axis=1)\n",
        "\n",
        "acc = accuracy_score(y_true, y_pred)\n",
        "print(f\"✅ Final Test Accuracy: {acc:.4f}\")\n",
        "\n",
        "target_names = ['Original', 'Tampered']  # Apne labels ke hisaab se adjust karo\n",
        "print(\"\\n📊 Classification Report:\")\n",
        "print(classification_report(y_true, y_pred, target_names=target_names))\n",
        "\n",
        "cm = confusion_matrix(y_true, y_pred)\n",
        "print(\"\\n🔹 Confusion Matrix:\")\n",
        "print(cm)\n"
      ],
      "metadata": {
        "colab": {
          "base_uri": "https://localhost:8080/"
        },
        "id": "BNPuNXj6_XXN",
        "outputId": "0090b89b-e111-4f4e-f153-fb54f7bfe881"
      },
      "execution_count": null,
      "outputs": [
        {
          "output_type": "stream",
          "name": "stdout",
          "text": [
            "\u001b[1m3/3\u001b[0m \u001b[32m━━━━━━━━━━━━━━━━━━━━\u001b[0m\u001b[37m\u001b[0m \u001b[1m3s\u001b[0m 649ms/step\n",
            "✅ Final Test Accuracy: 0.7872\n",
            "\n",
            "📊 Classification Report:\n",
            "              precision    recall  f1-score   support\n",
            "\n",
            "    Original       0.79      1.00      0.88        74\n",
            "    Tampered       0.00      0.00      0.00        20\n",
            "\n",
            "    accuracy                           0.79        94\n",
            "   macro avg       0.39      0.50      0.44        94\n",
            "weighted avg       0.62      0.79      0.69        94\n",
            "\n",
            "\n",
            "🔹 Confusion Matrix:\n",
            "[[74  0]\n",
            " [20  0]]\n"
          ]
        },
        {
          "output_type": "stream",
          "name": "stderr",
          "text": [
            "/usr/local/lib/python3.12/dist-packages/sklearn/metrics/_classification.py:1565: UndefinedMetricWarning: Precision is ill-defined and being set to 0.0 in labels with no predicted samples. Use `zero_division` parameter to control this behavior.\n",
            "  _warn_prf(average, modifier, f\"{metric.capitalize()} is\", len(result))\n",
            "/usr/local/lib/python3.12/dist-packages/sklearn/metrics/_classification.py:1565: UndefinedMetricWarning: Precision is ill-defined and being set to 0.0 in labels with no predicted samples. Use `zero_division` parameter to control this behavior.\n",
            "  _warn_prf(average, modifier, f\"{metric.capitalize()} is\", len(result))\n",
            "/usr/local/lib/python3.12/dist-packages/sklearn/metrics/_classification.py:1565: UndefinedMetricWarning: Precision is ill-defined and being set to 0.0 in labels with no predicted samples. Use `zero_division` parameter to control this behavior.\n",
            "  _warn_prf(average, modifier, f\"{metric.capitalize()} is\", len(result))\n"
          ]
        }
      ]
    },
    {
      "cell_type": "code",
      "source": [
        "import tensorflow as tf\n",
        "from tensorflow.keras import layers, models\n",
        "from tensorflow.keras.applications import EfficientNetB0\n",
        "from tensorflow.keras.preprocessing.image import ImageDataGenerator\n",
        "from sklearn.model_selection import train_test_split\n",
        "from sklearn.utils.class_weight import compute_class_weight\n",
        "import numpy as np\n",
        "import os\n",
        "\n",
        "# Paths to your data folders (change accordingly)\n",
        "original_dir = \"/content/drive/MyDrive/dataset/ExtraOriginal\"\n",
        "tampered_dir = \"/content/drive/MyDrive/dataset/ExtraTampered\"\n",
        "\n",
        "IMG_SIZE = 128\n",
        "BATCH_SIZE = 32\n",
        "EPOCHS = 30\n",
        "\n",
        "# Load image paths and labels\n",
        "def load_images_and_labels():\n",
        "    import cv2, glob\n",
        "\n",
        "    data, labels = [], []\n",
        "    for label, folder in [(0, original_dir), (1, tampered_dir)]:\n",
        "        files = glob.glob(os.path.join(folder, \"*.png\"))\n",
        "        for f in files:\n",
        "            img = cv2.imread(f, cv2.IMREAD_GRAYSCALE)\n",
        "            if img is None:\n",
        "                continue\n",
        "            img = cv2.resize(img, (IMG_SIZE, IMG_SIZE))\n",
        "            img = img.astype(\"float32\") / 255.0\n",
        "            img = np.stack((img,)*3, axis=-1)  # Convert grayscale to 3 channels for EfficientNet\n",
        "            data.append(img)\n",
        "            labels.append(label)\n",
        "    return np.array(data), np.array(labels)\n",
        "\n",
        "print(\"Loading data...\")\n",
        "X, y = load_images_and_labels()\n",
        "print(f\"Data shape: {X.shape}, Labels shape: {y.shape}\")\n",
        "\n",
        "# Train-test split\n",
        "X_train, X_val, y_train, y_val = train_test_split(X, y, stratify=y, test_size=0.2, random_state=42)\n",
        "\n",
        "# Class weights to handle imbalance\n",
        "class_weights = compute_class_weight('balanced', classes=np.unique(y_train), y=y_train)\n",
        "class_weight_dict = dict(enumerate(class_weights))\n",
        "print(\"Class weights:\", class_weight_dict)\n",
        "\n",
        "# Data augmentation\n",
        "train_datagen = ImageDataGenerator(\n",
        "    rotation_range=10,\n",
        "    width_shift_range=0.05,\n",
        "    height_shift_range=0.05,\n",
        "    zoom_range=0.05,\n",
        "    horizontal_flip=True,\n",
        "    fill_mode='nearest'\n",
        ")\n",
        "val_datagen = ImageDataGenerator()\n",
        "\n",
        "train_generator = train_datagen.flow(X_train, y_train, batch_size=BATCH_SIZE)\n",
        "val_generator = val_datagen.flow(X_val, y_val, batch_size=BATCH_SIZE)\n",
        "\n",
        "# Build model using EfficientNetB0\n",
        "base_model = EfficientNetB0(include_top=False, input_shape=(IMG_SIZE, IMG_SIZE, 3), weights='imagenet')\n",
        "base_model.trainable = False  # Freeze base initially\n",
        "\n",
        "inputs = layers.Input(shape=(IMG_SIZE, IMG_SIZE, 3))\n",
        "x = base_model(inputs, training=False)\n",
        "x = layers.GlobalAveragePooling2D()(x)\n",
        "x = layers.Dropout(0.3)(x)\n",
        "x = layers.Dense(128, activation='relu')(x)\n",
        "x = layers.Dropout(0.3)(x)\n",
        "outputs = layers.Dense(1, activation='sigmoid')(x)\n",
        "\n",
        "model = models.Model(inputs, outputs)\n",
        "\n",
        "model.compile(\n",
        "    optimizer=tf.keras.optimizers.Adam(1e-3),\n",
        "    loss='binary_crossentropy',\n",
        "    metrics=['accuracy']\n",
        ")\n",
        "\n",
        "model.summary()\n",
        "\n",
        "# Train frozen model first\n",
        "history = model.fit(\n",
        "    train_generator,\n",
        "    epochs=10,\n",
        "    validation_data=val_generator,\n",
        "    class_weight=class_weight_dict\n",
        ")\n",
        "\n",
        "# Unfreeze base model for fine-tuning\n",
        "base_model.trainable = True\n",
        "\n",
        "# Lower learning rate for fine-tuning\n",
        "model.compile(\n",
        "    optimizer=tf.keras.optimizers.Adam(1e-5),\n",
        "    loss='binary_crossentropy',\n",
        "    metrics=['accuracy']\n",
        ")\n",
        "\n",
        "history_finetune = model.fit(\n",
        "    train_generator,\n",
        "    epochs=EPOCHS-10,\n",
        "    validation_data=val_generator,\n",
        "    class_weight=class_weight_dict\n",
        ")\n",
        "\n",
        "# Save model\n",
        "model.save(\"/content/drive/MyDrive/Objective2/tampered_cnn_transfer_learning.keras\")\n",
        "print(\"Model saved!\")\n",
        "\n",
        "# You can later evaluate or plot accuracy/loss curves similarly.\n"
      ],
      "metadata": {
        "colab": {
          "base_uri": "https://localhost:8080/",
          "height": 1000
        },
        "id": "qBPcroyZ4cBW",
        "outputId": "27491d5d-7b67-4c5a-bf42-f594feb31e96"
      },
      "execution_count": null,
      "outputs": [
        {
          "output_type": "stream",
          "name": "stdout",
          "text": [
            "Loading data...\n",
            "Data shape: (443, 128, 128, 3), Labels shape: (443,)\n",
            "Class weights: {0: np.float64(0.6507352941176471), 1: np.float64(2.158536585365854)}\n",
            "Downloading data from https://storage.googleapis.com/keras-applications/efficientnetb0_notop.h5\n",
            "\u001b[1m16705208/16705208\u001b[0m \u001b[32m━━━━━━━━━━━━━━━━━━━━\u001b[0m\u001b[37m\u001b[0m \u001b[1m0s\u001b[0m 0us/step\n"
          ]
        },
        {
          "output_type": "display_data",
          "data": {
            "text/plain": [
              "\u001b[1mModel: \"functional_2\"\u001b[0m\n"
            ],
            "text/html": [
              "<pre style=\"white-space:pre;overflow-x:auto;line-height:normal;font-family:Menlo,'DejaVu Sans Mono',consolas,'Courier New',monospace\"><span style=\"font-weight: bold\">Model: \"functional_2\"</span>\n",
              "</pre>\n"
            ]
          },
          "metadata": {}
        },
        {
          "output_type": "display_data",
          "data": {
            "text/plain": [
              "┏━━━━━━━━━━━━━━━━━━━━━━━━━━━━━━━━━┳━━━━━━━━━━━━━━━━━━━━━━━━┳━━━━━━━━━━━━━━━┓\n",
              "┃\u001b[1m \u001b[0m\u001b[1mLayer (type)                   \u001b[0m\u001b[1m \u001b[0m┃\u001b[1m \u001b[0m\u001b[1mOutput Shape          \u001b[0m\u001b[1m \u001b[0m┃\u001b[1m \u001b[0m\u001b[1m      Param #\u001b[0m\u001b[1m \u001b[0m┃\n",
              "┡━━━━━━━━━━━━━━━━━━━━━━━━━━━━━━━━━╇━━━━━━━━━━━━━━━━━━━━━━━━╇━━━━━━━━━━━━━━━┩\n",
              "│ input_layer_3 (\u001b[38;5;33mInputLayer\u001b[0m)      │ (\u001b[38;5;45mNone\u001b[0m, \u001b[38;5;34m128\u001b[0m, \u001b[38;5;34m128\u001b[0m, \u001b[38;5;34m3\u001b[0m)    │             \u001b[38;5;34m0\u001b[0m │\n",
              "├─────────────────────────────────┼────────────────────────┼───────────────┤\n",
              "│ efficientnetb0 (\u001b[38;5;33mFunctional\u001b[0m)     │ (\u001b[38;5;45mNone\u001b[0m, \u001b[38;5;34m4\u001b[0m, \u001b[38;5;34m4\u001b[0m, \u001b[38;5;34m1280\u001b[0m)     │     \u001b[38;5;34m4,049,571\u001b[0m │\n",
              "├─────────────────────────────────┼────────────────────────┼───────────────┤\n",
              "│ global_average_pooling2d_1      │ (\u001b[38;5;45mNone\u001b[0m, \u001b[38;5;34m1280\u001b[0m)           │             \u001b[38;5;34m0\u001b[0m │\n",
              "│ (\u001b[38;5;33mGlobalAveragePooling2D\u001b[0m)        │                        │               │\n",
              "├─────────────────────────────────┼────────────────────────┼───────────────┤\n",
              "│ dropout_2 (\u001b[38;5;33mDropout\u001b[0m)             │ (\u001b[38;5;45mNone\u001b[0m, \u001b[38;5;34m1280\u001b[0m)           │             \u001b[38;5;34m0\u001b[0m │\n",
              "├─────────────────────────────────┼────────────────────────┼───────────────┤\n",
              "│ dense_4 (\u001b[38;5;33mDense\u001b[0m)                 │ (\u001b[38;5;45mNone\u001b[0m, \u001b[38;5;34m128\u001b[0m)            │       \u001b[38;5;34m163,968\u001b[0m │\n",
              "├─────────────────────────────────┼────────────────────────┼───────────────┤\n",
              "│ dropout_3 (\u001b[38;5;33mDropout\u001b[0m)             │ (\u001b[38;5;45mNone\u001b[0m, \u001b[38;5;34m128\u001b[0m)            │             \u001b[38;5;34m0\u001b[0m │\n",
              "├─────────────────────────────────┼────────────────────────┼───────────────┤\n",
              "│ dense_5 (\u001b[38;5;33mDense\u001b[0m)                 │ (\u001b[38;5;45mNone\u001b[0m, \u001b[38;5;34m1\u001b[0m)              │           \u001b[38;5;34m129\u001b[0m │\n",
              "└─────────────────────────────────┴────────────────────────┴───────────────┘\n"
            ],
            "text/html": [
              "<pre style=\"white-space:pre;overflow-x:auto;line-height:normal;font-family:Menlo,'DejaVu Sans Mono',consolas,'Courier New',monospace\">┏━━━━━━━━━━━━━━━━━━━━━━━━━━━━━━━━━┳━━━━━━━━━━━━━━━━━━━━━━━━┳━━━━━━━━━━━━━━━┓\n",
              "┃<span style=\"font-weight: bold\"> Layer (type)                    </span>┃<span style=\"font-weight: bold\"> Output Shape           </span>┃<span style=\"font-weight: bold\">       Param # </span>┃\n",
              "┡━━━━━━━━━━━━━━━━━━━━━━━━━━━━━━━━━╇━━━━━━━━━━━━━━━━━━━━━━━━╇━━━━━━━━━━━━━━━┩\n",
              "│ input_layer_3 (<span style=\"color: #0087ff; text-decoration-color: #0087ff\">InputLayer</span>)      │ (<span style=\"color: #00d7ff; text-decoration-color: #00d7ff\">None</span>, <span style=\"color: #00af00; text-decoration-color: #00af00\">128</span>, <span style=\"color: #00af00; text-decoration-color: #00af00\">128</span>, <span style=\"color: #00af00; text-decoration-color: #00af00\">3</span>)    │             <span style=\"color: #00af00; text-decoration-color: #00af00\">0</span> │\n",
              "├─────────────────────────────────┼────────────────────────┼───────────────┤\n",
              "│ efficientnetb0 (<span style=\"color: #0087ff; text-decoration-color: #0087ff\">Functional</span>)     │ (<span style=\"color: #00d7ff; text-decoration-color: #00d7ff\">None</span>, <span style=\"color: #00af00; text-decoration-color: #00af00\">4</span>, <span style=\"color: #00af00; text-decoration-color: #00af00\">4</span>, <span style=\"color: #00af00; text-decoration-color: #00af00\">1280</span>)     │     <span style=\"color: #00af00; text-decoration-color: #00af00\">4,049,571</span> │\n",
              "├─────────────────────────────────┼────────────────────────┼───────────────┤\n",
              "│ global_average_pooling2d_1      │ (<span style=\"color: #00d7ff; text-decoration-color: #00d7ff\">None</span>, <span style=\"color: #00af00; text-decoration-color: #00af00\">1280</span>)           │             <span style=\"color: #00af00; text-decoration-color: #00af00\">0</span> │\n",
              "│ (<span style=\"color: #0087ff; text-decoration-color: #0087ff\">GlobalAveragePooling2D</span>)        │                        │               │\n",
              "├─────────────────────────────────┼────────────────────────┼───────────────┤\n",
              "│ dropout_2 (<span style=\"color: #0087ff; text-decoration-color: #0087ff\">Dropout</span>)             │ (<span style=\"color: #00d7ff; text-decoration-color: #00d7ff\">None</span>, <span style=\"color: #00af00; text-decoration-color: #00af00\">1280</span>)           │             <span style=\"color: #00af00; text-decoration-color: #00af00\">0</span> │\n",
              "├─────────────────────────────────┼────────────────────────┼───────────────┤\n",
              "│ dense_4 (<span style=\"color: #0087ff; text-decoration-color: #0087ff\">Dense</span>)                 │ (<span style=\"color: #00d7ff; text-decoration-color: #00d7ff\">None</span>, <span style=\"color: #00af00; text-decoration-color: #00af00\">128</span>)            │       <span style=\"color: #00af00; text-decoration-color: #00af00\">163,968</span> │\n",
              "├─────────────────────────────────┼────────────────────────┼───────────────┤\n",
              "│ dropout_3 (<span style=\"color: #0087ff; text-decoration-color: #0087ff\">Dropout</span>)             │ (<span style=\"color: #00d7ff; text-decoration-color: #00d7ff\">None</span>, <span style=\"color: #00af00; text-decoration-color: #00af00\">128</span>)            │             <span style=\"color: #00af00; text-decoration-color: #00af00\">0</span> │\n",
              "├─────────────────────────────────┼────────────────────────┼───────────────┤\n",
              "│ dense_5 (<span style=\"color: #0087ff; text-decoration-color: #0087ff\">Dense</span>)                 │ (<span style=\"color: #00d7ff; text-decoration-color: #00d7ff\">None</span>, <span style=\"color: #00af00; text-decoration-color: #00af00\">1</span>)              │           <span style=\"color: #00af00; text-decoration-color: #00af00\">129</span> │\n",
              "└─────────────────────────────────┴────────────────────────┴───────────────┘\n",
              "</pre>\n"
            ]
          },
          "metadata": {}
        },
        {
          "output_type": "display_data",
          "data": {
            "text/plain": [
              "\u001b[1m Total params: \u001b[0m\u001b[38;5;34m4,213,668\u001b[0m (16.07 MB)\n"
            ],
            "text/html": [
              "<pre style=\"white-space:pre;overflow-x:auto;line-height:normal;font-family:Menlo,'DejaVu Sans Mono',consolas,'Courier New',monospace\"><span style=\"font-weight: bold\"> Total params: </span><span style=\"color: #00af00; text-decoration-color: #00af00\">4,213,668</span> (16.07 MB)\n",
              "</pre>\n"
            ]
          },
          "metadata": {}
        },
        {
          "output_type": "display_data",
          "data": {
            "text/plain": [
              "\u001b[1m Trainable params: \u001b[0m\u001b[38;5;34m164,097\u001b[0m (641.00 KB)\n"
            ],
            "text/html": [
              "<pre style=\"white-space:pre;overflow-x:auto;line-height:normal;font-family:Menlo,'DejaVu Sans Mono',consolas,'Courier New',monospace\"><span style=\"font-weight: bold\"> Trainable params: </span><span style=\"color: #00af00; text-decoration-color: #00af00\">164,097</span> (641.00 KB)\n",
              "</pre>\n"
            ]
          },
          "metadata": {}
        },
        {
          "output_type": "display_data",
          "data": {
            "text/plain": [
              "\u001b[1m Non-trainable params: \u001b[0m\u001b[38;5;34m4,049,571\u001b[0m (15.45 MB)\n"
            ],
            "text/html": [
              "<pre style=\"white-space:pre;overflow-x:auto;line-height:normal;font-family:Menlo,'DejaVu Sans Mono',consolas,'Courier New',monospace\"><span style=\"font-weight: bold\"> Non-trainable params: </span><span style=\"color: #00af00; text-decoration-color: #00af00\">4,049,571</span> (15.45 MB)\n",
              "</pre>\n"
            ]
          },
          "metadata": {}
        },
        {
          "output_type": "stream",
          "name": "stderr",
          "text": [
            "/usr/local/lib/python3.12/dist-packages/keras/src/trainers/data_adapters/py_dataset_adapter.py:121: UserWarning: Your `PyDataset` class should call `super().__init__(**kwargs)` in its constructor. `**kwargs` can include `workers`, `use_multiprocessing`, `max_queue_size`. Do not pass these arguments to `fit()`, as they will be ignored.\n",
            "  self._warn_if_super_not_called()\n"
          ]
        },
        {
          "output_type": "stream",
          "name": "stdout",
          "text": [
            "Epoch 1/10\n",
            "\u001b[1m12/12\u001b[0m \u001b[32m━━━━━━━━━━━━━━━━━━━━\u001b[0m\u001b[37m\u001b[0m \u001b[1m42s\u001b[0m 2s/step - accuracy: 0.4523 - loss: 0.7371 - val_accuracy: 0.7753 - val_loss: 0.6783\n",
            "Epoch 2/10\n",
            "\u001b[1m12/12\u001b[0m \u001b[32m━━━━━━━━━━━━━━━━━━━━\u001b[0m\u001b[37m\u001b[0m \u001b[1m16s\u001b[0m 1s/step - accuracy: 0.4462 - loss: 0.7513 - val_accuracy: 0.7753 - val_loss: 0.5804\n",
            "Epoch 3/10\n",
            "\u001b[1m12/12\u001b[0m \u001b[32m━━━━━━━━━━━━━━━━━━━━\u001b[0m\u001b[37m\u001b[0m \u001b[1m14s\u001b[0m 1s/step - accuracy: 0.4493 - loss: 0.7946 - val_accuracy: 0.2247 - val_loss: 0.7301\n",
            "Epoch 4/10\n",
            "\u001b[1m12/12\u001b[0m \u001b[32m━━━━━━━━━━━━━━━━━━━━\u001b[0m\u001b[37m\u001b[0m \u001b[1m14s\u001b[0m 1s/step - accuracy: 0.5059 - loss: 0.6854 - val_accuracy: 0.2247 - val_loss: 0.7456\n",
            "Epoch 5/10\n",
            "\u001b[1m12/12\u001b[0m \u001b[32m━━━━━━━━━━━━━━━━━━━━\u001b[0m\u001b[37m\u001b[0m \u001b[1m15s\u001b[0m 1s/step - accuracy: 0.4868 - loss: 0.6930 - val_accuracy: 0.7865 - val_loss: 0.6905\n",
            "Epoch 6/10\n",
            "\u001b[1m12/12\u001b[0m \u001b[32m━━━━━━━━━━━━━━━━━━━━\u001b[0m\u001b[37m\u001b[0m \u001b[1m14s\u001b[0m 1s/step - accuracy: 0.5039 - loss: 0.7426 - val_accuracy: 0.7753 - val_loss: 0.6559\n",
            "Epoch 7/10\n",
            "\u001b[1m12/12\u001b[0m \u001b[32m━━━━━━━━━━━━━━━━━━━━\u001b[0m\u001b[37m\u001b[0m \u001b[1m20s\u001b[0m 1s/step - accuracy: 0.6508 - loss: 0.7189 - val_accuracy: 0.7753 - val_loss: 0.6358\n",
            "Epoch 8/10\n",
            "\u001b[1m12/12\u001b[0m \u001b[32m━━━━━━━━━━━━━━━━━━━━\u001b[0m\u001b[37m\u001b[0m \u001b[1m13s\u001b[0m 1s/step - accuracy: 0.4846 - loss: 0.7328 - val_accuracy: 0.2247 - val_loss: 0.7538\n",
            "Epoch 9/10\n",
            "\u001b[1m12/12\u001b[0m \u001b[32m━━━━━━━━━━━━━━━━━━━━\u001b[0m\u001b[37m\u001b[0m \u001b[1m13s\u001b[0m 1s/step - accuracy: 0.3809 - loss: 0.7101 - val_accuracy: 0.2247 - val_loss: 0.6983\n",
            "Epoch 10/10\n",
            "\u001b[1m12/12\u001b[0m \u001b[32m━━━━━━━━━━━━━━━━━━━━\u001b[0m\u001b[37m\u001b[0m \u001b[1m12s\u001b[0m 926ms/step - accuracy: 0.4888 - loss: 0.6625 - val_accuracy: 0.2247 - val_loss: 0.7756\n",
            "Epoch 1/20\n",
            "\u001b[1m12/12\u001b[0m \u001b[32m━━━━━━━━━━━━━━━━━━━━\u001b[0m\u001b[37m\u001b[0m \u001b[1m121s\u001b[0m 4s/step - accuracy: 0.5471 - loss: 0.8340 - val_accuracy: 0.2247 - val_loss: 0.7071\n",
            "Epoch 2/20\n",
            "\u001b[1m12/12\u001b[0m \u001b[32m━━━━━━━━━━━━━━━━━━━━\u001b[0m\u001b[37m\u001b[0m \u001b[1m41s\u001b[0m 3s/step - accuracy: 0.6071 - loss: 0.8108 - val_accuracy: 0.4944 - val_loss: 0.6928\n",
            "Epoch 3/20\n",
            "\u001b[1m12/12\u001b[0m \u001b[32m━━━━━━━━━━━━━━━━━━━━\u001b[0m\u001b[37m\u001b[0m \u001b[1m40s\u001b[0m 3s/step - accuracy: 0.6234 - loss: 0.7583 - val_accuracy: 0.2247 - val_loss: 0.7264\n",
            "Epoch 4/20\n",
            "\u001b[1m12/12\u001b[0m \u001b[32m━━━━━━━━━━━━━━━━━━━━\u001b[0m\u001b[37m\u001b[0m \u001b[1m40s\u001b[0m 3s/step - accuracy: 0.6447 - loss: 0.6914 - val_accuracy: 0.2247 - val_loss: 0.6984\n",
            "Epoch 5/20\n",
            "\u001b[1m12/12\u001b[0m \u001b[32m━━━━━━━━━━━━━━━━━━━━\u001b[0m\u001b[37m\u001b[0m \u001b[1m41s\u001b[0m 3s/step - accuracy: 0.6554 - loss: 0.7098 - val_accuracy: 0.7303 - val_loss: 0.6854\n",
            "Epoch 6/20\n",
            "\u001b[1m12/12\u001b[0m \u001b[32m━━━━━━━━━━━━━━━━━━━━\u001b[0m\u001b[37m\u001b[0m \u001b[1m39s\u001b[0m 3s/step - accuracy: 0.6391 - loss: 0.6773 - val_accuracy: 0.7416 - val_loss: 0.6846\n",
            "Epoch 7/20\n",
            "\u001b[1m12/12\u001b[0m \u001b[32m━━━━━━━━━━━━━━━━━━━━\u001b[0m\u001b[37m\u001b[0m \u001b[1m40s\u001b[0m 3s/step - accuracy: 0.6890 - loss: 0.6448 - val_accuracy: 0.6966 - val_loss: 0.6892\n",
            "Epoch 8/20\n",
            "\u001b[1m12/12\u001b[0m \u001b[32m━━━━━━━━━━━━━━━━━━━━\u001b[0m\u001b[37m\u001b[0m \u001b[1m41s\u001b[0m 3s/step - accuracy: 0.6265 - loss: 0.6636 - val_accuracy: 0.6067 - val_loss: 0.6930\n",
            "Epoch 9/20\n",
            "\u001b[1m12/12\u001b[0m \u001b[32m━━━━━━━━━━━━━━━━━━━━\u001b[0m\u001b[37m\u001b[0m \u001b[1m39s\u001b[0m 3s/step - accuracy: 0.6562 - loss: 0.6547 - val_accuracy: 0.6854 - val_loss: 0.6905\n",
            "Epoch 10/20\n",
            "\u001b[1m12/12\u001b[0m \u001b[32m━━━━━━━━━━━━━━━━━━━━\u001b[0m\u001b[37m\u001b[0m \u001b[1m41s\u001b[0m 3s/step - accuracy: 0.6970 - loss: 0.6566 - val_accuracy: 0.6742 - val_loss: 0.6819\n",
            "Epoch 11/20\n",
            "\u001b[1m12/12\u001b[0m \u001b[32m━━━━━━━━━━━━━━━━━━━━\u001b[0m\u001b[37m\u001b[0m \u001b[1m38s\u001b[0m 3s/step - accuracy: 0.6753 - loss: 0.5821 - val_accuracy: 0.7528 - val_loss: 0.6583\n",
            "Epoch 12/20\n",
            "\u001b[1m12/12\u001b[0m \u001b[32m━━━━━━━━━━━━━━━━━━━━\u001b[0m\u001b[37m\u001b[0m \u001b[1m41s\u001b[0m 3s/step - accuracy: 0.6042 - loss: 0.7226 - val_accuracy: 0.7640 - val_loss: 0.6396\n",
            "Epoch 13/20\n",
            "\u001b[1m12/12\u001b[0m \u001b[32m━━━━━━━━━━━━━━━━━━━━\u001b[0m\u001b[37m\u001b[0m \u001b[1m41s\u001b[0m 3s/step - accuracy: 0.6722 - loss: 0.6370 - val_accuracy: 0.7753 - val_loss: 0.6270\n",
            "Epoch 14/20\n",
            "\u001b[1m12/12\u001b[0m \u001b[32m━━━━━━━━━━━━━━━━━━━━\u001b[0m\u001b[37m\u001b[0m \u001b[1m48s\u001b[0m 4s/step - accuracy: 0.6454 - loss: 0.6724 - val_accuracy: 0.7753 - val_loss: 0.6206\n",
            "Epoch 15/20\n",
            "\u001b[1m12/12\u001b[0m \u001b[32m━━━━━━━━━━━━━━━━━━━━\u001b[0m\u001b[37m\u001b[0m \u001b[1m43s\u001b[0m 4s/step - accuracy: 0.6923 - loss: 0.6320 - val_accuracy: 0.7753 - val_loss: 0.6146\n",
            "Epoch 16/20\n",
            "\u001b[1m12/12\u001b[0m \u001b[32m━━━━━━━━━━━━━━━━━━━━\u001b[0m\u001b[37m\u001b[0m \u001b[1m43s\u001b[0m 4s/step - accuracy: 0.7149 - loss: 0.5555 - val_accuracy: 0.7753 - val_loss: 0.5982\n",
            "Epoch 17/20\n",
            "\u001b[1m12/12\u001b[0m \u001b[32m━━━━━━━━━━━━━━━━━━━━\u001b[0m\u001b[37m\u001b[0m \u001b[1m39s\u001b[0m 3s/step - accuracy: 0.7120 - loss: 0.5850 - val_accuracy: 0.7753 - val_loss: 0.5836\n",
            "Epoch 18/20\n",
            "\u001b[1m12/12\u001b[0m \u001b[32m━━━━━━━━━━━━━━━━━━━━\u001b[0m\u001b[37m\u001b[0m \u001b[1m42s\u001b[0m 3s/step - accuracy: 0.7057 - loss: 0.6175 - val_accuracy: 0.7753 - val_loss: 0.5786\n",
            "Epoch 19/20\n",
            "\u001b[1m12/12\u001b[0m \u001b[32m━━━━━━━━━━━━━━━━━━━━\u001b[0m\u001b[37m\u001b[0m \u001b[1m44s\u001b[0m 4s/step - accuracy: 0.6465 - loss: 0.7209 - val_accuracy: 0.7753 - val_loss: 0.5763\n",
            "Epoch 20/20\n",
            "\u001b[1m12/12\u001b[0m \u001b[32m━━━━━━━━━━━━━━━━━━━━\u001b[0m\u001b[37m\u001b[0m \u001b[1m41s\u001b[0m 3s/step - accuracy: 0.7794 - loss: 0.5722 - val_accuracy: 0.7753 - val_loss: 0.5734\n",
            "Model saved!\n"
          ]
        }
      ]
    },
    {
      "cell_type": "code",
      "source": [
        "import numpy as np\n",
        "from sklearn.metrics import confusion_matrix, classification_report\n",
        "import matplotlib.pyplot as plt\n",
        "import seaborn as sns\n",
        "import tensorflow as tf\n",
        "\n",
        "# Load model\n",
        "model = tf.keras.models.load_model(\"/content/drive/MyDrive/Objective2/tampered_cnn_transfer_learning.keras\")\n",
        "\n",
        "# Assume X_test and y_test are your test data and labels (one-hot encoded or integer labels)\n",
        "# Agar y_test one-hot encoded hai toh usse integer labels me convert karo:\n",
        "if len(y_test.shape) > 1 and y_test.shape[1] > 1:\n",
        "    y_true = np.argmax(y_test, axis=1)\n",
        "else:\n",
        "    y_true = y_test\n",
        "\n",
        "# Predictions (probabilities)\n",
        "y_pred_probs = model.predict(X_test)\n",
        "# Class predictions (integer labels)\n",
        "y_pred = np.argmax(y_pred_probs, axis=1)\n",
        "\n",
        "# Confusion matrix\n",
        "cm = confusion_matrix(y_true, y_pred)\n",
        "print(\"Confusion Matrix:\")\n",
        "print(cm)\n",
        "\n",
        "# Plot confusion matrix\n",
        "plt.figure(figsize=(6,5))\n",
        "sns.heatmap(cm, annot=True, fmt=\"d\", cmap=\"Blues\",\n",
        "            xticklabels=[\"Original\", \"Tampered\"],\n",
        "            yticklabels=[\"Original\", \"Tampered\"])\n",
        "plt.xlabel(\"Predicted Label\")\n",
        "plt.ylabel(\"True Label\")\n",
        "plt.title(\"Confusion Matrix\")\n",
        "plt.show()\n",
        "\n",
        "# Classification report for detailed metrics\n",
        "print(\"\\nClassification Report:\")\n",
        "print(classification_report(y_true, y_pred, target_names=[\"Original\", \"Tampered\"]))\n"
      ],
      "metadata": {
        "colab": {
          "base_uri": "https://localhost:8080/",
          "height": 871
        },
        "id": "M_QLtOpVAwDJ",
        "outputId": "a45bf263-64c1-4f38-e5bf-9bc3d752f41a"
      },
      "execution_count": null,
      "outputs": [
        {
          "output_type": "stream",
          "name": "stdout",
          "text": [
            "\u001b[1m3/3\u001b[0m \u001b[32m━━━━━━━━━━━━━━━━━━━━\u001b[0m\u001b[37m\u001b[0m \u001b[1m8s\u001b[0m 2s/step\n",
            "Confusion Matrix:\n",
            "[[74  0]\n",
            " [20  0]]\n"
          ]
        },
        {
          "output_type": "display_data",
          "data": {
            "text/plain": [
              "<Figure size 600x500 with 2 Axes>"
            ],
            "image/png": "[encoded data removed]"
          },
          "metadata": {}
        },
        {
          "output_type": "stream",
          "name": "stdout",
          "text": [
            "\n",
            "Classification Report:\n",
            "              precision    recall  f1-score   support\n",
            "\n",
            "    Original       0.79      1.00      0.88        74\n",
            "    Tampered       0.00      0.00      0.00        20\n",
            "\n",
            "    accuracy                           0.79        94\n",
            "   macro avg       0.39      0.50      0.44        94\n",
            "weighted avg       0.62      0.79      0.69        94\n",
            "\n"
          ]
        },
        {
          "output_type": "stream",
          "name": "stderr",
          "text": [
            "/usr/local/lib/python3.12/dist-packages/sklearn/metrics/_classification.py:1565: UndefinedMetricWarning: Precision is ill-defined and being set to 0.0 in labels with no predicted samples. Use `zero_division` parameter to control this behavior.\n",
            "  _warn_prf(average, modifier, f\"{metric.capitalize()} is\", len(result))\n",
            "/usr/local/lib/python3.12/dist-packages/sklearn/metrics/_classification.py:1565: UndefinedMetricWarning: Precision is ill-defined and being set to 0.0 in labels with no predicted samples. Use `zero_division` parameter to control this behavior.\n",
            "  _warn_prf(average, modifier, f\"{metric.capitalize()} is\", len(result))\n",
            "/usr/local/lib/python3.12/dist-packages/sklearn/metrics/_classification.py:1565: UndefinedMetricWarning: Precision is ill-defined and being set to 0.0 in labels with no predicted samples. Use `zero_division` parameter to control this behavior.\n",
            "  _warn_prf(average, modifier, f\"{metric.capitalize()} is\", len(result))\n"
          ]
        }
      ]
    },
    {
      "cell_type": "code",
      "source": [
        "import matplotlib.pyplot as plt\n",
        "\n",
        "def plot_training(history):\n",
        "    # Accuracy plot\n",
        "    plt.figure(figsize=(12,5))\n",
        "    plt.subplot(1,2,1)\n",
        "    plt.plot(history.history['accuracy'], label='Train Accuracy')\n",
        "    plt.plot(history.history['val_accuracy'], label='Validation Accuracy')\n",
        "    plt.title('Accuracy Curve')\n",
        "    plt.xlabel('Epochs')\n",
        "    plt.ylabel('Accuracy')\n",
        "    plt.legend()\n",
        "\n",
        "    # Loss plot\n",
        "    plt.subplot(1,2,2)\n",
        "    plt.plot(history.history['loss'], label='Train Loss')\n",
        "    plt.plot(history.history['val_loss'], label='Validation Loss')\n",
        "    plt.title('Loss Curve')\n",
        "    plt.xlabel('Epochs')\n",
        "    plt.ylabel('Loss')\n",
        "    plt.legend()\n",
        "\n",
        "    plt.show()\n",
        "\n",
        "# Usage:\n",
        "# Agar tumne pehle freeze stage me train kiya tha toh:\n",
        "plot_training(history)\n",
        "\n",
        "# Fir fine-tuning stage ke baad:\n",
        "plot_training(history_finetune)\n"
      ],
      "metadata": {
        "colab": {
          "base_uri": "https://localhost:8080/",
          "height": 657
        },
        "id": "d-OmuzXr9REJ",
        "outputId": "8c31223d-af6c-4efe-9876-a4e5f044f561"
      },
      "execution_count": null,
      "outputs": [
        {
          "output_type": "display_data",
          "data": {
            "text/plain": [
              "<Figure size 1200x500 with 2 Axes>"
            ],
            "image/png": "[encoded data removed]"
          },
          "metadata": {}
        },
        {
          "output_type": "display_data",
          "data": {
            "text/plain": [
              "<Figure size 1200x500 with 2 Axes>"
            ],
            "image/png": "[encoded data removed]"
          },
          "metadata": {}
        }
      ]
    },
    {
      "cell_type": "code",
      "source": [
        "import numpy as np\n",
        "import joblib\n",
        "from tensorflow.keras.models import load_model\n",
        "from sklearn.metrics import accuracy_score, classification_report, confusion_matrix\n",
        "from scipy.stats import mode\n",
        "import matplotlib.pyplot as plt\n",
        "import seaborn as sns\n",
        "\n",
        "# ======================\n",
        "# 1️⃣ Load Saved Models\n",
        "# ======================\n",
        "xgb_model = joblib.load(\"/content/drive/MyDrive/Objective2/xgb_model.pkl\")\n",
        "cnn_model = load_model(\"/content/drive/MyDrive/Objective2/tampered_cnn.keras\")\n",
        "\n",
        "# ======================\n",
        "# 2️⃣ Prepare Test Sets\n",
        "# ======================\n",
        "# NOTE: y_test and X_test must already be loaded from your dataset step\n",
        "\n",
        "# y_true (convert one-hot to integer if needed)\n",
        "if len(y_test.shape) > 1 and y_test.shape[1] > 1:\n",
        "    y_true = np.argmax(y_test, axis=1)\n",
        "else:\n",
        "    y_true = y_test\n",
        "\n",
        "# XGB needs flattened features\n",
        "X_test_xgb = X_test.reshape(len(X_test), -1)        # shape (N,16384)\n",
        "\n",
        "# CNN needs 128x128x1 images\n",
        "X_test_cnn = X_test.reshape(len(X_test), 128,128,1) # shape (N,128,128,1)\n",
        "\n",
        "# ======================\n",
        "# 3️⃣ Predictions\n",
        "# ======================\n",
        "# XGBoost\n",
        "y_pred_xgb = xgb_model.predict(X_test_xgb)\n",
        "proba_xgb = xgb_model.predict_proba(X_test_xgb)[:,1]\n",
        "\n",
        "# CNN\n",
        "y_pred_cnn_probs = cnn_model.predict(X_test_cnn)\n",
        "y_pred_cnn = np.argmax(y_pred_cnn_probs, axis=1)\n",
        "\n",
        "if cnn_model.output_shape[-1] == 1:\n",
        "    proba_cnn = y_pred_cnn_probs[:,0]  # sigmoid output\n",
        "else:\n",
        "    proba_cnn = y_pred_cnn_probs[:,1]  # softmax tampered class\n",
        "\n",
        "# ======================\n",
        "# 4️⃣ Majority Voting\n",
        "# ======================\n",
        "preds = np.vstack([y_pred_xgb, y_pred_cnn]).T\n",
        "y_pred_voting = mode(preds, axis=1).mode.flatten()\n",
        "\n",
        "print(\"✅ Ensemble Majority Voting Accuracy:\", accuracy_score(y_true, y_pred_voting))\n",
        "print(\"\\n📊 Report (Voting):\\n\", classification_report(y_true, y_pred_voting))\n",
        "\n",
        "cm_voting = confusion_matrix(y_true, y_pred_voting)\n",
        "plt.figure(figsize=(6,5))\n",
        "sns.heatmap(cm_voting, annot=True, fmt='d', cmap='Blues',\n",
        "            xticklabels=[\"Original\", \"Tampered\"],\n",
        "            yticklabels=[\"Original\", \"Tampered\"])\n",
        "plt.xlabel(\"Predicted Label\")\n",
        "plt.ylabel(\"True Label\")\n",
        "plt.title(\"Confusion Matrix (Voting)\")\n",
        "plt.show()\n",
        "\n",
        "# ======================\n",
        "# 5️⃣ Weighted Ensemble\n",
        "# ======================\n",
        "final_proba = 0.6*proba_cnn + 0.4*proba_xgb   # tweak weights if needed\n",
        "y_pred_weighted = (final_proba > 0.5).astype(int)\n",
        "\n",
        "print(\"\\n✅ Weighted Ensemble Accuracy:\", accuracy_score(y_true, y_pred_weighted))\n",
        "print(\"\\n📊 Report (Weighted):\\n\", classification_report(y_true, y_pred_weighted))\n",
        "\n",
        "cm_weighted = confusion_matrix(y_true, y_pred_weighted)\n",
        "plt.figure(figsize=(6,5))\n",
        "sns.heatmap(cm_weighted, annot=True, fmt='d', cmap='Greens',\n",
        "            xticklabels=[\"Original\", \"Tampered\"],\n",
        "            yticklabels=[\"Original\", \"Tampered\"])\n",
        "plt.xlabel(\"Predicted Label\")\n",
        "plt.ylabel(\"True Label\")\n",
        "plt.title(\"Confusion Matrix (Weighted)\")\n",
        "plt.show()\n"
      ],
      "metadata": {
        "colab": {
          "base_uri": "https://localhost:8080/",
          "height": 1000
        },
        "id": "Bd3esiQ-4a-x",
        "outputId": "c5d48a72-7c5e-4850-aeff-8f7e159616ab"
      },
      "execution_count": null,
      "outputs": [
        {
          "output_type": "stream",
          "name": "stdout",
          "text": [
            "\u001b[1m3/3\u001b[0m \u001b[32m━━━━━━━━━━━━━━━━━━━━\u001b[0m\u001b[37m\u001b[0m \u001b[1m3s\u001b[0m 978ms/step\n",
            "✅ Ensemble Majority Voting Accuracy: 0.8089887640449438\n",
            "\n",
            "📊 Report (Voting):\n",
            "               precision    recall  f1-score   support\n",
            "\n",
            "           0       0.88      0.87      0.88        69\n",
            "           1       0.57      0.60      0.59        20\n",
            "\n",
            "    accuracy                           0.81        89\n",
            "   macro avg       0.73      0.73      0.73        89\n",
            "weighted avg       0.81      0.81      0.81        89\n",
            "\n"
          ]
        },
        {
          "output_type": "display_data",
          "data": {
            "text/plain": [
              "<Figure size 600x500 with 2 Axes>"
            ],
            "image/png": "[encoded data removed]"
          },
          "metadata": {}
        },
        {
          "output_type": "stream",
          "name": "stdout",
          "text": [
            "\n",
            "✅ Weighted Ensemble Accuracy: 0.8764044943820225\n",
            "\n",
            "📊 Report (Weighted):\n",
            "               precision    recall  f1-score   support\n",
            "\n",
            "           0       1.00      0.84      0.91        69\n",
            "           1       0.65      1.00      0.78        20\n",
            "\n",
            "    accuracy                           0.88        89\n",
            "   macro avg       0.82      0.92      0.85        89\n",
            "weighted avg       0.92      0.88      0.88        89\n",
            "\n"
          ]
        },
        {
          "output_type": "display_data",
          "data": {
            "text/plain": [
              "<Figure size 600x500 with 2 Axes>"
            ],
            "image/png": "[encoded data removed]"
          },
          "metadata": {}
        }
      ]
    }
  ]
}